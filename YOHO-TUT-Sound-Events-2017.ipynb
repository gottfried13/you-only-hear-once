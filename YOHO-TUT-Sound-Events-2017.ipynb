{
  "nbformat": 4,
  "nbformat_minor": 0,
  "metadata": {
    "colab": {
      "name": "YOHO-TUT-Sound-Events-2017.ipynb",
      "provenance": [],
      "collapsed_sections": [],
      "mount_file_id": "165_vujOAokKgMcXS1WxcRdmthKfE96mw",
      "authorship_tag": "ABX9TyMhxdsOUIGqWXG43lvFCZmk",
      "include_colab_link": true
    },
    "kernelspec": {
      "name": "python3",
      "display_name": "Python 3"
    },
    "language_info": {
      "name": "python"
    },
    "accelerator": "GPU"
  },
  "cells": [
    {
      "cell_type": "markdown",
      "metadata": {
        "id": "view-in-github",
        "colab_type": "text"
      },
      "source": [
        "<a href=\"https://colab.research.google.com/github/satvik-venkatesh/you-only-hear-once/blob/main/YOHO-TUT-Sound-Events-2017.ipynb\" target=\"_parent\"><img src=\"https://colab.research.google.com/assets/colab-badge.svg\" alt=\"Open In Colab\"/></a>"
      ]
    },
    {
      "cell_type": "code",
      "metadata": {
        "id": "HJjOWmynluge"
      },
      "source": [
        "from zipfile import ZipFile\n",
        "import glob"
      ],
      "execution_count": 1,
      "outputs": []
    },
    {
      "cell_type": "markdown",
      "metadata": {
        "id": "5mXIf6EgcMSx"
      },
      "source": [
        "# Download development dataset from [zenodo](https://zenodo.org/record/400516#.YTjxSJ1KhPY)"
      ]
    },
    {
      "cell_type": "code",
      "metadata": {
        "id": "E3mBEERNe24G"
      },
      "source": [
        "!mkdir \"/content/DevelopmentZipped/\""
      ],
      "execution_count": 10,
      "outputs": []
    },
    {
      "cell_type": "code",
      "metadata": {
        "colab": {
          "base_uri": "https://localhost:8080/"
        },
        "id": "9-cdm8IJb92T",
        "outputId": "fb58575d-4a7c-4d39-bb1d-01f702431fa7"
      },
      "source": [
        "!wget https://zenodo.org/record/814831/files/TUT-sound-events-2017-development.audio.1.zip?download=1 -O /content/DevelopmentZipped/TUT-sound-events-2017-development.audio.1.zip"
      ],
      "execution_count": 13,
      "outputs": [
        {
          "output_type": "stream",
          "name": "stdout",
          "text": [
            "--2021-09-08 17:37:05--  https://zenodo.org/record/814831/files/TUT-sound-events-2017-development.audio.1.zip?download=1\n",
            "Resolving zenodo.org (zenodo.org)... 137.138.76.77\n",
            "Connecting to zenodo.org (zenodo.org)|137.138.76.77|:443... connected.\n",
            "HTTP request sent, awaiting response... 200 OK\n",
            "Length: 1062653169 (1013M) [application/octet-stream]\n",
            "Saving to: ‘/content/DevelopmentZipped/TUT-sound-events-2017-development.audio.1.zip’\n",
            "\n",
            "/content/Developmen 100%[===================>]   1013M  18.3MB/s    in 59s     \n",
            "\n",
            "2021-09-08 17:38:06 (17.2 MB/s) - ‘/content/DevelopmentZipped/TUT-sound-events-2017-development.audio.1.zip’ saved [1062653169/1062653169]\n",
            "\n"
          ]
        }
      ]
    },
    {
      "cell_type": "code",
      "metadata": {
        "colab": {
          "base_uri": "https://localhost:8080/"
        },
        "id": "XqCSDTsdcLtH",
        "outputId": "7c1d8176-6923-4477-fd24-71666189c7cc"
      },
      "source": [
        "!wget https://zenodo.org/record/814831/files/TUT-sound-events-2017-development.audio.2.zip?download=1 -O /content/DevelopmentZipped/TUT-sound-events-2017-development.audio.2.zip"
      ],
      "execution_count": 14,
      "outputs": [
        {
          "output_type": "stream",
          "name": "stdout",
          "text": [
            "--2021-09-08 17:38:12--  https://zenodo.org/record/814831/files/TUT-sound-events-2017-development.audio.2.zip?download=1\n",
            "Resolving zenodo.org (zenodo.org)... 137.138.76.77\n",
            "Connecting to zenodo.org (zenodo.org)|137.138.76.77|:443... connected.\n",
            "HTTP request sent, awaiting response... 200 OK\n",
            "Length: 213232458 (203M) [application/octet-stream]\n",
            "Saving to: ‘/content/DevelopmentZipped/TUT-sound-events-2017-development.audio.2.zip’\n",
            "\n",
            "/content/Developmen 100%[===================>] 203.35M  17.7MB/s    in 12s     \n",
            "\n",
            "2021-09-08 17:38:26 (16.5 MB/s) - ‘/content/DevelopmentZipped/TUT-sound-events-2017-development.audio.2.zip’ saved [213232458/213232458]\n",
            "\n"
          ]
        }
      ]
    },
    {
      "cell_type": "code",
      "metadata": {
        "colab": {
          "base_uri": "https://localhost:8080/"
        },
        "id": "eBLs_HNzc1Ck",
        "outputId": "8aae49ab-3005-4e25-c948-a1e190c197c1"
      },
      "source": [
        "!wget https://zenodo.org/record/814831/files/TUT-sound-events-2017-development.doc.zip?download=1 -O /content/DevelopmentZipped/TUT-sound-events-2017-development.doc.zip"
      ],
      "execution_count": 11,
      "outputs": [
        {
          "output_type": "stream",
          "name": "stdout",
          "text": [
            "--2021-09-08 17:36:35--  https://zenodo.org/record/814831/files/TUT-sound-events-2017-development.doc.zip?download=1\n",
            "Resolving zenodo.org (zenodo.org)... 137.138.76.77\n",
            "Connecting to zenodo.org (zenodo.org)|137.138.76.77|:443... connected.\n",
            "HTTP request sent, awaiting response... 200 OK\n",
            "Length: 56150 (55K) [application/octet-stream]\n",
            "Saving to: ‘/content/DevelopmentZipped/TUT-sound-events-2017-development.doc.zip’\n",
            "\n",
            "/content/Developmen 100%[===================>]  54.83K   353KB/s    in 0.2s    \n",
            "\n",
            "2021-09-08 17:36:37 (353 KB/s) - ‘/content/DevelopmentZipped/TUT-sound-events-2017-development.doc.zip’ saved [56150/56150]\n",
            "\n"
          ]
        }
      ]
    },
    {
      "cell_type": "code",
      "metadata": {
        "colab": {
          "base_uri": "https://localhost:8080/"
        },
        "id": "PMQj7UfAc59M",
        "outputId": "ef2d5469-0f09-48cc-8f91-1a0200fb0f5d"
      },
      "source": [
        "!wget https://zenodo.org/record/814831/files/TUT-sound-events-2017-development.meta.zip?download=1 -O /content/DevelopmentZipped/TUT-sound-events-2017-development.meta.zip"
      ],
      "execution_count": 12,
      "outputs": [
        {
          "output_type": "stream",
          "name": "stdout",
          "text": [
            "--2021-09-08 17:36:40--  https://zenodo.org/record/814831/files/TUT-sound-events-2017-development.meta.zip?download=1\n",
            "Resolving zenodo.org (zenodo.org)... 137.138.76.77\n",
            "Connecting to zenodo.org (zenodo.org)|137.138.76.77|:443... connected.\n",
            "HTTP request sent, awaiting response... 200 OK\n",
            "Length: 140684 (137K) [application/octet-stream]\n",
            "Saving to: ‘/content/DevelopmentZipped/TUT-sound-events-2017-development.meta.zip’\n",
            "\n",
            "/content/Developmen 100%[===================>] 137.39K   220KB/s    in 0.6s    \n",
            "\n",
            "2021-09-08 17:36:42 (220 KB/s) - ‘/content/DevelopmentZipped/TUT-sound-events-2017-development.meta.zip’ saved [140684/140684]\n",
            "\n"
          ]
        }
      ]
    },
    {
      "cell_type": "code",
      "metadata": {
        "id": "9sms_5o4mUmu"
      },
      "source": [
        "g = glob.glob(\"/content/DevelopmentZipped/*.zip\")\n",
        "\n",
        "for gg in g:\n",
        "  zip_name = gg\n",
        "  with ZipFile(zip_name, 'r') as zip:\n",
        "    zip.extractall('/content/development')"
      ],
      "execution_count": 15,
      "outputs": []
    },
    {
      "cell_type": "markdown",
      "metadata": {
        "id": "EIQ63r_RfkFj"
      },
      "source": [
        "# Download [evaluation dataset](https://zenodo.org/record/1040179#.YTj1dJ1KhPY) from zenodo"
      ]
    },
    {
      "cell_type": "code",
      "metadata": {
        "id": "5Ow94fBufkFj"
      },
      "source": [
        "!mkdir \"/content/EvaluationZipped/\""
      ],
      "execution_count": 16,
      "outputs": []
    },
    {
      "cell_type": "code",
      "metadata": {
        "colab": {
          "base_uri": "https://localhost:8080/"
        },
        "id": "rJ9L2HqAfkFj",
        "outputId": "dd49aae7-3eea-4d07-936b-6865a58f2983"
      },
      "source": [
        "!wget https://zenodo.org/record/1040179/files/TUT-sound-events-2017-evaluation.audio.zip?download=1 -O /content/EvaluationZipped/TUT-sound-events-2017-evaluation.audio.zip"
      ],
      "execution_count": 17,
      "outputs": [
        {
          "output_type": "stream",
          "name": "stdout",
          "text": [
            "--2021-09-08 17:42:44--  https://zenodo.org/record/1040179/files/TUT-sound-events-2017-evaluation.audio.zip?download=1\n",
            "Resolving zenodo.org (zenodo.org)... 137.138.76.77\n",
            "Connecting to zenodo.org (zenodo.org)|137.138.76.77|:443... connected.\n",
            "HTTP request sent, awaiting response... 200 OK\n",
            "Length: 388173790 (370M) [application/octet-stream]\n",
            "Saving to: ‘/content/EvaluationZipped/TUT-sound-events-2017-evaluation.audio.zip’\n",
            "\n",
            "/content/Evaluation 100%[===================>] 370.19M  17.7MB/s    in 22s     \n",
            "\n",
            "2021-09-08 17:43:07 (17.2 MB/s) - ‘/content/EvaluationZipped/TUT-sound-events-2017-evaluation.audio.zip’ saved [388173790/388173790]\n",
            "\n"
          ]
        }
      ]
    },
    {
      "cell_type": "code",
      "metadata": {
        "colab": {
          "base_uri": "https://localhost:8080/"
        },
        "id": "L9J_aSMLfkFk",
        "outputId": "09e5a3dc-e32c-4380-ac0b-f14f6258eb40"
      },
      "source": [
        "!wget https://zenodo.org/record/1040179/files/TUT-sound-events-2017-evaluation.doc.zip?download=1 -O /content/EvaluationZipped/TUT-sound-events-2017-evaluation.doc.zip"
      ],
      "execution_count": 18,
      "outputs": [
        {
          "output_type": "stream",
          "name": "stdout",
          "text": [
            "--2021-09-08 17:43:21--  https://zenodo.org/record/1040179/files/TUT-sound-events-2017-evaluation.doc.zip?download=1\n",
            "Resolving zenodo.org (zenodo.org)... 137.138.76.77\n",
            "Connecting to zenodo.org (zenodo.org)|137.138.76.77|:443... connected.\n",
            "HTTP request sent, awaiting response... 200 OK\n",
            "Length: 55462 (54K) [application/octet-stream]\n",
            "Saving to: ‘/content/EvaluationZipped/TUT-sound-events-2017-evaluation.doc.zip’\n",
            "\n",
            "/content/Evaluation 100%[===================>]  54.16K   174KB/s    in 0.3s    \n",
            "\n",
            "2021-09-08 17:43:23 (174 KB/s) - ‘/content/EvaluationZipped/TUT-sound-events-2017-evaluation.doc.zip’ saved [55462/55462]\n",
            "\n"
          ]
        }
      ]
    },
    {
      "cell_type": "code",
      "metadata": {
        "colab": {
          "base_uri": "https://localhost:8080/"
        },
        "id": "1FbcgN8IfkFk",
        "outputId": "9ba0c9ff-5719-4210-8049-a742c7e6656f"
      },
      "source": [
        "!wget https://zenodo.org/record/1040179/files/TUT-sound-events-2017-evaluation.meta.zip?download=1 -O /content/EvaluationZipped/TUT-sound-events-2017-evaluation.meta.zip"
      ],
      "execution_count": 19,
      "outputs": [
        {
          "output_type": "stream",
          "name": "stdout",
          "text": [
            "--2021-09-08 17:43:25--  https://zenodo.org/record/1040179/files/TUT-sound-events-2017-evaluation.meta.zip?download=1\n",
            "Resolving zenodo.org (zenodo.org)... 137.138.76.77\n",
            "Connecting to zenodo.org (zenodo.org)|137.138.76.77|:443... connected.\n",
            "HTTP request sent, awaiting response... 200 OK\n",
            "Length: 14147 (14K) [application/octet-stream]\n",
            "Saving to: ‘/content/EvaluationZipped/TUT-sound-events-2017-evaluation.meta.zip’\n",
            "\n",
            "/content/Evaluation 100%[===================>]  13.82K  89.3KB/s    in 0.2s    \n",
            "\n",
            "2021-09-08 17:43:26 (89.3 KB/s) - ‘/content/EvaluationZipped/TUT-sound-events-2017-evaluation.meta.zip’ saved [14147/14147]\n",
            "\n"
          ]
        }
      ]
    },
    {
      "cell_type": "code",
      "metadata": {
        "id": "z3J9QMkrnkxM"
      },
      "source": [
        "g = glob.glob(\"/content/EvaluationZipped/*.zip\")\n",
        "\n",
        "for gg in g:\n",
        "  zip_name = gg\n",
        "  with ZipFile(zip_name, 'r') as zip:\n",
        "    zip.extractall('/content/evaluation')"
      ],
      "execution_count": 20,
      "outputs": []
    },
    {
      "cell_type": "markdown",
      "metadata": {
        "id": "bkRc04QOHwA3"
      },
      "source": [
        "# Annotations"
      ]
    },
    {
      "cell_type": "code",
      "metadata": {
        "id": "K5ERDf7PDbKM"
      },
      "source": [
        "import csv"
      ],
      "execution_count": null,
      "outputs": []
    },
    {
      "cell_type": "code",
      "metadata": {
        "id": "v36BZwiSDZg1"
      },
      "source": [
        "def read_annotation(filename):\n",
        "    events = []\n",
        "    with open(filename, 'r') as csvfile:\n",
        "        spamreader = csv.reader(csvfile, delimiter='\\t', quotechar='|')\n",
        "        for row in spamreader:\n",
        "            events.append(row)\n",
        "    return events"
      ],
      "execution_count": null,
      "outputs": []
    },
    {
      "cell_type": "code",
      "metadata": {
        "id": "K6CZDBeoDaPy"
      },
      "source": [
        "events = read_annotation(\"/content/development/TUT-sound-events-2017-development/meta/street/a001.ann\")"
      ],
      "execution_count": null,
      "outputs": []
    },
    {
      "cell_type": "code",
      "metadata": {
        "id": "xcjhqP6-Mbuj"
      },
      "source": [
        "audio_files = glob.glob(\"/content/development/TUT-sound-events-2017-development/audio/street/*.wav\")"
      ],
      "execution_count": null,
      "outputs": []
    },
    {
      "cell_type": "code",
      "metadata": {
        "colab": {
          "base_uri": "https://localhost:8080/"
        },
        "id": "bk481QuDUUwX",
        "outputId": "003e90e7-df0e-42b0-fb2d-93621757c86b"
      },
      "source": [
        "len(audio_files)"
      ],
      "execution_count": null,
      "outputs": [
        {
          "output_type": "execute_result",
          "data": {
            "text/plain": [
              "24"
            ]
          },
          "metadata": {
            "tags": []
          },
          "execution_count": 8
        }
      ]
    },
    {
      "cell_type": "code",
      "metadata": {
        "id": "KmfFkoMZShEW"
      },
      "source": [
        "import soundfile as sf"
      ],
      "execution_count": null,
      "outputs": []
    },
    {
      "cell_type": "code",
      "metadata": {
        "id": "RCmW5jJLS5nY",
        "colab": {
          "base_uri": "https://localhost:8080/"
        },
        "outputId": "07c9f3cb-0572-4d6d-fe95-54054629fc71"
      },
      "source": [
        "!sudo apt-get install sox"
      ],
      "execution_count": null,
      "outputs": [
        {
          "output_type": "stream",
          "text": [
            "Reading package lists... Done\n",
            "Building dependency tree       \n",
            "Reading state information... Done\n",
            "The following additional packages will be installed:\n",
            "  libmagic-mgc libmagic1 libopencore-amrnb0 libopencore-amrwb0 libsox-fmt-alsa\n",
            "  libsox-fmt-base libsox3\n",
            "Suggested packages:\n",
            "  file libsox-fmt-all\n",
            "The following NEW packages will be installed:\n",
            "  libmagic-mgc libmagic1 libopencore-amrnb0 libopencore-amrwb0 libsox-fmt-alsa\n",
            "  libsox-fmt-base libsox3 sox\n",
            "0 upgraded, 8 newly installed, 0 to remove and 39 not upgraded.\n",
            "Need to get 760 kB of archives.\n",
            "After this operation, 6,717 kB of additional disk space will be used.\n",
            "Get:1 http://archive.ubuntu.com/ubuntu bionic/universe amd64 libopencore-amrnb0 amd64 0.1.3-2.1 [92.0 kB]\n",
            "Get:2 http://archive.ubuntu.com/ubuntu bionic/universe amd64 libopencore-amrwb0 amd64 0.1.3-2.1 [45.8 kB]\n",
            "Get:3 http://archive.ubuntu.com/ubuntu bionic-updates/main amd64 libmagic-mgc amd64 1:5.32-2ubuntu0.4 [184 kB]\n",
            "Get:4 http://archive.ubuntu.com/ubuntu bionic-updates/main amd64 libmagic1 amd64 1:5.32-2ubuntu0.4 [68.6 kB]\n",
            "Get:5 http://archive.ubuntu.com/ubuntu bionic-updates/universe amd64 libsox3 amd64 14.4.2-3ubuntu0.18.04.1 [226 kB]\n",
            "Get:6 http://archive.ubuntu.com/ubuntu bionic-updates/universe amd64 libsox-fmt-alsa amd64 14.4.2-3ubuntu0.18.04.1 [10.6 kB]\n",
            "Get:7 http://archive.ubuntu.com/ubuntu bionic-updates/universe amd64 libsox-fmt-base amd64 14.4.2-3ubuntu0.18.04.1 [32.1 kB]\n",
            "Get:8 http://archive.ubuntu.com/ubuntu bionic-updates/universe amd64 sox amd64 14.4.2-3ubuntu0.18.04.1 [101 kB]\n",
            "Fetched 760 kB in 0s (6,304 kB/s)\n",
            "debconf: unable to initialize frontend: Dialog\n",
            "debconf: (No usable dialog-like program is installed, so the dialog based frontend cannot be used. at /usr/share/perl5/Debconf/FrontEnd/Dialog.pm line 76, <> line 8.)\n",
            "debconf: falling back to frontend: Readline\n",
            "debconf: unable to initialize frontend: Readline\n",
            "debconf: (This frontend requires a controlling tty.)\n",
            "debconf: falling back to frontend: Teletype\n",
            "dpkg-preconfigure: unable to re-open stdin: \n",
            "Selecting previously unselected package libopencore-amrnb0:amd64.\n",
            "(Reading database ... 160772 files and directories currently installed.)\n",
            "Preparing to unpack .../0-libopencore-amrnb0_0.1.3-2.1_amd64.deb ...\n",
            "Unpacking libopencore-amrnb0:amd64 (0.1.3-2.1) ...\n",
            "Selecting previously unselected package libopencore-amrwb0:amd64.\n",
            "Preparing to unpack .../1-libopencore-amrwb0_0.1.3-2.1_amd64.deb ...\n",
            "Unpacking libopencore-amrwb0:amd64 (0.1.3-2.1) ...\n",
            "Selecting previously unselected package libmagic-mgc.\n",
            "Preparing to unpack .../2-libmagic-mgc_1%3a5.32-2ubuntu0.4_amd64.deb ...\n",
            "Unpacking libmagic-mgc (1:5.32-2ubuntu0.4) ...\n",
            "Selecting previously unselected package libmagic1:amd64.\n",
            "Preparing to unpack .../3-libmagic1_1%3a5.32-2ubuntu0.4_amd64.deb ...\n",
            "Unpacking libmagic1:amd64 (1:5.32-2ubuntu0.4) ...\n",
            "Selecting previously unselected package libsox3:amd64.\n",
            "Preparing to unpack .../4-libsox3_14.4.2-3ubuntu0.18.04.1_amd64.deb ...\n",
            "Unpacking libsox3:amd64 (14.4.2-3ubuntu0.18.04.1) ...\n",
            "Selecting previously unselected package libsox-fmt-alsa:amd64.\n",
            "Preparing to unpack .../5-libsox-fmt-alsa_14.4.2-3ubuntu0.18.04.1_amd64.deb ...\n",
            "Unpacking libsox-fmt-alsa:amd64 (14.4.2-3ubuntu0.18.04.1) ...\n",
            "Selecting previously unselected package libsox-fmt-base:amd64.\n",
            "Preparing to unpack .../6-libsox-fmt-base_14.4.2-3ubuntu0.18.04.1_amd64.deb ...\n",
            "Unpacking libsox-fmt-base:amd64 (14.4.2-3ubuntu0.18.04.1) ...\n",
            "Selecting previously unselected package sox.\n",
            "Preparing to unpack .../7-sox_14.4.2-3ubuntu0.18.04.1_amd64.deb ...\n",
            "Unpacking sox (14.4.2-3ubuntu0.18.04.1) ...\n",
            "Setting up libmagic-mgc (1:5.32-2ubuntu0.4) ...\n",
            "Setting up libmagic1:amd64 (1:5.32-2ubuntu0.4) ...\n",
            "Setting up libopencore-amrnb0:amd64 (0.1.3-2.1) ...\n",
            "Setting up libopencore-amrwb0:amd64 (0.1.3-2.1) ...\n",
            "Setting up libsox3:amd64 (14.4.2-3ubuntu0.18.04.1) ...\n",
            "Setting up libsox-fmt-base:amd64 (14.4.2-3ubuntu0.18.04.1) ...\n",
            "Setting up libsox-fmt-alsa:amd64 (14.4.2-3ubuntu0.18.04.1) ...\n",
            "Setting up sox (14.4.2-3ubuntu0.18.04.1) ...\n",
            "Processing triggers for libc-bin (2.27-3ubuntu1.2) ...\n",
            "/sbin/ldconfig.real: /usr/local/lib/python3.7/dist-packages/ideep4py/lib/libmkldnn.so.0 is not a symbolic link\n",
            "\n",
            "Processing triggers for man-db (2.8.3-2ubuntu0.1) ...\n",
            "Processing triggers for mime-support (3.60ubuntu1) ...\n"
          ],
          "name": "stdout"
        }
      ]
    },
    {
      "cell_type": "code",
      "metadata": {
        "id": "qrNGE_FhTA-3"
      },
      "source": [
        "from subprocess import Popen, PIPE\n",
        "from os.path import dirname\n",
        "import os"
      ],
      "execution_count": null,
      "outputs": []
    },
    {
      "cell_type": "code",
      "metadata": {
        "id": "SwG5VpfZUeeV"
      },
      "source": [
        "os.makedirs(dirname(audio_files[0]).replace(\"audio\", \"audio-mono\"))"
      ],
      "execution_count": null,
      "outputs": []
    },
    {
      "cell_type": "code",
      "metadata": {
        "colab": {
          "base_uri": "https://localhost:8080/"
        },
        "id": "AeWBWscHTZzq",
        "outputId": "ca51905e-71b8-4020-9824-5a39ba8f7bee"
      },
      "source": [
        "len(audio_files)"
      ],
      "execution_count": null,
      "outputs": [
        {
          "output_type": "execute_result",
          "data": {
            "text/plain": [
              "24"
            ]
          },
          "metadata": {
            "tags": []
          },
          "execution_count": 13
        }
      ]
    },
    {
      "cell_type": "code",
      "metadata": {
        "id": "Flli3LPbTAEK"
      },
      "source": [
        "for sound in audio_files:\n",
        "  temp_file = sound.replace(\"audio\", \"audio-mono\")\n",
        "  command = command = \"sox \" + sound + \" \" + temp_file + \" channels 1\"\n",
        "  p = Popen(command, stdin=PIPE, stdout=PIPE, stderr=PIPE, shell=True)\n",
        "  output, err = p.communicate()"
      ],
      "execution_count": null,
      "outputs": []
    },
    {
      "cell_type": "code",
      "metadata": {
        "id": "s4TAMIAvTNdM"
      },
      "source": [
        ""
      ],
      "execution_count": null,
      "outputs": []
    },
    {
      "cell_type": "code",
      "metadata": {
        "id": "2dY_Ri78WFR_"
      },
      "source": [
        "audio_files_mono = glob.glob(\"/content/development/TUT-sound-events-2017-development/audio-mono/street/*.wav\")"
      ],
      "execution_count": null,
      "outputs": []
    },
    {
      "cell_type": "code",
      "metadata": {
        "colab": {
          "base_uri": "https://localhost:8080/"
        },
        "id": "DjwJII1LTdB9",
        "outputId": "2fb5b162-224c-470e-b068-84f284bdc741"
      },
      "source": [
        "len(audio_files_mono)"
      ],
      "execution_count": null,
      "outputs": [
        {
          "output_type": "execute_result",
          "data": {
            "text/plain": [
              "24"
            ]
          },
          "metadata": {
            "tags": []
          },
          "execution_count": 16
        }
      ]
    },
    {
      "cell_type": "markdown",
      "metadata": {
        "id": "VElzHF_ss3T1"
      },
      "source": [
        "# Split into folds"
      ]
    },
    {
      "cell_type": "code",
      "metadata": {
        "id": "ewneX_OJs7e9"
      },
      "source": [
        "fold4_train_events = read_annotation(\"/content/development/TUT-sound-events-2017-development/evaluation_setup/street_fold4_train.txt\")\n",
        "fold4_val_events = read_annotation(\"/content/development/TUT-sound-events-2017-development/evaluation_setup/street_fold4_evaluate.txt\")"
      ],
      "execution_count": null,
      "outputs": []
    },
    {
      "cell_type": "code",
      "metadata": {
        "id": "T4dQSO-6tXzT"
      },
      "source": [
        "fold4_train_files = set([f[0].replace(\"audio\", \"/content/development/TUT-sound-events-2017-development/audio-mono\") for f in fold4_train_events])\n",
        "fold4_val_files = set([f[0].replace(\"audio\", \"/content/development/TUT-sound-events-2017-development/audio-mono\") for f in fold4_val_events])"
      ],
      "execution_count": null,
      "outputs": []
    },
    {
      "cell_type": "code",
      "metadata": {
        "colab": {
          "base_uri": "https://localhost:8080/"
        },
        "id": "ccaRH4UR6uG7",
        "outputId": "d8ed38a7-2e41-446e-df2e-d003be504b03"
      },
      "source": [
        "fold4_val_files"
      ],
      "execution_count": null,
      "outputs": [
        {
          "output_type": "execute_result",
          "data": {
            "text/plain": [
              "{'/content/development/TUT-sound-events-2017-development/audio-mono/street/a001.wav',\n",
              " '/content/development/TUT-sound-events-2017-development/audio-mono/street/a012.wav',\n",
              " '/content/development/TUT-sound-events-2017-development/audio-mono/street/a128.wav',\n",
              " '/content/development/TUT-sound-events-2017-development/audio-mono/street/b005.wav',\n",
              " '/content/development/TUT-sound-events-2017-development/audio-mono/street/b006.wav',\n",
              " '/content/development/TUT-sound-events-2017-development/audio-mono/street/b094.wav'}"
            ]
          },
          "metadata": {
            "tags": []
          },
          "execution_count": 164
        }
      ]
    },
    {
      "cell_type": "code",
      "metadata": {
        "id": "Wo5xSi7zjQtA"
      },
      "source": [
        "import math\n",
        "import numpy as np"
      ],
      "execution_count": null,
      "outputs": []
    },
    {
      "cell_type": "code",
      "metadata": {
        "id": "rUElUf__xD3M"
      },
      "source": [
        "def construct_examples(audio_path, win_len = 2.56, hop_len = 1.0, sr = 44100.0):\n",
        "\n",
        "  win_len_t = win_len\n",
        "  hop_len_t = hop_len\n",
        "\n",
        "  win_len = int(sr*win_len)\n",
        "  hop_len = int(sr*hop_len)\n",
        "\n",
        "  a, sr = sf.read(audio_path)\n",
        "\n",
        "  if a.shape[0] < win_len:\n",
        "    a_padded = np.zeros((win_len, ))\n",
        "    a_padded[0:a.shape[0]] = a  \n",
        "\n",
        "  else:\n",
        "    no_of_hops = math.ceil((a.shape[0] - win_len) / hop_len)\n",
        "    a_padded = np.zeros((int(win_len + hop_len*no_of_hops), ))\n",
        "    a_padded[0:a.shape[0]] = a  \n",
        "\n",
        "  a_ex = [a_padded[i - win_len : i] for i in range(win_len, a_padded.shape[0]+1, hop_len)]\n",
        "  win_ranges = [((i - win_len)/sr, i/sr) for i in range(win_len, a_padded.shape[0]+1, hop_len)]\n",
        "\n",
        "  return a_ex, win_ranges"
      ],
      "execution_count": null,
      "outputs": []
    },
    {
      "cell_type": "code",
      "metadata": {
        "id": "5LScHoJOTkc6"
      },
      "source": [
        "def construct_labels(annotation_path, win_start, win_end, win_len):\n",
        "  events = read_annotation(annotation_path)\n",
        "\n",
        "  ann = [[float(e[2]), float(e[3]), e[4]] for e in events]\n",
        "\n",
        "  curr_ann = []\n",
        "\n",
        "  for a in ann:\n",
        "    if a[1] > win_start and a[0] <= win_end: \n",
        "    # if a[0] >= win_start and a[0] < win_end:\n",
        "      curr_start = max(a[0] - win_start, 0.0)\n",
        "      curr_end = min(a[1] - win_start, win_len)\n",
        "      curr_ann.append([curr_start, curr_end, a[2]])    \n",
        "\n",
        "  class_set = set([c[2] for c in curr_ann])\n",
        "  class_wise_events = {}\n",
        "\n",
        "  for c in list(class_set):\n",
        "    class_wise_events[c] = []\n",
        "\n",
        "\n",
        "  for c in curr_ann:\n",
        "    class_wise_events[c[2]].append(c)\n",
        "    \n",
        "  max_event_silence = 0.0\n",
        "  all_events = []\n",
        "\n",
        "  for k in list(class_wise_events.keys()):\n",
        "    curr_events = class_wise_events[k]\n",
        "    count = 0\n",
        "\n",
        "    while count < len(curr_events) - 1:\n",
        "      if (curr_events[count][1] >= curr_events[count + 1][0]) or (curr_events[count + 1][0] - curr_events[count][1] <= max_event_silence):\n",
        "        curr_events[count][1] = max(curr_events[count + 1][1], curr_events[count][1])\n",
        "        del curr_events[count + 1]\n",
        "      else:\n",
        "        count += 1\n",
        "\n",
        "    all_events += curr_events\n",
        "\n",
        "  for i in range(len(all_events)):\n",
        "    all_events[i][0] = round(all_events[i][0], 3)\n",
        "    all_events[i][1] = round(all_events[i][1], 3)\n",
        "\n",
        "  all_events.sort(key=lambda x: x[0])\n",
        "\n",
        "  return all_events"
      ],
      "execution_count": null,
      "outputs": []
    },
    {
      "cell_type": "code",
      "metadata": {
        "id": "49grfRdIslY3"
      },
      "source": [
        "class_dict = {'brakes squeaking': 0,\n",
        "              'car': 1,\n",
        "              'children': 2,\n",
        "              'large vehicle': 3,\n",
        "              'people speaking': 4,\n",
        "              'people walking': 5}"
      ],
      "execution_count": null,
      "outputs": []
    },
    {
      "cell_type": "code",
      "metadata": {
        "id": "OWUk471lfTlv"
      },
      "source": [
        "def to_seg_by_class(events, class_dict, hop_len = 441, n_frames = 257, sr=44100):\n",
        "  # events = smoothe_events(events)\n",
        "  labels = np.zeros((n_frames, 6), dtype=np.float32)\n",
        "\n",
        "  for e in events:\n",
        "    t1 = float(e[0])\n",
        "    t1 = int(t1 / hop_len * sr)\n",
        "    t2 = float(e[1])\n",
        "    t2 = int(t2 / hop_len * sr)\n",
        "\n",
        "    labels[t1:t2, class_dict[e[2]]] = 1    \n",
        "  \n",
        "  return labels "
      ],
      "execution_count": null,
      "outputs": []
    },
    {
      "cell_type": "code",
      "metadata": {
        "id": "b32KeTkwsLEk"
      },
      "source": [
        "def get_universal_labels(events, class_dict, ex_length = 10.0, no_of_div = 32):\n",
        "  win_length = ex_length/no_of_div\n",
        "  labels = np.zeros((no_of_div, len(class_dict.keys()) * 3))\n",
        "  \n",
        "  for e in events:\n",
        "\n",
        "    start_time = float(e[0])\n",
        "    stop_time = float(e[1])\n",
        "\n",
        "    start_bin = int(start_time // win_length)\n",
        "    stop_bin = int(stop_time // win_length)\n",
        "\n",
        "    start_time_2 = start_time - start_bin * win_length\n",
        "    stop_time_2 = stop_time - stop_bin * win_length\n",
        "\n",
        "    n_bins = stop_bin - start_bin\n",
        "\n",
        "    if n_bins == 0:\n",
        "      labels[start_bin, class_dict[e[2]] * 3:class_dict[e[2]] * 3 + 3] = [1, start_time_2, stop_time_2]    \n",
        "\n",
        "    elif n_bins == 1:\n",
        "      labels[start_bin, class_dict[e[2]] * 3:class_dict[e[2]] * 3 + 3] = [1, start_time_2, win_length]\n",
        "\n",
        "      if stop_time_2 > 0.0:\n",
        "        labels[stop_bin, class_dict[e[2]] * 3:class_dict[e[2]] * 3 + 3] = [1, 0.0, stop_time_2]\n",
        "\n",
        "    elif n_bins > 1:\n",
        "      labels[start_bin, class_dict[e[2]] * 3:class_dict[e[2]] * 3 + 3] = [1, start_time_2, win_length]\n",
        "\n",
        "      for i in range(1, n_bins):\n",
        "        labels[start_bin + i, class_dict[e[2]] * 3:class_dict[e[2]] * 3 + 3] = [1, 0.0, win_length]\n",
        "\n",
        "      if stop_time_2 > 0.0:\n",
        "        labels[stop_bin, class_dict[e[2]] * 3:class_dict[e[2]] * 3 + 3] = [1, 0.0, stop_time_2]\n",
        "\n",
        "  # labels[:, [1, 2, 4, 5]] /= win_length\n",
        "\n",
        "  for i in range(len(labels)):\n",
        "    for j in range(len(labels[i])):\n",
        "      if j % 3 != 0:\n",
        "        labels[i][j] /= win_length\n",
        "\n",
        "  return labels"
      ],
      "execution_count": null,
      "outputs": []
    },
    {
      "cell_type": "code",
      "metadata": {
        "id": "k0C66zJp0M5f"
      },
      "source": [
        "import shutil"
      ],
      "execution_count": null,
      "outputs": []
    },
    {
      "cell_type": "code",
      "metadata": {
        "id": "jBxKXs4T8Vnx"
      },
      "source": [
        "shutil.rmtree(\"/content/train-data\")\n",
        "os.mkdir(\"/content/train-data\")"
      ],
      "execution_count": null,
      "outputs": []
    },
    {
      "cell_type": "code",
      "metadata": {
        "id": "5mLnGwjXvm_P"
      },
      "source": [
        "\"\"\"\n",
        "Construct train set\n",
        "\"\"\"\n",
        "\n",
        "win_len = 2.56\n",
        "hop_len = 1.96\n",
        "a_ex_train = []\n",
        "a_labels_train = []\n",
        "\n",
        "# win_size = 10.0\n",
        "# win_start = 16.0\n",
        "# win_end = win_start + win_size\n",
        "\n",
        "for i, audio in enumerate(fold4_train_files):\n",
        "  a, win_ranges = construct_examples(audio,win_len=win_len, hop_len=hop_len)\n",
        "  a_ex_train += a\n",
        "\n",
        "  for w in win_ranges:\n",
        "    labels_t = construct_labels(audio.replace(\".wav\", \".ann\").replace(\"audio-mono\", \"meta\"), w[0], w[1], win_len=win_len)\n",
        "    # ll = get_universal_labels(labels_t, class_dict, ex_length=win_len, no_of_div = 9)\n",
        "    ll = to_seg_by_class(labels_t, class_dict)\n",
        "    a_labels_train.append(ll)\n",
        "\n",
        "    # a_labels_train.append(to_seg_by_class(labels_t, class_dict))"
      ],
      "execution_count": null,
      "outputs": []
    },
    {
      "cell_type": "code",
      "metadata": {
        "id": "4YW4xbkGAq3B"
      },
      "source": [
        "import librosa"
      ],
      "execution_count": null,
      "outputs": []
    },
    {
      "cell_type": "code",
      "metadata": {
        "id": "Tz6t6EslAhsJ"
      },
      "source": [
        "def get_log_melspectrogram(audio, sr = 44100, hop_length = 441, win_length = 1764, n_fft = 2048, n_mels = 40, fmin = 0, fmax = 22050):\n",
        "    \"\"\"Return the log-scaled Mel bands of an audio signal.\"\"\"\n",
        "    audio_2 = librosa.util.normalize(audio)\n",
        "    bands = librosa.feature.melspectrogram(\n",
        "        y=audio_2, sr=sr, hop_length=hop_length, win_length = win_length, n_fft=n_fft, n_mels=n_mels)\n",
        "    return librosa.core.power_to_db(bands)"
      ],
      "execution_count": null,
      "outputs": []
    },
    {
      "cell_type": "code",
      "metadata": {
        "id": "9_NKjluU4ohV"
      },
      "source": [
        "# a, sr = sf.read(audio_files_mono[0])\n",
        "M = get_log_melspectrogram(a_ex_train[0])"
      ],
      "execution_count": null,
      "outputs": []
    },
    {
      "cell_type": "code",
      "metadata": {
        "colab": {
          "base_uri": "https://localhost:8080/"
        },
        "id": "7VVcwDvo51I7",
        "outputId": "61cc2cfa-0da4-4158-e863-3154bf350dc1"
      },
      "source": [
        "M.shape"
      ],
      "execution_count": null,
      "outputs": [
        {
          "output_type": "execute_result",
          "data": {
            "text/plain": [
              "(40, 257)"
            ]
          },
          "metadata": {
            "tags": []
          },
          "execution_count": 136
        }
      ]
    },
    {
      "cell_type": "code",
      "metadata": {
        "id": "-mSPzyS1-Q9-"
      },
      "source": [
        "for i, a in enumerate(a_ex_train):\n",
        "  M = get_log_melspectrogram(a).T\n",
        "  np.save(\"/content/train-data/ex-\" + str(i) + \".npy\", M)"
      ],
      "execution_count": null,
      "outputs": []
    },
    {
      "cell_type": "code",
      "metadata": {
        "id": "9R7pthk1-jjJ"
      },
      "source": [
        "for i, a in enumerate(a_labels_train):\n",
        "  np.save(\"/content/train-data/label-\" + str(i) + \".npy\", a)"
      ],
      "execution_count": null,
      "outputs": []
    },
    {
      "cell_type": "code",
      "metadata": {
        "id": "vcpsoT-5jq6W"
      },
      "source": [
        "# !rm -rf \"/content/val-data\""
      ],
      "execution_count": null,
      "outputs": []
    },
    {
      "cell_type": "code",
      "metadata": {
        "id": "AMpDMpDN9Zww"
      },
      "source": [
        "shutil.rmtree(\"/content/val-data\")\n",
        "os.mkdir(\"/content/val-data\")"
      ],
      "execution_count": null,
      "outputs": []
    },
    {
      "cell_type": "code",
      "metadata": {
        "id": "XkxklG13vRa5"
      },
      "source": [
        "\"\"\"\n",
        "Construct val set\n",
        "\"\"\"\n",
        "\n",
        "win_len = 2.56\n",
        "hop_len = 1.96\n",
        "a_ex_val = []\n",
        "a_labels_val = []\n",
        "\n",
        "# win_size = 10.0\n",
        "# win_start = 16.0\n",
        "# win_end = win_start + win_size\n",
        "\n",
        "for i, audio in enumerate(fold4_val_files):\n",
        "  a, win_ranges = construct_examples(audio,win_len=win_len, hop_len=hop_len)\n",
        "  a_ex_val += a\n",
        "\n",
        "  for w in win_ranges:\n",
        "    labels_t = construct_labels(audio.replace(\".wav\", \".ann\").replace(\"audio-mono\", \"meta\"), w[0], w[1], win_len=win_len)\n",
        "    # ll = get_universal_labels(labels_t, class_dict, ex_length=win_len, no_of_div = 9)\n",
        "    ll = to_seg_by_class(labels_t, class_dict)\n",
        "    a_labels_val.append(ll)\n",
        "\n",
        "    # a_labels_train.append(to_seg_by_class(labels_t, class_dict))"
      ],
      "execution_count": null,
      "outputs": []
    },
    {
      "cell_type": "code",
      "metadata": {
        "colab": {
          "base_uri": "https://localhost:8080/"
        },
        "id": "2Qnf3Tra6Bqk",
        "outputId": "86914171-eb26-4a18-fdf1-0a2c1d900a09"
      },
      "source": [
        "win_ranges"
      ],
      "execution_count": null,
      "outputs": [
        {
          "output_type": "execute_result",
          "data": {
            "text/plain": [
              "[(0.0, 2.56),\n",
              " (1.96, 4.52),\n",
              " (3.92, 6.48),\n",
              " (5.88, 8.44),\n",
              " (7.84, 10.4),\n",
              " (9.8, 12.36),\n",
              " (11.76, 14.32),\n",
              " (13.72, 16.28),\n",
              " (15.68, 18.24),\n",
              " (17.64, 20.2),\n",
              " (19.6, 22.16),\n",
              " (21.56, 24.12),\n",
              " (23.52, 26.08),\n",
              " (25.48, 28.04),\n",
              " (27.44, 30.0),\n",
              " (29.4, 31.96),\n",
              " (31.36, 33.92),\n",
              " (33.32, 35.88),\n",
              " (35.28, 37.84),\n",
              " (37.24, 39.8),\n",
              " (39.2, 41.76),\n",
              " (41.16, 43.72),\n",
              " (43.12, 45.68),\n",
              " (45.08, 47.64),\n",
              " (47.04, 49.6),\n",
              " (49.0, 51.56),\n",
              " (50.96, 53.52),\n",
              " (52.92, 55.48),\n",
              " (54.88, 57.44),\n",
              " (56.84, 59.4),\n",
              " (58.8, 61.36),\n",
              " (60.76, 63.32),\n",
              " (62.72, 65.28),\n",
              " (64.68, 67.24),\n",
              " (66.64, 69.2),\n",
              " (68.6, 71.16),\n",
              " (70.56, 73.12),\n",
              " (72.52, 75.08),\n",
              " (74.48, 77.04),\n",
              " (76.44, 79.0),\n",
              " (78.4, 80.96),\n",
              " (80.36, 82.92),\n",
              " (82.32, 84.88),\n",
              " (84.28, 86.84),\n",
              " (86.24, 88.8),\n",
              " (88.2, 90.76),\n",
              " (90.16, 92.72),\n",
              " (92.12, 94.68),\n",
              " (94.08, 96.64),\n",
              " (96.04, 98.6),\n",
              " (98.0, 100.56),\n",
              " (99.96, 102.52),\n",
              " (101.92, 104.48),\n",
              " (103.88, 106.44),\n",
              " (105.84, 108.4),\n",
              " (107.8, 110.36),\n",
              " (109.76, 112.32),\n",
              " (111.72, 114.28),\n",
              " (113.68, 116.24),\n",
              " (115.64, 118.2),\n",
              " (117.6, 120.16),\n",
              " (119.56, 122.12),\n",
              " (121.52, 124.08),\n",
              " (123.48, 126.04),\n",
              " (125.44, 128.0),\n",
              " (127.4, 129.96),\n",
              " (129.36, 131.92),\n",
              " (131.32, 133.88),\n",
              " (133.28, 135.84),\n",
              " (135.24, 137.8),\n",
              " (137.2, 139.76),\n",
              " (139.16, 141.72),\n",
              " (141.12, 143.68),\n",
              " (143.08, 145.64),\n",
              " (145.04, 147.6),\n",
              " (147.0, 149.56),\n",
              " (148.96, 151.52),\n",
              " (150.92, 153.48),\n",
              " (152.88, 155.44),\n",
              " (154.84, 157.4),\n",
              " (156.8, 159.36),\n",
              " (158.76, 161.32),\n",
              " (160.72, 163.28),\n",
              " (162.68, 165.24),\n",
              " (164.64, 167.2),\n",
              " (166.6, 169.16),\n",
              " (168.56, 171.12),\n",
              " (170.52, 173.08),\n",
              " (172.48, 175.04),\n",
              " (174.44, 177.0),\n",
              " (176.4, 178.96),\n",
              " (178.36, 180.92),\n",
              " (180.32, 182.88),\n",
              " (182.28, 184.84),\n",
              " (184.24, 186.8),\n",
              " (186.2, 188.76),\n",
              " (188.16, 190.72),\n",
              " (190.12, 192.68),\n",
              " (192.08, 194.64),\n",
              " (194.04, 196.6),\n",
              " (196.0, 198.56),\n",
              " (197.96, 200.52),\n",
              " (199.92, 202.48)]"
            ]
          },
          "metadata": {
            "tags": []
          },
          "execution_count": 171
        }
      ]
    },
    {
      "cell_type": "code",
      "metadata": {
        "id": "9TzgOgZ--uCO"
      },
      "source": [
        ""
      ],
      "execution_count": null,
      "outputs": []
    },
    {
      "cell_type": "code",
      "metadata": {
        "id": "3HsZbXcs-uE_"
      },
      "source": [
        "for i, a in enumerate(a_ex_val):\n",
        "  M = get_log_melspectrogram(a).T\n",
        "  np.save(\"/content/val-data/ex-\" + str(i) + \".npy\", M)"
      ],
      "execution_count": null,
      "outputs": []
    },
    {
      "cell_type": "code",
      "metadata": {
        "id": "vRDuLRGk-uE_"
      },
      "source": [
        "for i, a in enumerate(a_labels_val):\n",
        "  np.save(\"/content/val-data/label-\" + str(i) + \".npy\", a)"
      ],
      "execution_count": null,
      "outputs": []
    },
    {
      "cell_type": "code",
      "metadata": {
        "id": "uvMbxJLj9x5n"
      },
      "source": [
        "import re\n",
        "\n",
        "def tryint(s):\n",
        "    try:\n",
        "        return int(s)\n",
        "    except ValueError:\n",
        "        return s\n",
        "    \n",
        "def alphanum_key(s):\n",
        "    \"\"\" Turn a string into a list of string and number chunks.\n",
        "        \"z23a\" -> [\"z\", 23, \"a\"]\n",
        "    \"\"\"\n",
        "    return [ tryint(c) for c in re.split('([0-9]+)', s) ]\n",
        "\n",
        "def sort_nicely(l):\n",
        "    \"\"\" Sort the given list in the way that humans expect.\n",
        "    \"\"\"\n",
        "    l.sort(key=alphanum_key)"
      ],
      "execution_count": null,
      "outputs": []
    },
    {
      "cell_type": "code",
      "metadata": {
        "id": "fjtncXqB91qu"
      },
      "source": [
        "import glob\n",
        "import random\n",
        "\"\"\"\n",
        "Load the individual numpy arrays into partition\n",
        "\"\"\"\n",
        "data = glob.glob(\"/content/train-data/ex-*.npy\") # + glob.glob(\"/content/train data/MuSpeak/content/Mel Files/**/mel-id-[0-9]*.npy\", recursive=True) \n",
        "#data = glob.glob(\"/content/train data/MuSpeak/content/Mel Files/**/mel-id-[0-9]*.npy\", recursive=True) \n",
        "sort_nicely(data)\n",
        "\n",
        "labels = glob.glob(\"/content/train-data/label-*.npy\") #+ glob.glob(\"/content/train data/MuSpeak/content/Mel Files/**/mel-id-label-[0-9]*.npy\", recursive=True)\n",
        "#labels = glob.glob(\"/content/train data/MuSpeak/content/Mel Files/**/mel-id-label-[0-9]*.npy\", recursive=True)\n",
        "sort_nicely(labels)\n",
        "\n",
        "train_examples = [(data[i], labels[i]) for i in range(len(data))]\n",
        "\n",
        "random.seed(4)\n",
        "random.shuffle(train_examples)\n",
        "#print(train_examples[0])\n",
        "\n",
        "# m = len(train_examples)\n",
        "# m_validation = 1024\n",
        "# m_test = 512\n",
        "# m_train = 40960\n",
        "\n",
        "# partition = {}\n",
        "# partition['train'] = train_examples[0:m_train]\n",
        "# partition['validation'] = examples[m_train:m_train + m_validation]\n",
        "# partition['test'] = examples[m_train + m_validation:m]"
      ],
      "execution_count": null,
      "outputs": []
    },
    {
      "cell_type": "code",
      "metadata": {
        "id": "XoCLOB1g_Q_x"
      },
      "source": [
        "\"\"\"\n",
        "Creating the train partition.\n",
        "\"\"\"\n",
        "partition = {}\n",
        "partition['train'] = train_examples\n",
        "\n",
        "random.shuffle(partition['train'])"
      ],
      "execution_count": null,
      "outputs": []
    },
    {
      "cell_type": "code",
      "metadata": {
        "colab": {
          "base_uri": "https://localhost:8080/"
        },
        "id": "mVlts-J6_eBy",
        "outputId": "575a31e2-4ae7-4812-b4e0-33e10b355fa8"
      },
      "source": [
        "\"\"\"\n",
        "This loads data for the validation set.\n",
        "\"\"\"\n",
        "import glob\n",
        "import random\n",
        "\n",
        "data = glob.glob(\"/content/val-data/ex-*.npy\")\n",
        "sort_nicely(data)\n",
        "\n",
        "labels = glob.glob(\"/content/val-data/label-*.npy\")\n",
        "sort_nicely(labels)\n",
        "\n",
        "validation_examples = [(data[i], labels[i]) for i in range(len(data))]\n",
        "\n",
        "random.seed(4)\n",
        "random.shuffle(validation_examples)\n",
        "print(validation_examples[0])\n",
        "\n",
        "# m = len(test_examples)\n",
        "# m_validation = 1024\n",
        "# m_test = 512\n",
        "# m_train = m - m_validation - m_test\n",
        "\n",
        "partition['validation'] = validation_examples"
      ],
      "execution_count": null,
      "outputs": [
        {
          "output_type": "stream",
          "text": [
            "('/content/val-data/ex-361.npy', '/content/val-data/label-361.npy')\n"
          ],
          "name": "stdout"
        }
      ]
    },
    {
      "cell_type": "code",
      "metadata": {
        "id": "tBw_4eneBiQ8"
      },
      "source": [
        ""
      ],
      "execution_count": null,
      "outputs": []
    },
    {
      "cell_type": "code",
      "metadata": {
        "id": "dwmWHMfWPYJq",
        "colab": {
          "base_uri": "https://localhost:8080/"
        },
        "outputId": "c544c28b-179f-42dc-fc33-729cb2054ba4"
      },
      "source": [
        "!git clone https://github.com/DemisEom/SpecAugment.git\n",
        "!pip install /content/SpecAugment/\n",
        "!pip install tensorflow-addons"
      ],
      "execution_count": null,
      "outputs": [
        {
          "output_type": "stream",
          "text": [
            "Cloning into 'SpecAugment'...\n",
            "remote: Enumerating objects: 271, done.\u001b[K\n",
            "remote: Total 271 (delta 0), reused 0 (delta 0), pack-reused 271\u001b[K\n",
            "Receiving objects: 100% (271/271), 429.45 KiB | 9.14 MiB/s, done.\n",
            "Resolving deltas: 100% (150/150), done.\n",
            "Processing ./SpecAugment\n",
            "Requirement already satisfied: tensorflow in /usr/local/lib/python3.7/dist-packages (from SpecAugment==1.2.3) (2.5.0)\n",
            "Requirement already satisfied: librosa in /usr/local/lib/python3.7/dist-packages (from SpecAugment==1.2.3) (0.8.1)\n",
            "Requirement already satisfied: matplotlib in /usr/local/lib/python3.7/dist-packages (from SpecAugment==1.2.3) (3.2.2)\n",
            "Requirement already satisfied: torch in /usr/local/lib/python3.7/dist-packages (from SpecAugment==1.2.3) (1.9.0+cu102)\n",
            "Requirement already satisfied: gast==0.4.0 in /usr/local/lib/python3.7/dist-packages (from tensorflow->SpecAugment==1.2.3) (0.4.0)\n",
            "Requirement already satisfied: tensorflow-estimator<2.6.0,>=2.5.0rc0 in /usr/local/lib/python3.7/dist-packages (from tensorflow->SpecAugment==1.2.3) (2.5.0)\n",
            "Requirement already satisfied: absl-py~=0.10 in /usr/local/lib/python3.7/dist-packages (from tensorflow->SpecAugment==1.2.3) (0.12.0)\n",
            "Requirement already satisfied: grpcio~=1.34.0 in /usr/local/lib/python3.7/dist-packages (from tensorflow->SpecAugment==1.2.3) (1.34.1)\n",
            "Requirement already satisfied: flatbuffers~=1.12.0 in /usr/local/lib/python3.7/dist-packages (from tensorflow->SpecAugment==1.2.3) (1.12)\n",
            "Requirement already satisfied: h5py~=3.1.0 in /usr/local/lib/python3.7/dist-packages (from tensorflow->SpecAugment==1.2.3) (3.1.0)\n",
            "Requirement already satisfied: wrapt~=1.12.1 in /usr/local/lib/python3.7/dist-packages (from tensorflow->SpecAugment==1.2.3) (1.12.1)\n",
            "Requirement already satisfied: keras-nightly~=2.5.0.dev in /usr/local/lib/python3.7/dist-packages (from tensorflow->SpecAugment==1.2.3) (2.5.0.dev2021032900)\n",
            "Requirement already satisfied: protobuf>=3.9.2 in /usr/local/lib/python3.7/dist-packages (from tensorflow->SpecAugment==1.2.3) (3.12.4)\n",
            "Requirement already satisfied: six~=1.15.0 in /usr/local/lib/python3.7/dist-packages (from tensorflow->SpecAugment==1.2.3) (1.15.0)\n",
            "Requirement already satisfied: google-pasta~=0.2 in /usr/local/lib/python3.7/dist-packages (from tensorflow->SpecAugment==1.2.3) (0.2.0)\n",
            "Requirement already satisfied: keras-preprocessing~=1.1.2 in /usr/local/lib/python3.7/dist-packages (from tensorflow->SpecAugment==1.2.3) (1.1.2)\n",
            "Requirement already satisfied: wheel~=0.35 in /usr/local/lib/python3.7/dist-packages (from tensorflow->SpecAugment==1.2.3) (0.36.2)\n",
            "Requirement already satisfied: opt-einsum~=3.3.0 in /usr/local/lib/python3.7/dist-packages (from tensorflow->SpecAugment==1.2.3) (3.3.0)\n",
            "Requirement already satisfied: termcolor~=1.1.0 in /usr/local/lib/python3.7/dist-packages (from tensorflow->SpecAugment==1.2.3) (1.1.0)\n",
            "Requirement already satisfied: typing-extensions~=3.7.4 in /usr/local/lib/python3.7/dist-packages (from tensorflow->SpecAugment==1.2.3) (3.7.4.3)\n",
            "Requirement already satisfied: astunparse~=1.6.3 in /usr/local/lib/python3.7/dist-packages (from tensorflow->SpecAugment==1.2.3) (1.6.3)\n",
            "Requirement already satisfied: numpy~=1.19.2 in /usr/local/lib/python3.7/dist-packages (from tensorflow->SpecAugment==1.2.3) (1.19.5)\n",
            "Requirement already satisfied: tensorboard~=2.5 in /usr/local/lib/python3.7/dist-packages (from tensorflow->SpecAugment==1.2.3) (2.5.0)\n",
            "Requirement already satisfied: resampy>=0.2.2 in /usr/local/lib/python3.7/dist-packages (from librosa->SpecAugment==1.2.3) (0.2.2)\n",
            "Requirement already satisfied: scikit-learn!=0.19.0,>=0.14.0 in /usr/local/lib/python3.7/dist-packages (from librosa->SpecAugment==1.2.3) (0.22.2.post1)\n",
            "Requirement already satisfied: scipy>=1.0.0 in /usr/local/lib/python3.7/dist-packages (from librosa->SpecAugment==1.2.3) (1.4.1)\n",
            "Requirement already satisfied: pooch>=1.0 in /usr/local/lib/python3.7/dist-packages (from librosa->SpecAugment==1.2.3) (1.4.0)\n",
            "Requirement already satisfied: packaging>=20.0 in /usr/local/lib/python3.7/dist-packages (from librosa->SpecAugment==1.2.3) (20.9)\n",
            "Requirement already satisfied: audioread>=2.0.0 in /usr/local/lib/python3.7/dist-packages (from librosa->SpecAugment==1.2.3) (2.1.9)\n",
            "Requirement already satisfied: soundfile>=0.10.2 in /usr/local/lib/python3.7/dist-packages (from librosa->SpecAugment==1.2.3) (0.10.3.post1)\n",
            "Requirement already satisfied: numba>=0.43.0 in /usr/local/lib/python3.7/dist-packages (from librosa->SpecAugment==1.2.3) (0.51.2)\n",
            "Requirement already satisfied: joblib>=0.14 in /usr/local/lib/python3.7/dist-packages (from librosa->SpecAugment==1.2.3) (1.0.1)\n",
            "Requirement already satisfied: decorator>=3.0.0 in /usr/local/lib/python3.7/dist-packages (from librosa->SpecAugment==1.2.3) (4.4.2)\n",
            "Requirement already satisfied: pyparsing!=2.0.4,!=2.1.2,!=2.1.6,>=2.0.1 in /usr/local/lib/python3.7/dist-packages (from matplotlib->SpecAugment==1.2.3) (2.4.7)\n",
            "Requirement already satisfied: python-dateutil>=2.1 in /usr/local/lib/python3.7/dist-packages (from matplotlib->SpecAugment==1.2.3) (2.8.1)\n",
            "Requirement already satisfied: cycler>=0.10 in /usr/local/lib/python3.7/dist-packages (from matplotlib->SpecAugment==1.2.3) (0.10.0)\n",
            "Requirement already satisfied: kiwisolver>=1.0.1 in /usr/local/lib/python3.7/dist-packages (from matplotlib->SpecAugment==1.2.3) (1.3.1)\n",
            "Requirement already satisfied: cached-property; python_version < \"3.8\" in /usr/local/lib/python3.7/dist-packages (from h5py~=3.1.0->tensorflow->SpecAugment==1.2.3) (1.5.2)\n",
            "Requirement already satisfied: setuptools in /usr/local/lib/python3.7/dist-packages (from protobuf>=3.9.2->tensorflow->SpecAugment==1.2.3) (57.0.0)\n",
            "Requirement already satisfied: requests<3,>=2.21.0 in /usr/local/lib/python3.7/dist-packages (from tensorboard~=2.5->tensorflow->SpecAugment==1.2.3) (2.23.0)\n",
            "Requirement already satisfied: werkzeug>=0.11.15 in /usr/local/lib/python3.7/dist-packages (from tensorboard~=2.5->tensorflow->SpecAugment==1.2.3) (1.0.1)\n",
            "Requirement already satisfied: google-auth<2,>=1.6.3 in /usr/local/lib/python3.7/dist-packages (from tensorboard~=2.5->tensorflow->SpecAugment==1.2.3) (1.31.0)\n",
            "Requirement already satisfied: tensorboard-plugin-wit>=1.6.0 in /usr/local/lib/python3.7/dist-packages (from tensorboard~=2.5->tensorflow->SpecAugment==1.2.3) (1.8.0)\n",
            "Requirement already satisfied: google-auth-oauthlib<0.5,>=0.4.1 in /usr/local/lib/python3.7/dist-packages (from tensorboard~=2.5->tensorflow->SpecAugment==1.2.3) (0.4.4)\n",
            "Requirement already satisfied: tensorboard-data-server<0.7.0,>=0.6.0 in /usr/local/lib/python3.7/dist-packages (from tensorboard~=2.5->tensorflow->SpecAugment==1.2.3) (0.6.1)\n",
            "Requirement already satisfied: markdown>=2.6.8 in /usr/local/lib/python3.7/dist-packages (from tensorboard~=2.5->tensorflow->SpecAugment==1.2.3) (3.3.4)\n",
            "Requirement already satisfied: appdirs in /usr/local/lib/python3.7/dist-packages (from pooch>=1.0->librosa->SpecAugment==1.2.3) (1.4.4)\n",
            "Requirement already satisfied: cffi>=1.0 in /usr/local/lib/python3.7/dist-packages (from soundfile>=0.10.2->librosa->SpecAugment==1.2.3) (1.14.5)\n",
            "Requirement already satisfied: llvmlite<0.35,>=0.34.0.dev0 in /usr/local/lib/python3.7/dist-packages (from numba>=0.43.0->librosa->SpecAugment==1.2.3) (0.34.0)\n",
            "Requirement already satisfied: chardet<4,>=3.0.2 in /usr/local/lib/python3.7/dist-packages (from requests<3,>=2.21.0->tensorboard~=2.5->tensorflow->SpecAugment==1.2.3) (3.0.4)\n",
            "Requirement already satisfied: certifi>=2017.4.17 in /usr/local/lib/python3.7/dist-packages (from requests<3,>=2.21.0->tensorboard~=2.5->tensorflow->SpecAugment==1.2.3) (2021.5.30)\n",
            "Requirement already satisfied: idna<3,>=2.5 in /usr/local/lib/python3.7/dist-packages (from requests<3,>=2.21.0->tensorboard~=2.5->tensorflow->SpecAugment==1.2.3) (2.10)\n",
            "Requirement already satisfied: urllib3!=1.25.0,!=1.25.1,<1.26,>=1.21.1 in /usr/local/lib/python3.7/dist-packages (from requests<3,>=2.21.0->tensorboard~=2.5->tensorflow->SpecAugment==1.2.3) (1.24.3)\n",
            "Requirement already satisfied: rsa<5,>=3.1.4; python_version >= \"3.6\" in /usr/local/lib/python3.7/dist-packages (from google-auth<2,>=1.6.3->tensorboard~=2.5->tensorflow->SpecAugment==1.2.3) (4.7.2)\n",
            "Requirement already satisfied: cachetools<5.0,>=2.0.0 in /usr/local/lib/python3.7/dist-packages (from google-auth<2,>=1.6.3->tensorboard~=2.5->tensorflow->SpecAugment==1.2.3) (4.2.2)\n",
            "Requirement already satisfied: pyasn1-modules>=0.2.1 in /usr/local/lib/python3.7/dist-packages (from google-auth<2,>=1.6.3->tensorboard~=2.5->tensorflow->SpecAugment==1.2.3) (0.2.8)\n",
            "Requirement already satisfied: requests-oauthlib>=0.7.0 in /usr/local/lib/python3.7/dist-packages (from google-auth-oauthlib<0.5,>=0.4.1->tensorboard~=2.5->tensorflow->SpecAugment==1.2.3) (1.3.0)\n",
            "Requirement already satisfied: importlib-metadata; python_version < \"3.8\" in /usr/local/lib/python3.7/dist-packages (from markdown>=2.6.8->tensorboard~=2.5->tensorflow->SpecAugment==1.2.3) (4.5.0)\n",
            "Requirement already satisfied: pycparser in /usr/local/lib/python3.7/dist-packages (from cffi>=1.0->soundfile>=0.10.2->librosa->SpecAugment==1.2.3) (2.20)\n",
            "Requirement already satisfied: pyasn1>=0.1.3 in /usr/local/lib/python3.7/dist-packages (from rsa<5,>=3.1.4; python_version >= \"3.6\"->google-auth<2,>=1.6.3->tensorboard~=2.5->tensorflow->SpecAugment==1.2.3) (0.4.8)\n",
            "Requirement already satisfied: oauthlib>=3.0.0 in /usr/local/lib/python3.7/dist-packages (from requests-oauthlib>=0.7.0->google-auth-oauthlib<0.5,>=0.4.1->tensorboard~=2.5->tensorflow->SpecAugment==1.2.3) (3.1.1)\n",
            "Requirement already satisfied: zipp>=0.5 in /usr/local/lib/python3.7/dist-packages (from importlib-metadata; python_version < \"3.8\"->markdown>=2.6.8->tensorboard~=2.5->tensorflow->SpecAugment==1.2.3) (3.4.1)\n",
            "Building wheels for collected packages: SpecAugment\n",
            "  Building wheel for SpecAugment (setup.py) ... \u001b[?25l\u001b[?25hdone\n",
            "  Created wheel for SpecAugment: filename=SpecAugment-1.2.3-cp37-none-any.whl size=16700 sha256=00b7024f5baff430f7b9ca15d984bf9931f70cad8ea7de320d098ce25f882d33\n",
            "  Stored in directory: /tmp/pip-ephem-wheel-cache-2k2775_t/wheels/fc/d9/61/5583932096e24004288b272f47e80f2d9e0325234944010447\n",
            "Successfully built SpecAugment\n",
            "Installing collected packages: SpecAugment\n",
            "Successfully installed SpecAugment-1.2.3\n",
            "Collecting tensorflow-addons\n",
            "\u001b[?25l  Downloading https://files.pythonhosted.org/packages/66/4b/e893d194e626c24b3df2253066aa418f46a432fdb68250cde14bf9bb0700/tensorflow_addons-0.13.0-cp37-cp37m-manylinux2010_x86_64.whl (679kB)\n",
            "\u001b[K     |████████████████████████████████| 686kB 3.8MB/s \n",
            "\u001b[?25hRequirement already satisfied: typeguard>=2.7 in /usr/local/lib/python3.7/dist-packages (from tensorflow-addons) (2.7.1)\n",
            "Installing collected packages: tensorflow-addons\n",
            "Successfully installed tensorflow-addons-0.13.0\n"
          ],
          "name": "stdout"
        }
      ]
    },
    {
      "cell_type": "code",
      "metadata": {
        "id": "CJCOUHt0Br4B"
      },
      "source": [
        "from SpecAugment import spec_augment_tensorflow"
      ],
      "execution_count": null,
      "outputs": []
    },
    {
      "cell_type": "code",
      "metadata": {
        "colab": {
          "base_uri": "https://localhost:8080/"
        },
        "id": "FA9NCaBOP4OV",
        "outputId": "e372369f-2b22-46d0-82d6-57ab34e4913d"
      },
      "source": [
        "!pip install tensorflow-io"
      ],
      "execution_count": null,
      "outputs": [
        {
          "output_type": "stream",
          "text": [
            "Collecting tensorflow-io\n",
            "\u001b[?25l  Downloading https://files.pythonhosted.org/packages/d2/b7/b76c28a422ebaf1c3d97aa6553e8620cc3b0d91976415b4ca255176c7946/tensorflow_io-0.19.0-cp37-cp37m-manylinux_2_12_x86_64.manylinux2010_x86_64.whl (22.7MB)\n",
            "\u001b[K     |████████████████████████████████| 22.7MB 1.4MB/s \n",
            "\u001b[?25hCollecting tensorflow-io-gcs-filesystem==0.19.0\n",
            "\u001b[?25l  Downloading https://files.pythonhosted.org/packages/5d/3a/5c1cc819ff1adfd47fa119a8b904a12207c64bdb1f61f2ef726f03a0cdc6/tensorflow_io_gcs_filesystem-0.19.0-cp37-cp37m-manylinux_2_12_x86_64.manylinux2010_x86_64.whl (2.3MB)\n",
            "\u001b[K     |████████████████████████████████| 2.3MB 50.8MB/s \n",
            "\u001b[?25hRequirement already satisfied: tensorflow<2.6.0,>=2.5.0 in /usr/local/lib/python3.7/dist-packages (from tensorflow-io) (2.5.0)\n",
            "Requirement already satisfied: opt-einsum~=3.3.0 in /usr/local/lib/python3.7/dist-packages (from tensorflow<2.6.0,>=2.5.0->tensorflow-io) (3.3.0)\n",
            "Requirement already satisfied: termcolor~=1.1.0 in /usr/local/lib/python3.7/dist-packages (from tensorflow<2.6.0,>=2.5.0->tensorflow-io) (1.1.0)\n",
            "Requirement already satisfied: astunparse~=1.6.3 in /usr/local/lib/python3.7/dist-packages (from tensorflow<2.6.0,>=2.5.0->tensorflow-io) (1.6.3)\n",
            "Requirement already satisfied: tensorboard~=2.5 in /usr/local/lib/python3.7/dist-packages (from tensorflow<2.6.0,>=2.5.0->tensorflow-io) (2.5.0)\n",
            "Requirement already satisfied: keras-preprocessing~=1.1.2 in /usr/local/lib/python3.7/dist-packages (from tensorflow<2.6.0,>=2.5.0->tensorflow-io) (1.1.2)\n",
            "Requirement already satisfied: typing-extensions~=3.7.4 in /usr/local/lib/python3.7/dist-packages (from tensorflow<2.6.0,>=2.5.0->tensorflow-io) (3.7.4.3)\n",
            "Requirement already satisfied: wrapt~=1.12.1 in /usr/local/lib/python3.7/dist-packages (from tensorflow<2.6.0,>=2.5.0->tensorflow-io) (1.12.1)\n",
            "Requirement already satisfied: gast==0.4.0 in /usr/local/lib/python3.7/dist-packages (from tensorflow<2.6.0,>=2.5.0->tensorflow-io) (0.4.0)\n",
            "Requirement already satisfied: keras-nightly~=2.5.0.dev in /usr/local/lib/python3.7/dist-packages (from tensorflow<2.6.0,>=2.5.0->tensorflow-io) (2.5.0.dev2021032900)\n",
            "Requirement already satisfied: protobuf>=3.9.2 in /usr/local/lib/python3.7/dist-packages (from tensorflow<2.6.0,>=2.5.0->tensorflow-io) (3.12.4)\n",
            "Requirement already satisfied: six~=1.15.0 in /usr/local/lib/python3.7/dist-packages (from tensorflow<2.6.0,>=2.5.0->tensorflow-io) (1.15.0)\n",
            "Requirement already satisfied: h5py~=3.1.0 in /usr/local/lib/python3.7/dist-packages (from tensorflow<2.6.0,>=2.5.0->tensorflow-io) (3.1.0)\n",
            "Requirement already satisfied: tensorflow-estimator<2.6.0,>=2.5.0rc0 in /usr/local/lib/python3.7/dist-packages (from tensorflow<2.6.0,>=2.5.0->tensorflow-io) (2.5.0)\n",
            "Requirement already satisfied: grpcio~=1.34.0 in /usr/local/lib/python3.7/dist-packages (from tensorflow<2.6.0,>=2.5.0->tensorflow-io) (1.34.1)\n",
            "Requirement already satisfied: google-pasta~=0.2 in /usr/local/lib/python3.7/dist-packages (from tensorflow<2.6.0,>=2.5.0->tensorflow-io) (0.2.0)\n",
            "Requirement already satisfied: numpy~=1.19.2 in /usr/local/lib/python3.7/dist-packages (from tensorflow<2.6.0,>=2.5.0->tensorflow-io) (1.19.5)\n",
            "Requirement already satisfied: flatbuffers~=1.12.0 in /usr/local/lib/python3.7/dist-packages (from tensorflow<2.6.0,>=2.5.0->tensorflow-io) (1.12)\n",
            "Requirement already satisfied: absl-py~=0.10 in /usr/local/lib/python3.7/dist-packages (from tensorflow<2.6.0,>=2.5.0->tensorflow-io) (0.12.0)\n",
            "Requirement already satisfied: wheel~=0.35 in /usr/local/lib/python3.7/dist-packages (from tensorflow<2.6.0,>=2.5.0->tensorflow-io) (0.36.2)\n",
            "Requirement already satisfied: markdown>=2.6.8 in /usr/local/lib/python3.7/dist-packages (from tensorboard~=2.5->tensorflow<2.6.0,>=2.5.0->tensorflow-io) (3.3.4)\n",
            "Requirement already satisfied: setuptools>=41.0.0 in /usr/local/lib/python3.7/dist-packages (from tensorboard~=2.5->tensorflow<2.6.0,>=2.5.0->tensorflow-io) (57.0.0)\n",
            "Requirement already satisfied: werkzeug>=0.11.15 in /usr/local/lib/python3.7/dist-packages (from tensorboard~=2.5->tensorflow<2.6.0,>=2.5.0->tensorflow-io) (1.0.1)\n",
            "Requirement already satisfied: google-auth-oauthlib<0.5,>=0.4.1 in /usr/local/lib/python3.7/dist-packages (from tensorboard~=2.5->tensorflow<2.6.0,>=2.5.0->tensorflow-io) (0.4.4)\n",
            "Requirement already satisfied: requests<3,>=2.21.0 in /usr/local/lib/python3.7/dist-packages (from tensorboard~=2.5->tensorflow<2.6.0,>=2.5.0->tensorflow-io) (2.23.0)\n",
            "Requirement already satisfied: tensorboard-data-server<0.7.0,>=0.6.0 in /usr/local/lib/python3.7/dist-packages (from tensorboard~=2.5->tensorflow<2.6.0,>=2.5.0->tensorflow-io) (0.6.1)\n",
            "Requirement already satisfied: tensorboard-plugin-wit>=1.6.0 in /usr/local/lib/python3.7/dist-packages (from tensorboard~=2.5->tensorflow<2.6.0,>=2.5.0->tensorflow-io) (1.8.0)\n",
            "Requirement already satisfied: google-auth<2,>=1.6.3 in /usr/local/lib/python3.7/dist-packages (from tensorboard~=2.5->tensorflow<2.6.0,>=2.5.0->tensorflow-io) (1.31.0)\n",
            "Requirement already satisfied: cached-property; python_version < \"3.8\" in /usr/local/lib/python3.7/dist-packages (from h5py~=3.1.0->tensorflow<2.6.0,>=2.5.0->tensorflow-io) (1.5.2)\n",
            "Requirement already satisfied: importlib-metadata; python_version < \"3.8\" in /usr/local/lib/python3.7/dist-packages (from markdown>=2.6.8->tensorboard~=2.5->tensorflow<2.6.0,>=2.5.0->tensorflow-io) (4.5.0)\n",
            "Requirement already satisfied: requests-oauthlib>=0.7.0 in /usr/local/lib/python3.7/dist-packages (from google-auth-oauthlib<0.5,>=0.4.1->tensorboard~=2.5->tensorflow<2.6.0,>=2.5.0->tensorflow-io) (1.3.0)\n",
            "Requirement already satisfied: chardet<4,>=3.0.2 in /usr/local/lib/python3.7/dist-packages (from requests<3,>=2.21.0->tensorboard~=2.5->tensorflow<2.6.0,>=2.5.0->tensorflow-io) (3.0.4)\n",
            "Requirement already satisfied: idna<3,>=2.5 in /usr/local/lib/python3.7/dist-packages (from requests<3,>=2.21.0->tensorboard~=2.5->tensorflow<2.6.0,>=2.5.0->tensorflow-io) (2.10)\n",
            "Requirement already satisfied: certifi>=2017.4.17 in /usr/local/lib/python3.7/dist-packages (from requests<3,>=2.21.0->tensorboard~=2.5->tensorflow<2.6.0,>=2.5.0->tensorflow-io) (2021.5.30)\n",
            "Requirement already satisfied: urllib3!=1.25.0,!=1.25.1,<1.26,>=1.21.1 in /usr/local/lib/python3.7/dist-packages (from requests<3,>=2.21.0->tensorboard~=2.5->tensorflow<2.6.0,>=2.5.0->tensorflow-io) (1.24.3)\n",
            "Requirement already satisfied: rsa<5,>=3.1.4; python_version >= \"3.6\" in /usr/local/lib/python3.7/dist-packages (from google-auth<2,>=1.6.3->tensorboard~=2.5->tensorflow<2.6.0,>=2.5.0->tensorflow-io) (4.7.2)\n",
            "Requirement already satisfied: pyasn1-modules>=0.2.1 in /usr/local/lib/python3.7/dist-packages (from google-auth<2,>=1.6.3->tensorboard~=2.5->tensorflow<2.6.0,>=2.5.0->tensorflow-io) (0.2.8)\n",
            "Requirement already satisfied: cachetools<5.0,>=2.0.0 in /usr/local/lib/python3.7/dist-packages (from google-auth<2,>=1.6.3->tensorboard~=2.5->tensorflow<2.6.0,>=2.5.0->tensorflow-io) (4.2.2)\n",
            "Requirement already satisfied: zipp>=0.5 in /usr/local/lib/python3.7/dist-packages (from importlib-metadata; python_version < \"3.8\"->markdown>=2.6.8->tensorboard~=2.5->tensorflow<2.6.0,>=2.5.0->tensorflow-io) (3.4.1)\n",
            "Requirement already satisfied: oauthlib>=3.0.0 in /usr/local/lib/python3.7/dist-packages (from requests-oauthlib>=0.7.0->google-auth-oauthlib<0.5,>=0.4.1->tensorboard~=2.5->tensorflow<2.6.0,>=2.5.0->tensorflow-io) (3.1.1)\n",
            "Requirement already satisfied: pyasn1>=0.1.3 in /usr/local/lib/python3.7/dist-packages (from rsa<5,>=3.1.4; python_version >= \"3.6\"->google-auth<2,>=1.6.3->tensorboard~=2.5->tensorflow<2.6.0,>=2.5.0->tensorflow-io) (0.4.8)\n",
            "Installing collected packages: tensorflow-io-gcs-filesystem, tensorflow-io\n",
            "Successfully installed tensorflow-io-0.19.0 tensorflow-io-gcs-filesystem-0.19.0\n"
          ],
          "name": "stdout"
        }
      ]
    },
    {
      "cell_type": "code",
      "metadata": {
        "id": "fy3PMJWoP7Qr"
      },
      "source": [
        "import tensorflow_io as tfio"
      ],
      "execution_count": null,
      "outputs": []
    },
    {
      "cell_type": "code",
      "metadata": {
        "id": "-I5anQDD4b9b"
      },
      "source": [
        "import tensorflow as tf\n",
        "import keras\n",
        "\n",
        "class DataGenerator(tf.keras.utils.Sequence):\n",
        "    'Generates data for Keras'\n",
        "    def __init__(self, list_examples, batch_size=128, epoch_size = 16384, dim=(1, ),\n",
        "                 n_classes=2, shuffle=True):\n",
        "        'Initialization'\n",
        "        print(\"Constructor called!!!\")\n",
        "        self.dim = dim\n",
        "        self.batch_size = batch_size\n",
        "        self.epoch_size = epoch_size\n",
        "        self.list_examples = list_examples\n",
        "        self.n_classes = n_classes\n",
        "        self.shuffle = shuffle\n",
        "        self.on_epoch_end()\n",
        "\n",
        "    def __len__(self):\n",
        "        'Denotes the number of batches per epoch'\n",
        "        #print(\"The self.list_examples is {}\".format(self.list_examples))\n",
        "        return int(np.floor(len(self.list_examples) / self.batch_size))\n",
        "\n",
        "    def __getitem__(self, index):\n",
        "        'Generate one batch of data'\n",
        "        indexes = self.indexes[index*self.batch_size:(index+1)*self.batch_size]\n",
        "\n",
        "        # Find list of IDs\n",
        "        list_IDs_temp = [self.list_examples[k] for k in indexes]\n",
        "\n",
        "        # Generate data\n",
        "        X, y = self.__data_generation(list_IDs_temp)\n",
        "\n",
        "        return X, y\n",
        "        \n",
        "    def on_epoch_end(self):\n",
        "      self.indexes = np.arange(len(self.list_examples))\n",
        "      if self.shuffle == True:\n",
        "          np.random.shuffle(self.indexes)\n",
        "\n",
        "    def __data_generation(self, list_IDs_temp):\n",
        "        # 'Generates data containing batch_size samples' # X : (n_samples, *dim, n_channels)\n",
        "        # # Initialization\n",
        "        X = np.empty([self.batch_size, 257, 40, 1], dtype=np.float64)\n",
        "        y = np.empty([self.batch_size, 257, 6], dtype=np.float64)\n",
        "\n",
        "        # Generate data\n",
        "        for i, ID in enumerate(list_IDs_temp):\n",
        "          # Store sample\n",
        "\n",
        "          xx = np.load(ID[0])\n",
        "\n",
        "          X[i, :, :, 0] = xx\n",
        "\n",
        "          # Store class\n",
        "          yy = np.load(ID[1])\n",
        "          # yy2 = yy[:, [1, 2, 4, 5]]\n",
        "          y[i, :, :] = yy\n",
        "\n",
        "        tau = X.shape[1]          \n",
        "        v = X.shape[2]\n",
        "\n",
        "        warped_frequency_spectrogram = spec_augment_tensorflow.frequency_masking(X, v=v,  frequency_masking_para=8, frequency_mask_num=1)\n",
        "        warped_frequency_time_sepctrogram = spec_augment_tensorflow.time_masking(warped_frequency_spectrogram, tau=tau, time_masking_para=25, time_mask_num=2)\n",
        "\n",
        "        X = warped_frequency_time_sepctrogram\n",
        "\n",
        "\n",
        "\n",
        "        return X, y"
      ],
      "execution_count": null,
      "outputs": []
    },
    {
      "cell_type": "code",
      "metadata": {
        "colab": {
          "base_uri": "https://localhost:8080/"
        },
        "id": "ylXiTH1Q_0vY",
        "outputId": "76e99b83-5b92-4ae5-dc59-99732032922c"
      },
      "source": [
        "# Parametersa\n",
        "params = {'dim': (1, ),\n",
        "          'batch_size': 32,\n",
        "          'epoch_size': 0,\n",
        "          'n_classes': 2,\n",
        "          'shuffle': True}\n",
        "\n",
        "# Generators\n",
        "training_generator = DataGenerator(partition['train'], **params)\n",
        "validation_generator = DataGenerator(partition['validation'], **params)"
      ],
      "execution_count": null,
      "outputs": [
        {
          "output_type": "stream",
          "text": [
            "Constructor called!!!\n",
            "Constructor called!!!\n"
          ],
          "name": "stdout"
        }
      ]
    },
    {
      "cell_type": "markdown",
      "metadata": {
        "id": "Wp6_rpxJ-5FA"
      },
      "source": [
        "# Define the YOHO network"
      ]
    },
    {
      "cell_type": "code",
      "metadata": {
        "id": "kAHsOD5v-6no"
      },
      "source": [
        "def my_loss_fn(y_true, y_pred):\n",
        "  weight = tf.constant([1.0])\n",
        "\n",
        "  squared_difference = tf.square(y_true - y_pred)\n",
        "\n",
        "  ss_True = squared_difference[:, :, 0] * 0 + 1\n",
        "\n",
        "  ss_0 = y_true[:, :, 0]\n",
        "  ss_1 = y_true[:, :, 3]\n",
        "  ss_2 = y_true[:, :, 6]\n",
        "  ss_3 = y_true[:, :, 9]\n",
        "  ss_4 = y_true[:, :, 12]\n",
        "  ss_5 = y_true[:, :, 15]\n",
        "\n",
        "  sss = tf.stack((ss_True, ss_0, ss_0,\n",
        "                  ss_True, ss_1, ss_1,\n",
        "                  ss_True, ss_2, ss_2,\n",
        "                  ss_True, ss_3, ss_3,\n",
        "                  ss_True, ss_4, ss_4,\n",
        "                  ss_True, ss_5, ss_5), axis = 2)\n",
        "  \n",
        "  squared_difference =  tf.multiply(squared_difference, sss)\n",
        "\n",
        "  return tf.reduce_sum(squared_difference, axis=[-1, -2])  # Note the `axis=-1`"
      ],
      "execution_count": null,
      "outputs": []
    },
    {
      "cell_type": "code",
      "metadata": {
        "id": "uIBhAmosBZgQ"
      },
      "source": [
        "import tensorflow as tf"
      ],
      "execution_count": null,
      "outputs": []
    },
    {
      "cell_type": "code",
      "metadata": {
        "id": "6pRXuHzjBEYC"
      },
      "source": [
        "# This optimises val loss for Wave-U-Net YOHO\n",
        "# Back to Val Binary acc.\n",
        "\n",
        "import os\n",
        "class MyCustomCallback_3(tf.keras.callbacks.Callback):\n",
        "  def __init__(self, model_dir, patience=0):\n",
        "    super(MyCustomCallback_3, self).__init__()\n",
        "    self.patience = patience\n",
        "    # best_weights to store the weights at which the minimum loss occurs.\n",
        "    self.best_weights = None\n",
        "    self.model_best_path = os.path.join(model_dir, 'model-best.h5')\n",
        "    self.model_last_path = os.path.join(model_dir, 'model-last-epoch.h5')\n",
        "    self.custom_params = {\"best_loss\":np.inf, \"last_epoch\":0}\n",
        "    \n",
        "    self.custom_params_path = os.path.join(model_dir, 'custom_params.pickle')\n",
        "    if os.path.isfile(self.custom_params_path):\n",
        "      with open(self.custom_params_path, 'rb') as f:\n",
        "        self.custom_params = pickle.load(f)\n",
        "\n",
        "  def on_train_begin(self, logs=None):\n",
        "    # The number of epoch it has waited when loss is no longer minimum.\n",
        "    self.wait = 0\n",
        "    # The epoch the training stops at.\n",
        "    self.stopped_epoch = 0\n",
        "    # Initialize the best F1 as 0.0.\n",
        "    self.is_impatient = False\n",
        "\n",
        "  def on_train_end(self, logs=None):\n",
        "    if not self.is_impatient:\n",
        "      print(\"Restoring model weights from the end of the best epoch.\")\n",
        "      self.model.set_weights(self.best_weights)\n",
        "      # temp_model_path = self.model_path.replace(\".h5\", \"_temp.h5\")\n",
        "      #os.remove(temp_model_path)\n",
        "\n",
        "  def on_epoch_end(self, epoch, logs=None):\n",
        "    current_val_loss = logs.get(\"val_loss\")\n",
        "    self.model.save_weights(self.model_last_path)\n",
        "    self.custom_params[\"last_epoch\"] = self.custom_params[\"last_epoch\"] + 1\n",
        "\n",
        "    if current_val_loss < self.custom_params['best_loss']:\n",
        "      self.custom_params['best_loss'] = current_val_loss\n",
        "      self.wait = 0\n",
        "      self.best_weights = self.model.get_weights()\n",
        "      self.model.save_weights(self.model_best_path)\n",
        "\n",
        "    else:\n",
        "        self.wait += 1\n",
        "        if self.wait >= self.patience:\n",
        "            self.stopped_epoch = epoch\n",
        "            self.is_impatient = True\n",
        "            self.model.stop_training = True\n",
        "            print(\"Restoring model weights from the end of the best epoch.\")\n",
        "            self.model.set_weights(self.best_weights)\n",
        "            #os.remove(temp_model_path)\n",
        "    with open(self.custom_params_path, 'wb') as f:\n",
        "      pickle.dump(self.custom_params, f, pickle.HIGHEST_PROTOCOL)"
      ],
      "execution_count": null,
      "outputs": []
    },
    {
      "cell_type": "code",
      "metadata": {
        "colab": {
          "base_uri": "https://localhost:8080/"
        },
        "id": "RZ92W8kY2zDD",
        "outputId": "d8b8f6f2-5fef-4a7c-b22d-50e6f452ca4d"
      },
      "source": [
        "list(enumerate(fold4_val_files))"
      ],
      "execution_count": null,
      "outputs": [
        {
          "output_type": "execute_result",
          "data": {
            "text/plain": [
              "[(0,\n",
              "  '/content/development/TUT-sound-events-2017-development/audio-mono/street/a010.wav'),\n",
              " (1,\n",
              "  '/content/development/TUT-sound-events-2017-development/audio-mono/street/a013.wav'),\n",
              " (2,\n",
              "  '/content/development/TUT-sound-events-2017-development/audio-mono/street/a129.wav'),\n",
              " (3,\n",
              "  '/content/development/TUT-sound-events-2017-development/audio-mono/street/b099.wav'),\n",
              " (4,\n",
              "  '/content/development/TUT-sound-events-2017-development/audio-mono/street/b100.wav'),\n",
              " (5,\n",
              "  '/content/development/TUT-sound-events-2017-development/audio-mono/street/b008.wav')]"
            ]
          },
          "metadata": {
            "tags": []
          },
          "execution_count": 55
        }
      ]
    },
    {
      "cell_type": "code",
      "metadata": {
        "colab": {
          "base_uri": "https://localhost:8080/"
        },
        "id": "fWzYovr59Pgs",
        "outputId": "05cf686e-1bee-4b27-ac98-4a72660de1ee"
      },
      "source": [
        "len(fold4_val_files)"
      ],
      "execution_count": null,
      "outputs": [
        {
          "output_type": "execute_result",
          "data": {
            "text/plain": [
              "6"
            ]
          },
          "metadata": {
            "tags": []
          },
          "execution_count": 56
        }
      ]
    },
    {
      "cell_type": "code",
      "metadata": {
        "id": "w_gzznW3RFvT"
      },
      "source": [
        ""
      ],
      "execution_count": null,
      "outputs": []
    },
    {
      "cell_type": "code",
      "metadata": {
        "colab": {
          "base_uri": "https://localhost:8080/"
        },
        "id": "PfK3iSUjRF2K",
        "outputId": "02123cd0-afe8-415b-b01c-7c01e52fc2c9"
      },
      "source": [
        "!pip install sed_eval"
      ],
      "execution_count": null,
      "outputs": [
        {
          "output_type": "stream",
          "text": [
            "Collecting sed_eval\n",
            "  Downloading https://files.pythonhosted.org/packages/8d/b2/55591da46753ad1f1d375f5a0d1e12728ae9bf7270ecf47ff7fe902a4274/sed_eval-0.2.1.tar.gz\n",
            "Requirement already satisfied: numpy>=1.7.0 in /usr/local/lib/python3.7/dist-packages (from sed_eval) (1.19.5)\n",
            "Collecting dcase_util>=0.2.4\n",
            "\u001b[?25l  Downloading https://files.pythonhosted.org/packages/9b/d4/7568088c54690a85d7dfa22b86993ce3f3d20affca91c67e4babc7df55b8/dcase_util-0.2.18.tar.gz (2.1MB)\n",
            "\u001b[K     |████████████████████████████████| 2.1MB 15.8MB/s \n",
            "\u001b[?25hRequirement already satisfied: scipy>=0.19.1 in /usr/local/lib/python3.7/dist-packages (from dcase_util>=0.2.4->sed_eval) (1.4.1)\n",
            "Requirement already satisfied: matplotlib>=2.0.0 in /usr/local/lib/python3.7/dist-packages (from dcase_util>=0.2.4->sed_eval) (3.2.2)\n",
            "Requirement already satisfied: librosa>=0.7.0 in /usr/local/lib/python3.7/dist-packages (from dcase_util>=0.2.4->sed_eval) (0.8.1)\n",
            "Requirement already satisfied: six>=1.10.0 in /usr/local/lib/python3.7/dist-packages (from dcase_util>=0.2.4->sed_eval) (1.15.0)\n",
            "Requirement already satisfied: future>=0.16.0 in /usr/local/lib/python3.7/dist-packages (from dcase_util>=0.2.4->sed_eval) (0.16.0)\n",
            "Requirement already satisfied: soundfile>=0.9.0 in /usr/local/lib/python3.7/dist-packages (from dcase_util>=0.2.4->sed_eval) (0.10.3.post1)\n",
            "Requirement already satisfied: pyyaml>=3.11 in /usr/local/lib/python3.7/dist-packages (from dcase_util>=0.2.4->sed_eval) (3.13)\n",
            "Requirement already satisfied: requests>=2.12.4 in /usr/local/lib/python3.7/dist-packages (from dcase_util>=0.2.4->sed_eval) (2.23.0)\n",
            "Requirement already satisfied: tqdm>=4.11.2 in /usr/local/lib/python3.7/dist-packages (from dcase_util>=0.2.4->sed_eval) (4.41.1)\n",
            "Requirement already satisfied: pydot-ng>=1.0.0 in /usr/local/lib/python3.7/dist-packages (from dcase_util>=0.2.4->sed_eval) (2.0.0)\n",
            "Collecting validators>=0.12.0\n",
            "  Downloading https://files.pythonhosted.org/packages/db/2f/7fed3ee94ad665ad2c1de87f858f10a7785251ff75b4fd47987888d07ef1/validators-0.18.2-py3-none-any.whl\n",
            "Collecting python-magic>=0.4.13\n",
            "  Downloading https://files.pythonhosted.org/packages/d3/99/c89223c6547df268596899334ee77b3051f606077317023617b1c43162fb/python_magic-0.4.24-py2.py3-none-any.whl\n",
            "Requirement already satisfied: pyparsing!=2.0.4,!=2.1.2,!=2.1.6,>=2.0.1 in /usr/local/lib/python3.7/dist-packages (from matplotlib>=2.0.0->dcase_util>=0.2.4->sed_eval) (2.4.7)\n",
            "Requirement already satisfied: python-dateutil>=2.1 in /usr/local/lib/python3.7/dist-packages (from matplotlib>=2.0.0->dcase_util>=0.2.4->sed_eval) (2.8.1)\n",
            "Requirement already satisfied: kiwisolver>=1.0.1 in /usr/local/lib/python3.7/dist-packages (from matplotlib>=2.0.0->dcase_util>=0.2.4->sed_eval) (1.3.1)\n",
            "Requirement already satisfied: cycler>=0.10 in /usr/local/lib/python3.7/dist-packages (from matplotlib>=2.0.0->dcase_util>=0.2.4->sed_eval) (0.10.0)\n",
            "Requirement already satisfied: numba>=0.43.0 in /usr/local/lib/python3.7/dist-packages (from librosa>=0.7.0->dcase_util>=0.2.4->sed_eval) (0.51.2)\n",
            "Requirement already satisfied: scikit-learn!=0.19.0,>=0.14.0 in /usr/local/lib/python3.7/dist-packages (from librosa>=0.7.0->dcase_util>=0.2.4->sed_eval) (0.22.2.post1)\n",
            "Requirement already satisfied: packaging>=20.0 in /usr/local/lib/python3.7/dist-packages (from librosa>=0.7.0->dcase_util>=0.2.4->sed_eval) (20.9)\n",
            "Requirement already satisfied: pooch>=1.0 in /usr/local/lib/python3.7/dist-packages (from librosa>=0.7.0->dcase_util>=0.2.4->sed_eval) (1.4.0)\n",
            "Requirement already satisfied: audioread>=2.0.0 in /usr/local/lib/python3.7/dist-packages (from librosa>=0.7.0->dcase_util>=0.2.4->sed_eval) (2.1.9)\n",
            "Requirement already satisfied: decorator>=3.0.0 in /usr/local/lib/python3.7/dist-packages (from librosa>=0.7.0->dcase_util>=0.2.4->sed_eval) (4.4.2)\n",
            "Requirement already satisfied: joblib>=0.14 in /usr/local/lib/python3.7/dist-packages (from librosa>=0.7.0->dcase_util>=0.2.4->sed_eval) (1.0.1)\n",
            "Requirement already satisfied: resampy>=0.2.2 in /usr/local/lib/python3.7/dist-packages (from librosa>=0.7.0->dcase_util>=0.2.4->sed_eval) (0.2.2)\n",
            "Requirement already satisfied: cffi>=1.0 in /usr/local/lib/python3.7/dist-packages (from soundfile>=0.9.0->dcase_util>=0.2.4->sed_eval) (1.14.5)\n",
            "Requirement already satisfied: certifi>=2017.4.17 in /usr/local/lib/python3.7/dist-packages (from requests>=2.12.4->dcase_util>=0.2.4->sed_eval) (2021.5.30)\n",
            "Requirement already satisfied: chardet<4,>=3.0.2 in /usr/local/lib/python3.7/dist-packages (from requests>=2.12.4->dcase_util>=0.2.4->sed_eval) (3.0.4)\n",
            "Requirement already satisfied: urllib3!=1.25.0,!=1.25.1,<1.26,>=1.21.1 in /usr/local/lib/python3.7/dist-packages (from requests>=2.12.4->dcase_util>=0.2.4->sed_eval) (1.24.3)\n",
            "Requirement already satisfied: idna<3,>=2.5 in /usr/local/lib/python3.7/dist-packages (from requests>=2.12.4->dcase_util>=0.2.4->sed_eval) (2.10)\n",
            "Requirement already satisfied: llvmlite<0.35,>=0.34.0.dev0 in /usr/local/lib/python3.7/dist-packages (from numba>=0.43.0->librosa>=0.7.0->dcase_util>=0.2.4->sed_eval) (0.34.0)\n",
            "Requirement already satisfied: setuptools in /usr/local/lib/python3.7/dist-packages (from numba>=0.43.0->librosa>=0.7.0->dcase_util>=0.2.4->sed_eval) (57.0.0)\n",
            "Requirement already satisfied: appdirs in /usr/local/lib/python3.7/dist-packages (from pooch>=1.0->librosa>=0.7.0->dcase_util>=0.2.4->sed_eval) (1.4.4)\n",
            "Requirement already satisfied: pycparser in /usr/local/lib/python3.7/dist-packages (from cffi>=1.0->soundfile>=0.9.0->dcase_util>=0.2.4->sed_eval) (2.20)\n",
            "Building wheels for collected packages: sed-eval, dcase-util\n",
            "  Building wheel for sed-eval (setup.py) ... \u001b[?25l\u001b[?25hdone\n",
            "  Created wheel for sed-eval: filename=sed_eval-0.2.1-cp37-none-any.whl size=26124 sha256=50db4012a369fdf45aefaffcd1f5759773a24f64e3438f2ece021e4612524cc3\n",
            "  Stored in directory: /root/.cache/pip/wheels/3c/72/5d/5fc941f98c583ce9d8adee7f13e24b46459aeded4125f9c369\n",
            "  Building wheel for dcase-util (setup.py) ... \u001b[?25l\u001b[?25hdone\n",
            "  Created wheel for dcase-util: filename=dcase_util-0.2.18-cp37-none-any.whl size=2147233 sha256=60b19ab78356c402438261744e332abc00862256c77c4f031af713dfa22941fd\n",
            "  Stored in directory: /root/.cache/pip/wheels/d1/5d/9e/c94cd8bfb80541c73d549c734cafcd3de994dbb117a6485c81\n",
            "Successfully built sed-eval dcase-util\n",
            "Installing collected packages: validators, python-magic, dcase-util, sed-eval\n",
            "Successfully installed dcase-util-0.2.18 python-magic-0.4.24 sed-eval-0.2.1 validators-0.18.2\n"
          ],
          "name": "stdout"
        }
      ]
    },
    {
      "cell_type": "code",
      "metadata": {
        "id": "Ete_M-WZRF2L"
      },
      "source": [
        "import sed_eval\n",
        "import dcase_util"
      ],
      "execution_count": null,
      "outputs": []
    },
    {
      "cell_type": "code",
      "metadata": {
        "id": "-0po_OGxRF2L"
      },
      "source": [
        "import pickle"
      ],
      "execution_count": null,
      "outputs": []
    },
    {
      "cell_type": "code",
      "metadata": {
        "id": "c6sEYWpa2zKd"
      },
      "source": [
        "# Creates mel spctrograms for training\n",
        "\n",
        "win_length = 2.56\n",
        "hop_size = 1.96\n",
        "mss_ins = []\n",
        "win_ranges_list = []\n",
        "\n",
        "\n",
        "for ii, audio in enumerate(fold4_val_files):\n",
        "  a, win_ranges = construct_examples(audio, win_len=win_length,hop_len=hop_size)\n",
        "\n",
        "  mss_in = np.zeros((len(a), 257, 40))\n",
        "\n",
        "  preds = np.zeros((len(a), 9, 18))\n",
        "\n",
        "\n",
        "  for i in range(len(a)):\n",
        "    M = get_log_melspectrogram(a[i])\n",
        "    mss_in[i, :, :] = M.T\n",
        "  mss_ins.append(mss_in)\n",
        "  win_ranges_list.append(win_ranges)\n",
        "\n",
        "def mk_preds_YOHO_mel(model, ind, mss_ins=mss_ins, no_of_div = 9, hop_size = 1.96, discard = 0.3, win_length = 2.56, max_event_silence = 0.3, sampling_rate = 44100):\n",
        "  preds = model.predict(mss_ins[ind])\n",
        "  events = []\n",
        "\n",
        "  for i in range(len(preds)):\n",
        "    p = preds[i, :, :]\n",
        "    events_curr = []\n",
        "    win_width = win_length / no_of_div\n",
        "    for j in range(len(p)):\n",
        "      for jjj in range(0, 6):\n",
        "        if p[j][jjj*3] >= 0.5:\n",
        "          start = win_width * j + win_width * p[j][jjj*3+1] + win_ranges_list[ind][i][0]\n",
        "          end = p[j][jjj*3+2] * win_width + start\n",
        "          events_curr.append([start, end, rev_class_dict[jjj]])\n",
        "\n",
        "    events += events_curr\n",
        "\n",
        "\n",
        "  class_set = set([c[2] for c in events])\n",
        "  class_wise_events = {}\n",
        "\n",
        "  for c in list(class_set):\n",
        "    class_wise_events[c] = []\n",
        "\n",
        "\n",
        "  for c in events:\n",
        "    class_wise_events[c[2]].append(c)\n",
        "    \n",
        "  \n",
        "  all_events = []\n",
        "\n",
        "  for k in list(class_wise_events.keys()):\n",
        "    curr_events = class_wise_events[k]\n",
        "    count = 0\n",
        "\n",
        "    while count < len(curr_events) - 1:\n",
        "      if (curr_events[count][1] >= curr_events[count + 1][0]) or (curr_events[count + 1][0] - curr_events[count][1] <= max_event_silence):\n",
        "        curr_events[count][1] = max(curr_events[count + 1][1], curr_events[count][1])\n",
        "        del curr_events[count + 1]\n",
        "      else:\n",
        "        count += 1\n",
        "\n",
        "    all_events += curr_events\n",
        "\n",
        "  for i in range(len(all_events)):\n",
        "    all_events[i][0] = round(all_events[i][0], 3)\n",
        "    all_events[i][1] = round(all_events[i][1], 3)\n",
        "\n",
        "  all_events.sort(key=lambda x: x[0])\n",
        "\n",
        "  return all_events\n",
        "\n",
        "\n",
        "import os"
      ],
      "execution_count": null,
      "outputs": []
    },
    {
      "cell_type": "code",
      "metadata": {
        "id": "RF3BfLy9Rt0Q"
      },
      "source": [
        "rev_class_dict = ['brakes squeaking',\n",
        "              'car',\n",
        "              'children',\n",
        "              'large vehicle',\n",
        "              'people speaking',\n",
        "              'people walking']"
      ],
      "execution_count": null,
      "outputs": []
    },
    {
      "cell_type": "code",
      "metadata": {
        "id": "xteY8W6XlaR_",
        "colab": {
          "base_uri": "https://localhost:8080/",
          "height": 246
        },
        "outputId": "d6288500-a2c2-4ef2-c9ce-61c946d6dd28"
      },
      "source": [
        "def frames_to_time(f, sr = 44100.0, hop_size = 441):\n",
        "  return f * hop_size / sr\n",
        "\n",
        "def preds_to_se(p, win_start, audio_clip_length = 2.56):\n",
        "  start_dicts = [-100, -100, -100, -100, -100, -100]\n",
        "  stop_dicts = [-100, -100, -100, -100, -100, -100]\n",
        "\n",
        "\n",
        "  start_speech = -100\n",
        "  start_music = -100\n",
        "  stop_speech = -100\n",
        "  stop_music = -100\n",
        "\n",
        "  audio_events = []\n",
        "\n",
        "  n_frames = p.shape[0]\n",
        "\n",
        "  for j in range(p.shape[1]):\n",
        "    if p[0, j] >= 0.5:\n",
        "      start_dicts[j] = 0\n",
        "\n",
        "  for j in range(p.shape[1]):\n",
        "    for i in range(n_frames - 1):\n",
        "      if p[i, j] < 0.5 and p[i+1, j] >= 0.5:\n",
        "        start_dicts[j] = i+1\n",
        "\n",
        "      elif p[i, j] >= 0.5 and p[i + 1, j] < 0.5:\n",
        "        stop_dicts[j] = i\n",
        "        start_time = frames_to_time(start_dicts[j])\n",
        "        stop_time = frames_to_time(stop_dicts[j])\n",
        "\n",
        "        audio_events.append([start_time+win_start, stop_time+win_start, rev_class_dict[j]])\n",
        "        start_dicts[j] = -100\n",
        "        stop_dicts[j] = -100\n",
        "\n",
        "    if start_dicts[j] != -100:\n",
        "      start_time = frames_to_time(start_dicts[j])\n",
        "      stop_time = audio_clip_length\n",
        "      audio_events.append([start_time+win_start, stop_time+win_start, rev_class_dict[j]])\n",
        "      start_dicts[j] = -100\n",
        "      stop_dicts[j] = -100\n",
        "\n",
        "  audio_events.sort(key = lambda x: x[0]) \n",
        "  return audio_events"
      ],
      "execution_count": null,
      "outputs": [
        {
          "output_type": "error",
          "ename": "NameError",
          "evalue": "ignored",
          "traceback": [
            "\u001b[0;31m---------------------------------------------------------------------------\u001b[0m",
            "\u001b[0;31mNameError\u001b[0m                                 Traceback (most recent call last)",
            "\u001b[0;32m<ipython-input-29-a7e8eb628b23>\u001b[0m in \u001b[0;36m<module>\u001b[0;34m()\u001b[0m\n\u001b[1;32m     45\u001b[0m \u001b[0;34m\u001b[0m\u001b[0m\n\u001b[1;32m     46\u001b[0m \u001b[0;34m\u001b[0m\u001b[0m\n\u001b[0;32m---> 47\u001b[0;31m \u001b[0;32mdef\u001b[0m \u001b[0mmk_preds_CRNN_mel\u001b[0m\u001b[0;34m(\u001b[0m\u001b[0mmodel\u001b[0m\u001b[0;34m,\u001b[0m \u001b[0mind\u001b[0m\u001b[0;34m,\u001b[0m \u001b[0mmss_ins\u001b[0m\u001b[0;34m=\u001b[0m\u001b[0mmss_ins\u001b[0m\u001b[0;34m,\u001b[0m \u001b[0mno_of_div\u001b[0m \u001b[0;34m=\u001b[0m \u001b[0;36m9\u001b[0m\u001b[0;34m,\u001b[0m \u001b[0mhop_size\u001b[0m \u001b[0;34m=\u001b[0m \u001b[0;36m1.96\u001b[0m\u001b[0;34m,\u001b[0m \u001b[0mdiscard\u001b[0m \u001b[0;34m=\u001b[0m \u001b[0;36m0.3\u001b[0m\u001b[0;34m,\u001b[0m \u001b[0mwin_length\u001b[0m \u001b[0;34m=\u001b[0m \u001b[0;36m2.56\u001b[0m\u001b[0;34m,\u001b[0m \u001b[0mmax_event_silence\u001b[0m \u001b[0;34m=\u001b[0m \u001b[0;36m0.3\u001b[0m\u001b[0;34m,\u001b[0m \u001b[0msampling_rate\u001b[0m \u001b[0;34m=\u001b[0m \u001b[0;36m44100\u001b[0m\u001b[0;34m)\u001b[0m\u001b[0;34m:\u001b[0m\u001b[0;34m\u001b[0m\u001b[0;34m\u001b[0m\u001b[0m\n\u001b[0m\u001b[1;32m     48\u001b[0m   \u001b[0mpreds\u001b[0m \u001b[0;34m=\u001b[0m \u001b[0mmodel\u001b[0m\u001b[0;34m.\u001b[0m\u001b[0mpredict\u001b[0m\u001b[0;34m(\u001b[0m\u001b[0mmss_ins\u001b[0m\u001b[0;34m[\u001b[0m\u001b[0mind\u001b[0m\u001b[0;34m]\u001b[0m\u001b[0;34m)\u001b[0m\u001b[0;34m\u001b[0m\u001b[0;34m\u001b[0m\u001b[0m\n\u001b[1;32m     49\u001b[0m   \u001b[0mevents\u001b[0m \u001b[0;34m=\u001b[0m \u001b[0;34m[\u001b[0m\u001b[0;34m]\u001b[0m\u001b[0;34m\u001b[0m\u001b[0;34m\u001b[0m\u001b[0m\n",
            "\u001b[0;31mNameError\u001b[0m: name 'mss_ins' is not defined"
          ]
        }
      ]
    },
    {
      "cell_type": "code",
      "metadata": {
        "id": "-lhO-or3cxJm"
      },
      "source": [
        "def extract_labels_2(annotation_path):\n",
        "  events = read_annotation(annotation_path)\n",
        "\n",
        "  ann = [[float(e[2]), float(e[3]), e[4]] for e in events]\n",
        "  \n",
        "  n_label = \"/content/eval-files-2/\" + os.path.basename(annotation_path)\n",
        "\n",
        "  with open(n_label, 'w') as fp:\n",
        "    fp.write('\\n'.join('{},{},{}'.format(round(x[0], 5), round(x[1], 5), x[2]) for x in ann))"
      ],
      "execution_count": null,
      "outputs": []
    },
    {
      "cell_type": "code",
      "metadata": {
        "id": "i2pIA6vCcxJm"
      },
      "source": [
        "shutil.rmtree('/content/eval-files-2/')\n",
        "os.mkdir(\"/content/eval-files-2/\")"
      ],
      "execution_count": null,
      "outputs": []
    },
    {
      "cell_type": "code",
      "metadata": {
        "id": "HTXX7tItcxJn"
      },
      "source": [
        "for audio in fold4_val_files:\n",
        "  extract_labels_2(audio.replace(\".wav\", \".ann\").replace(\"audio-mono\", \"meta\"))"
      ],
      "execution_count": null,
      "outputs": []
    },
    {
      "cell_type": "code",
      "metadata": {
        "id": "i9RIHH_49zOE"
      },
      "source": [
        "class MyCustomCallback_44(tf.keras.callbacks.Callback):\n",
        "  def __init__(self):\n",
        "    super(MyCustomCallback_44, self).__init__()\n",
        "    self.best_f1 = 0.0\n",
        "    self.best_error = np.inf\n",
        "\n",
        "    \n",
        "  def on_train_begin(self, logs=None):\n",
        "    pass\n",
        "\n",
        "  def on_train_end(self, logs=None):\n",
        "    pass\n",
        "\n",
        "  def on_epoch_end(self, epoch, logs=None):\n",
        "    if epoch > 1:\n",
        "      for ii, audio in enumerate(fold4_val_files):\n",
        "        audio_file_path = audio\n",
        "        see = mk_preds_YOHO_mel(self.model, ii)\n",
        "        n_label = n_label = \"/content/eval-files-2/\" + os.path.basename(audio_file_path).replace(\".wav\" ,\"\") + \"-se-prediction.ann\"\n",
        "\n",
        "        with open(n_label, 'w') as fp:\n",
        "          fp.write('\\n'.join('{},{},{}'.format(round(x[0], 5), round(x[1], 5), x[2]) for x in see))\n",
        "\n",
        "      destination = \"/content/eval-files-2/\"\n",
        "      test_set = glob.glob(destination + \"*[0-9].ann\")\n",
        "\n",
        "      eval_path = \"/content/\"\n",
        "\n",
        "\n",
        "      file_list = [\n",
        "          {\n",
        "          'reference_file': tt,\n",
        "          'estimated_file': tt.replace(\".ann\",\"-se-prediction.ann\")\n",
        "          }\n",
        "          for tt in test_set\n",
        "      ]\n",
        "\n",
        "      data = []\n",
        "\n",
        "      # Get used event labels\n",
        "      all_data = dcase_util.containers.MetaDataContainer()\n",
        "      for file_pair in file_list:\n",
        "          reference_event_list = sed_eval.io.load_event_list(\n",
        "              filename=file_pair['reference_file']\n",
        "          )\n",
        "          estimated_event_list = sed_eval.io.load_event_list(\n",
        "              filename=file_pair['estimated_file']\n",
        "          )\n",
        "\n",
        "          data.append({'reference_event_list': reference_event_list,\n",
        "                      'estimated_event_list': estimated_event_list})\n",
        "\n",
        "          all_data += reference_event_list\n",
        "\n",
        "      event_labels = all_data.unique_event_labels\n",
        "\n",
        "      # Start evaluating\n",
        "\n",
        "      # Create metrics classes, define parameters\n",
        "      segment_based_metrics = sed_eval.sound_event.SegmentBasedMetrics(\n",
        "          event_label_list=event_labels,\n",
        "          time_resolution=1.0\n",
        "      )\n",
        "\n",
        "      event_based_metrics = sed_eval.sound_event.EventBasedMetrics(\n",
        "          event_label_list=event_labels,\n",
        "          t_collar=1.0\n",
        "      )\n",
        "\n",
        "      # Go through files\n",
        "      for file_pair in data:\n",
        "          segment_based_metrics.evaluate(\n",
        "              reference_event_list=file_pair['reference_event_list'],\n",
        "              estimated_event_list=file_pair['estimated_event_list']\n",
        "          )\n",
        "\n",
        "          event_based_metrics.evaluate(\n",
        "              reference_event_list=file_pair['reference_event_list'],\n",
        "              estimated_event_list=file_pair['estimated_event_list']\n",
        "          )\n",
        "\n",
        "      # Get only certain metrics\n",
        "      overall_segment_based_metrics = segment_based_metrics.results_overall_metrics()\n",
        "      curr_f1 = overall_segment_based_metrics['f_measure']['f_measure']\n",
        "      curr_error = overall_segment_based_metrics['error_rate']['error_rate']\n",
        "\n",
        "      if curr_f1 > self.best_f1:\n",
        "        self.best_f1 = curr_f1\n",
        "        self.model.save_weights(\"/content/model-best-f1.h5\")\n",
        "\n",
        "      if curr_error < self.best_error:\n",
        "        self.best_error = curr_error\n",
        "        self.model.save_weights(\"/content/model-best-error.h5\")\n",
        "\n",
        "      print(\"F-measure: {:.3f} vs {:.3f}\".format(curr_f1, self.best_f1))\n",
        "      print(\"Error rate: {:.3f} vs {:.3f}\".format(curr_error, self.best_error))\n",
        "\n",
        "      # Or print all metrics as reports"
      ],
      "execution_count": null,
      "outputs": []
    },
    {
      "cell_type": "code",
      "metadata": {
        "id": "dIeTJh-hBWeL"
      },
      "source": [
        "LAYER_DEFS = [\n",
        "    # (layer_function, kernel, stride, num_filters)\n",
        "    ([3, 3], 1,   64),\n",
        "    ([3, 3], 2,  128),\n",
        "    ([3, 3], 1,  128),\n",
        "    ([3, 3], 2,  256),\n",
        "    ([3, 3], 1,  256),\n",
        "    ([3, 3], 2,  512),\n",
        "    ([3, 3], 1,  512),\n",
        "    ([3, 3], 1,  512),\n",
        "    ([3, 3], 1,  512),\n",
        "    ([3, 3], 1,  512),\n",
        "    ([3, 3], 1,  512),\n",
        "    ([3, 3], 2, 1024),\n",
        "    ([3, 3], 1, 1024),\n",
        "    ([3, 3], 1, 512),\n",
        "    ([3, 3], 1, 256),\n",
        "    ([3, 3], 1, 128),\n",
        "    # ([3, 3], 1, 128),\n",
        "    # ([3, 3], 1, 128)\n",
        "]"
      ],
      "execution_count": null,
      "outputs": []
    },
    {
      "cell_type": "code",
      "metadata": {
        "id": "oxNhldjN3uEc"
      },
      "source": [
        "from tensorflow.keras import regularizers"
      ],
      "execution_count": null,
      "outputs": []
    },
    {
      "cell_type": "code",
      "metadata": {
        "id": "1pBxiSToTY0X"
      },
      "source": [
        "from keras.regularizers import l2"
      ],
      "execution_count": null,
      "outputs": []
    },
    {
      "cell_type": "code",
      "metadata": {
        "id": "ujnpubM3Blr-"
      },
      "source": [
        "\"\"\"\n",
        "Manually define YamNet\n",
        "\"\"\"\n",
        "\n",
        "# params = yamnet_params.Params()\n",
        "m_features = tf.keras.Input(shape=(257, 40), name=\"mel_input\")\n",
        "X = m_features\n",
        "X = tf.keras.layers.Reshape((257, 40, 1))(X)\n",
        "X = tf.keras.layers.Conv2D(filters = 32, kernel_size=[3, 3], strides=2, padding='same', use_bias=False,\n",
        "                           activation=None, name = \"layer1/conv\",\n",
        "                             kernel_regularizer=l2(1e-3), bias_regularizer=l2(1e-3))(X)\n",
        "X = tf.keras.layers.BatchNormalization(center=True, scale=False, epsilon=1e-4, name = \"layer1/bn\")(X)\n",
        "X = tf.keras.layers.ReLU(name=\"layer1/relu\")(X)\n",
        "\n",
        "# X = tf.keras.layers.SpatialDropout2D(0.5)(X)\n",
        "\n",
        "for i in range(len(LAYER_DEFS)):\n",
        "  X = tf.keras.layers.DepthwiseConv2D(kernel_size=LAYER_DEFS[i][0], strides = LAYER_DEFS[i][1], depth_multiplier=1, padding='same', use_bias=False,\n",
        "                                      activation=None, name=\"layer\"+ str(i + 2)+\"/depthwise_conv\")(X)\n",
        "  X = tf.keras.layers.BatchNormalization(center=True, scale=False, epsilon=1e-4, name = \"layer\"+ str(i + 2)+\"/depthwise_conv/bn\")(X)\n",
        "  X = tf.keras.layers.ReLU(name=\"layer\"+ str(i + 2)+\"/depthwise_conv/relu\")(X)\n",
        "  X = tf.keras.layers.Conv2D(filters = LAYER_DEFS[i][2], kernel_size=[1, 1], strides=1, padding='same', use_bias=False, activation=None,\n",
        "                             name = \"layer\"+ str(i + 2)+\"/pointwise_conv\",\n",
        "                             kernel_regularizer=l2(0.01), bias_regularizer=l2(0.01))(X)\n",
        "  X = tf.keras.layers.BatchNormalization(center=True, scale=False, epsilon=1e-4, name = \"layer\"+ str(i + 2)+\"/pointwise_conv/bn\")(X)\n",
        "  X = tf.keras.layers.ReLU(name=\"layer\"+ str(i + 2)+\"/pointwise_conv/relu\")(X)\n",
        "\n",
        "  X = tf.keras.layers.SpatialDropout2D(0.1)(X)\n",
        "\n",
        "_, _, sx, sy = X.shape\n",
        "X = tf.keras.layers.Reshape((-1, int(sx * sy)))(X)\n",
        "pred = tf.keras.layers.Conv1D(18,kernel_size=1, activation=\"sigmoid\")(X)\n",
        "model = tf.keras.Model(\n",
        "      name='yamnet_frames', inputs=m_features,\n",
        "      outputs=[pred])"
      ],
      "execution_count": null,
      "outputs": []
    },
    {
      "cell_type": "code",
      "metadata": {
        "colab": {
          "base_uri": "https://localhost:8080/"
        },
        "id": "tQsXSvgyBoZM",
        "outputId": "1d526d42-e803-4919-ace9-5d37ddb84d68"
      },
      "source": [
        "model.summary()"
      ],
      "execution_count": null,
      "outputs": [
        {
          "output_type": "stream",
          "text": [
            "Model: \"yamnet_frames\"\n",
            "_________________________________________________________________\n",
            "Layer (type)                 Output Shape              Param #   \n",
            "=================================================================\n",
            "mel_input (InputLayer)       [(None, 257, 40)]         0         \n",
            "_________________________________________________________________\n",
            "reshape_4 (Reshape)          (None, 257, 40, 1)        0         \n",
            "_________________________________________________________________\n",
            "layer1/conv (Conv2D)         (None, 129, 20, 32)       288       \n",
            "_________________________________________________________________\n",
            "layer1/bn (BatchNormalizatio (None, 129, 20, 32)       96        \n",
            "_________________________________________________________________\n",
            "layer1/relu (ReLU)           (None, 129, 20, 32)       0         \n",
            "_________________________________________________________________\n",
            "layer2/depthwise_conv (Depth (None, 129, 20, 32)       288       \n",
            "_________________________________________________________________\n",
            "layer2/depthwise_conv/bn (Ba (None, 129, 20, 32)       96        \n",
            "_________________________________________________________________\n",
            "layer2/depthwise_conv/relu ( (None, 129, 20, 32)       0         \n",
            "_________________________________________________________________\n",
            "layer2/pointwise_conv (Conv2 (None, 129, 20, 64)       2048      \n",
            "_________________________________________________________________\n",
            "layer2/pointwise_conv/bn (Ba (None, 129, 20, 64)       192       \n",
            "_________________________________________________________________\n",
            "layer2/pointwise_conv/relu ( (None, 129, 20, 64)       0         \n",
            "_________________________________________________________________\n",
            "layer3/depthwise_conv (Depth (None, 65, 10, 64)        576       \n",
            "_________________________________________________________________\n",
            "layer3/depthwise_conv/bn (Ba (None, 65, 10, 64)        192       \n",
            "_________________________________________________________________\n",
            "layer3/depthwise_conv/relu ( (None, 65, 10, 64)        0         \n",
            "_________________________________________________________________\n",
            "layer3/pointwise_conv (Conv2 (None, 65, 10, 128)       8192      \n",
            "_________________________________________________________________\n",
            "layer3/pointwise_conv/bn (Ba (None, 65, 10, 128)       384       \n",
            "_________________________________________________________________\n",
            "layer3/pointwise_conv/relu ( (None, 65, 10, 128)       0         \n",
            "_________________________________________________________________\n",
            "layer4/depthwise_conv (Depth (None, 65, 10, 128)       1152      \n",
            "_________________________________________________________________\n",
            "layer4/depthwise_conv/bn (Ba (None, 65, 10, 128)       384       \n",
            "_________________________________________________________________\n",
            "layer4/depthwise_conv/relu ( (None, 65, 10, 128)       0         \n",
            "_________________________________________________________________\n",
            "layer4/pointwise_conv (Conv2 (None, 65, 10, 128)       16384     \n",
            "_________________________________________________________________\n",
            "layer4/pointwise_conv/bn (Ba (None, 65, 10, 128)       384       \n",
            "_________________________________________________________________\n",
            "layer4/pointwise_conv/relu ( (None, 65, 10, 128)       0         \n",
            "_________________________________________________________________\n",
            "layer5/depthwise_conv (Depth (None, 33, 5, 128)        1152      \n",
            "_________________________________________________________________\n",
            "layer5/depthwise_conv/bn (Ba (None, 33, 5, 128)        384       \n",
            "_________________________________________________________________\n",
            "layer5/depthwise_conv/relu ( (None, 33, 5, 128)        0         \n",
            "_________________________________________________________________\n",
            "layer5/pointwise_conv (Conv2 (None, 33, 5, 256)        32768     \n",
            "_________________________________________________________________\n",
            "layer5/pointwise_conv/bn (Ba (None, 33, 5, 256)        768       \n",
            "_________________________________________________________________\n",
            "layer5/pointwise_conv/relu ( (None, 33, 5, 256)        0         \n",
            "_________________________________________________________________\n",
            "layer6/depthwise_conv (Depth (None, 33, 5, 256)        2304      \n",
            "_________________________________________________________________\n",
            "layer6/depthwise_conv/bn (Ba (None, 33, 5, 256)        768       \n",
            "_________________________________________________________________\n",
            "layer6/depthwise_conv/relu ( (None, 33, 5, 256)        0         \n",
            "_________________________________________________________________\n",
            "layer6/pointwise_conv (Conv2 (None, 33, 5, 256)        65536     \n",
            "_________________________________________________________________\n",
            "layer6/pointwise_conv/bn (Ba (None, 33, 5, 256)        768       \n",
            "_________________________________________________________________\n",
            "layer6/pointwise_conv/relu ( (None, 33, 5, 256)        0         \n",
            "_________________________________________________________________\n",
            "layer7/depthwise_conv (Depth (None, 17, 3, 256)        2304      \n",
            "_________________________________________________________________\n",
            "layer7/depthwise_conv/bn (Ba (None, 17, 3, 256)        768       \n",
            "_________________________________________________________________\n",
            "layer7/depthwise_conv/relu ( (None, 17, 3, 256)        0         \n",
            "_________________________________________________________________\n",
            "layer7/pointwise_conv (Conv2 (None, 17, 3, 512)        131072    \n",
            "_________________________________________________________________\n",
            "layer7/pointwise_conv/bn (Ba (None, 17, 3, 512)        1536      \n",
            "_________________________________________________________________\n",
            "layer7/pointwise_conv/relu ( (None, 17, 3, 512)        0         \n",
            "_________________________________________________________________\n",
            "layer8/depthwise_conv (Depth (None, 17, 3, 512)        4608      \n",
            "_________________________________________________________________\n",
            "layer8/depthwise_conv/bn (Ba (None, 17, 3, 512)        1536      \n",
            "_________________________________________________________________\n",
            "layer8/depthwise_conv/relu ( (None, 17, 3, 512)        0         \n",
            "_________________________________________________________________\n",
            "layer8/pointwise_conv (Conv2 (None, 17, 3, 512)        262144    \n",
            "_________________________________________________________________\n",
            "layer8/pointwise_conv/bn (Ba (None, 17, 3, 512)        1536      \n",
            "_________________________________________________________________\n",
            "layer8/pointwise_conv/relu ( (None, 17, 3, 512)        0         \n",
            "_________________________________________________________________\n",
            "layer9/depthwise_conv (Depth (None, 17, 3, 512)        4608      \n",
            "_________________________________________________________________\n",
            "layer9/depthwise_conv/bn (Ba (None, 17, 3, 512)        1536      \n",
            "_________________________________________________________________\n",
            "layer9/depthwise_conv/relu ( (None, 17, 3, 512)        0         \n",
            "_________________________________________________________________\n",
            "layer9/pointwise_conv (Conv2 (None, 17, 3, 512)        262144    \n",
            "_________________________________________________________________\n",
            "layer9/pointwise_conv/bn (Ba (None, 17, 3, 512)        1536      \n",
            "_________________________________________________________________\n",
            "layer9/pointwise_conv/relu ( (None, 17, 3, 512)        0         \n",
            "_________________________________________________________________\n",
            "layer10/depthwise_conv (Dept (None, 17, 3, 512)        4608      \n",
            "_________________________________________________________________\n",
            "layer10/depthwise_conv/bn (B (None, 17, 3, 512)        1536      \n",
            "_________________________________________________________________\n",
            "layer10/depthwise_conv/relu  (None, 17, 3, 512)        0         \n",
            "_________________________________________________________________\n",
            "layer10/pointwise_conv (Conv (None, 17, 3, 512)        262144    \n",
            "_________________________________________________________________\n",
            "layer10/pointwise_conv/bn (B (None, 17, 3, 512)        1536      \n",
            "_________________________________________________________________\n",
            "layer10/pointwise_conv/relu  (None, 17, 3, 512)        0         \n",
            "_________________________________________________________________\n",
            "layer11/depthwise_conv (Dept (None, 17, 3, 512)        4608      \n",
            "_________________________________________________________________\n",
            "layer11/depthwise_conv/bn (B (None, 17, 3, 512)        1536      \n",
            "_________________________________________________________________\n",
            "layer11/depthwise_conv/relu  (None, 17, 3, 512)        0         \n",
            "_________________________________________________________________\n",
            "layer11/pointwise_conv (Conv (None, 17, 3, 512)        262144    \n",
            "_________________________________________________________________\n",
            "layer11/pointwise_conv/bn (B (None, 17, 3, 512)        1536      \n",
            "_________________________________________________________________\n",
            "layer11/pointwise_conv/relu  (None, 17, 3, 512)        0         \n",
            "_________________________________________________________________\n",
            "layer12/depthwise_conv (Dept (None, 17, 3, 512)        4608      \n",
            "_________________________________________________________________\n",
            "layer12/depthwise_conv/bn (B (None, 17, 3, 512)        1536      \n",
            "_________________________________________________________________\n",
            "layer12/depthwise_conv/relu  (None, 17, 3, 512)        0         \n",
            "_________________________________________________________________\n",
            "layer12/pointwise_conv (Conv (None, 17, 3, 512)        262144    \n",
            "_________________________________________________________________\n",
            "layer12/pointwise_conv/bn (B (None, 17, 3, 512)        1536      \n",
            "_________________________________________________________________\n",
            "layer12/pointwise_conv/relu  (None, 17, 3, 512)        0         \n",
            "_________________________________________________________________\n",
            "layer13/depthwise_conv (Dept (None, 9, 2, 512)         4608      \n",
            "_________________________________________________________________\n",
            "layer13/depthwise_conv/bn (B (None, 9, 2, 512)         1536      \n",
            "_________________________________________________________________\n",
            "layer13/depthwise_conv/relu  (None, 9, 2, 512)         0         \n",
            "_________________________________________________________________\n",
            "layer13/pointwise_conv (Conv (None, 9, 2, 1024)        524288    \n",
            "_________________________________________________________________\n",
            "layer13/pointwise_conv/bn (B (None, 9, 2, 1024)        3072      \n",
            "_________________________________________________________________\n",
            "layer13/pointwise_conv/relu  (None, 9, 2, 1024)        0         \n",
            "_________________________________________________________________\n",
            "layer14/depthwise_conv (Dept (None, 9, 2, 1024)        9216      \n",
            "_________________________________________________________________\n",
            "layer14/depthwise_conv/bn (B (None, 9, 2, 1024)        3072      \n",
            "_________________________________________________________________\n",
            "layer14/depthwise_conv/relu  (None, 9, 2, 1024)        0         \n",
            "_________________________________________________________________\n",
            "layer14/pointwise_conv (Conv (None, 9, 2, 1024)        1048576   \n",
            "_________________________________________________________________\n",
            "layer14/pointwise_conv/bn (B (None, 9, 2, 1024)        3072      \n",
            "_________________________________________________________________\n",
            "layer14/pointwise_conv/relu  (None, 9, 2, 1024)        0         \n",
            "_________________________________________________________________\n",
            "layer15/depthwise_conv (Dept (None, 9, 2, 1024)        9216      \n",
            "_________________________________________________________________\n",
            "layer15/depthwise_conv/bn (B (None, 9, 2, 1024)        3072      \n",
            "_________________________________________________________________\n",
            "layer15/depthwise_conv/relu  (None, 9, 2, 1024)        0         \n",
            "_________________________________________________________________\n",
            "layer15/pointwise_conv (Conv (None, 9, 2, 512)         524288    \n",
            "_________________________________________________________________\n",
            "layer15/pointwise_conv/bn (B (None, 9, 2, 512)         1536      \n",
            "_________________________________________________________________\n",
            "layer15/pointwise_conv/relu  (None, 9, 2, 512)         0         \n",
            "_________________________________________________________________\n",
            "layer16/depthwise_conv (Dept (None, 9, 2, 512)         4608      \n",
            "_________________________________________________________________\n",
            "layer16/depthwise_conv/bn (B (None, 9, 2, 512)         1536      \n",
            "_________________________________________________________________\n",
            "layer16/depthwise_conv/relu  (None, 9, 2, 512)         0         \n",
            "_________________________________________________________________\n",
            "layer16/pointwise_conv (Conv (None, 9, 2, 256)         131072    \n",
            "_________________________________________________________________\n",
            "layer16/pointwise_conv/bn (B (None, 9, 2, 256)         768       \n",
            "_________________________________________________________________\n",
            "layer16/pointwise_conv/relu  (None, 9, 2, 256)         0         \n",
            "_________________________________________________________________\n",
            "layer17/depthwise_conv (Dept (None, 9, 2, 256)         2304      \n",
            "_________________________________________________________________\n",
            "layer17/depthwise_conv/bn (B (None, 9, 2, 256)         768       \n",
            "_________________________________________________________________\n",
            "layer17/depthwise_conv/relu  (None, 9, 2, 256)         0         \n",
            "_________________________________________________________________\n",
            "layer17/pointwise_conv (Conv (None, 9, 2, 128)         32768     \n",
            "_________________________________________________________________\n",
            "layer17/pointwise_conv/bn (B (None, 9, 2, 128)         384       \n",
            "_________________________________________________________________\n",
            "layer17/pointwise_conv/relu  (None, 9, 2, 128)         0         \n",
            "_________________________________________________________________\n",
            "reshape_5 (Reshape)          (None, 9, 256)            0         \n",
            "_________________________________________________________________\n",
            "conv1d_2 (Conv1D)            (None, 9, 18)             4626      \n",
            "=================================================================\n",
            "Total params: 3,934,290\n",
            "Trainable params: 3,907,026\n",
            "Non-trainable params: 27,264\n",
            "_________________________________________________________________\n"
          ],
          "name": "stdout"
        }
      ]
    },
    {
      "cell_type": "code",
      "metadata": {
        "id": "i5JgrXMysx-4"
      },
      "source": [
        "models = []\n",
        "for i in range(4):\n",
        "  models.append(model)"
      ],
      "execution_count": null,
      "outputs": []
    },
    {
      "cell_type": "code",
      "metadata": {
        "id": "hSJFYjO4BqBQ"
      },
      "source": [
        "model.compile(optimizer=tf.keras.optimizers.Adam(learning_rate=1e-3), loss=my_loss_fn)"
      ],
      "execution_count": null,
      "outputs": []
    },
    {
      "cell_type": "code",
      "metadata": {
        "colab": {
          "base_uri": "https://localhost:8080/",
          "height": 1000
        },
        "id": "6FQFJ5yiB1OY",
        "outputId": "abeb612a-979c-43ec-a110-76c37bc7ec92"
      },
      "source": [
        "\"\"\"\n",
        "Manually stop the training if the the val. error rate does not decrease for 100 epochs. \n",
        "\"\"\"\n",
        "\n",
        "model.fit(training_generator, validation_data=validation_generator, epochs=1000, callbacks=[MyCustomCallback_44()], verbose=1)"
      ],
      "execution_count": null,
      "outputs": [
        {
          "output_type": "stream",
          "text": [
            "Epoch 1/1000\n",
            "WARNING:tensorflow:Model was constructed with shape (None, 257, 40) for input KerasTensor(type_spec=TensorSpec(shape=(None, 257, 40), dtype=tf.float32, name='mel_input'), name='mel_input', description=\"created by layer 'mel_input'\"), but it was called on an input with incompatible shape (None, None, None, None).\n",
            "WARNING:tensorflow:Model was constructed with shape (None, 257, 40) for input KerasTensor(type_spec=TensorSpec(shape=(None, 257, 40), dtype=tf.float32, name='mel_input'), name='mel_input', description=\"created by layer 'mel_input'\"), but it was called on an input with incompatible shape (None, None, None, None).\n",
            "67/67 [==============================] - ETA: 0s - loss: 70.3846 - binary_acc: 0.8084WARNING:tensorflow:Model was constructed with shape (None, 257, 40) for input KerasTensor(type_spec=TensorSpec(shape=(None, 257, 40), dtype=tf.float32, name='mel_input'), name='mel_input', description=\"created by layer 'mel_input'\"), but it was called on an input with incompatible shape (None, None, None, None).\n",
            "67/67 [==============================] - 65s 198ms/step - loss: 70.3846 - binary_acc: 0.8084 - val_loss: 71.4177 - val_binary_acc: 0.8023\n",
            "Epoch 2/1000\n",
            "67/67 [==============================] - 13s 189ms/step - loss: 58.4880 - binary_acc: 0.8461 - val_loss: 59.7225 - val_binary_acc: 0.8031\n",
            "Epoch 3/1000\n",
            "67/67 [==============================] - 13s 190ms/step - loss: 48.4136 - binary_acc: 0.8560 - val_loss: 50.4764 - val_binary_acc: 0.8053\n",
            "F-measure: 0.332 vs 0.332\n",
            "Error rate: 1.185 vs 1.185\n",
            "Epoch 4/1000\n",
            "67/67 [==============================] - 13s 191ms/step - loss: 40.5455 - binary_acc: 0.8620 - val_loss: 43.1247 - val_binary_acc: 0.8033\n",
            "F-measure: 0.332 vs 0.332\n",
            "Error rate: 1.185 vs 1.185\n",
            "Epoch 5/1000\n",
            "67/67 [==============================] - 13s 190ms/step - loss: 34.6508 - binary_acc: 0.8635 - val_loss: 37.3794 - val_binary_acc: 0.8042\n",
            "F-measure: 0.332 vs 0.332\n",
            "Error rate: 1.185 vs 1.185\n",
            "Epoch 6/1000\n",
            "67/67 [==============================] - 13s 191ms/step - loss: 30.1449 - binary_acc: 0.8695 - val_loss: 32.6365 - val_binary_acc: 0.8055\n",
            "F-measure: 0.332 vs 0.332\n",
            "Error rate: 1.185 vs 1.185\n",
            "Epoch 7/1000\n",
            "67/67 [==============================] - 13s 189ms/step - loss: 26.6585 - binary_acc: 0.8743 - val_loss: 28.4946 - val_binary_acc: 0.8060\n",
            "F-measure: 0.332 vs 0.332\n",
            "Error rate: 1.185 vs 1.185\n",
            "Epoch 8/1000\n",
            "67/67 [==============================] - 13s 189ms/step - loss: 23.8891 - binary_acc: 0.8760 - val_loss: 24.8103 - val_binary_acc: 0.8769\n",
            "F-measure: nan vs 0.332\n",
            "Error rate: 1.000 vs 1.000\n",
            "Epoch 9/1000\n",
            "67/67 [==============================] - 13s 189ms/step - loss: 21.6084 - binary_acc: 0.8780 - val_loss: 22.0954 - val_binary_acc: 0.8783\n",
            "F-measure: nan vs 0.332\n",
            "Error rate: 1.000 vs 1.000\n",
            "Epoch 10/1000\n",
            "67/67 [==============================] - 13s 188ms/step - loss: 19.8083 - binary_acc: 0.8756 - val_loss: 19.9261 - val_binary_acc: 0.8774\n",
            "F-measure: nan vs 0.332\n",
            "Error rate: 1.000 vs 1.000\n",
            "Epoch 11/1000\n",
            "67/67 [==============================] - 13s 194ms/step - loss: 18.4856 - binary_acc: 0.8704 - val_loss: 17.7818 - val_binary_acc: 0.8771\n",
            "F-measure: 0.024 vs 0.332\n",
            "Error rate: 0.997 vs 0.997\n",
            "Epoch 12/1000\n",
            "67/67 [==============================] - 13s 191ms/step - loss: 16.9584 - binary_acc: 0.8780 - val_loss: 16.4001 - val_binary_acc: 0.8882\n",
            "F-measure: 0.432 vs 0.432\n",
            "Error rate: 0.809 vs 0.809\n",
            "Epoch 13/1000\n",
            "67/67 [==============================] - 13s 190ms/step - loss: 15.8253 - binary_acc: 0.8789 - val_loss: 15.6929 - val_binary_acc: 0.8828\n",
            "F-measure: 0.474 vs 0.474\n",
            "Error rate: 0.736 vs 0.736\n",
            "Epoch 14/1000\n",
            "67/67 [==============================] - 13s 191ms/step - loss: 15.1010 - binary_acc: 0.8750 - val_loss: 15.5591 - val_binary_acc: 0.8625\n",
            "F-measure: 0.439 vs 0.474\n",
            "Error rate: 0.883 vs 0.736\n",
            "Epoch 15/1000\n",
            "67/67 [==============================] - 13s 189ms/step - loss: 14.1359 - binary_acc: 0.8772 - val_loss: 18.0940 - val_binary_acc: 0.7922\n",
            "F-measure: 0.377 vs 0.474\n",
            "Error rate: 1.486 vs 0.736\n",
            "Epoch 16/1000\n",
            "67/67 [==============================] - 13s 190ms/step - loss: 13.4133 - binary_acc: 0.8751 - val_loss: 14.3047 - val_binary_acc: 0.8600\n",
            "F-measure: 0.405 vs 0.474\n",
            "Error rate: 1.149 vs 0.736\n",
            "Epoch 17/1000\n",
            "67/67 [==============================] - 13s 189ms/step - loss: 12.6071 - binary_acc: 0.8820 - val_loss: 13.9592 - val_binary_acc: 0.8529\n",
            "F-measure: 0.436 vs 0.474\n",
            "Error rate: 1.125 vs 0.736\n",
            "Epoch 18/1000\n",
            "67/67 [==============================] - 13s 189ms/step - loss: 11.8950 - binary_acc: 0.8853 - val_loss: 11.6197 - val_binary_acc: 0.8903\n",
            "F-measure: 0.489 vs 0.489\n",
            "Error rate: 0.734 vs 0.734\n",
            "Epoch 19/1000\n",
            "67/67 [==============================] - 13s 191ms/step - loss: 11.1640 - binary_acc: 0.8922 - val_loss: 12.5124 - val_binary_acc: 0.8686\n",
            "F-measure: 0.465 vs 0.489\n",
            "Error rate: 0.848 vs 0.734\n",
            "Epoch 20/1000\n",
            "67/67 [==============================] - 13s 190ms/step - loss: 10.9153 - binary_acc: 0.8871 - val_loss: 11.2353 - val_binary_acc: 0.8799\n",
            "F-measure: 0.483 vs 0.489\n",
            "Error rate: 0.777 vs 0.734\n",
            "Epoch 21/1000\n",
            "67/67 [==============================] - 13s 190ms/step - loss: 10.6310 - binary_acc: 0.8867 - val_loss: 11.0629 - val_binary_acc: 0.8861\n",
            "F-measure: 0.541 vs 0.541\n",
            "Error rate: 0.731 vs 0.731\n",
            "Epoch 22/1000\n",
            "67/67 [==============================] - 13s 189ms/step - loss: 10.2213 - binary_acc: 0.8884 - val_loss: 10.7264 - val_binary_acc: 0.8793\n",
            "F-measure: 0.452 vs 0.541\n",
            "Error rate: 0.845 vs 0.731\n",
            "Epoch 23/1000\n",
            "67/67 [==============================] - 13s 189ms/step - loss: 9.9381 - binary_acc: 0.8888 - val_loss: 10.7763 - val_binary_acc: 0.8666\n",
            "F-measure: 0.492 vs 0.541\n",
            "Error rate: 0.881 vs 0.731\n",
            "Epoch 24/1000\n",
            "67/67 [==============================] - 13s 190ms/step - loss: 9.4948 - binary_acc: 0.8932 - val_loss: 10.5837 - val_binary_acc: 0.8778\n",
            "F-measure: 0.503 vs 0.541\n",
            "Error rate: 0.850 vs 0.731\n",
            "Epoch 25/1000\n",
            "67/67 [==============================] - 13s 188ms/step - loss: 9.3801 - binary_acc: 0.8900 - val_loss: 10.1785 - val_binary_acc: 0.8732\n",
            "F-measure: 0.477 vs 0.541\n",
            "Error rate: 0.899 vs 0.731\n",
            "Epoch 26/1000\n",
            "67/67 [==============================] - 13s 190ms/step - loss: 9.1481 - binary_acc: 0.8905 - val_loss: 11.1270 - val_binary_acc: 0.8522\n",
            "F-measure: 0.415 vs 0.541\n",
            "Error rate: 0.991 vs 0.731\n",
            "Epoch 27/1000\n",
            "67/67 [==============================] - 13s 190ms/step - loss: 9.0297 - binary_acc: 0.8901 - val_loss: 10.6928 - val_binary_acc: 0.8633\n",
            "F-measure: 0.461 vs 0.541\n",
            "Error rate: 0.895 vs 0.731\n",
            "Epoch 28/1000\n",
            "67/67 [==============================] - 13s 190ms/step - loss: 8.5737 - binary_acc: 0.8949 - val_loss: 9.1523 - val_binary_acc: 0.8902\n",
            "F-measure: 0.516 vs 0.541\n",
            "Error rate: 0.710 vs 0.710\n",
            "Epoch 29/1000\n",
            "67/67 [==============================] - 13s 191ms/step - loss: 8.5841 - binary_acc: 0.8935 - val_loss: 10.8647 - val_binary_acc: 0.8501\n",
            "F-measure: 0.451 vs 0.541\n",
            "Error rate: 1.095 vs 0.710\n",
            "Epoch 30/1000\n",
            "67/67 [==============================] - 13s 190ms/step - loss: 8.5734 - binary_acc: 0.8920 - val_loss: 10.1276 - val_binary_acc: 0.8633\n",
            "F-measure: 0.447 vs 0.541\n",
            "Error rate: 0.910 vs 0.710\n",
            "Epoch 31/1000\n",
            "67/67 [==============================] - 13s 188ms/step - loss: 8.3250 - binary_acc: 0.8919 - val_loss: 9.4409 - val_binary_acc: 0.8630\n",
            "F-measure: 0.452 vs 0.541\n",
            "Error rate: 1.026 vs 0.710\n",
            "Epoch 32/1000\n",
            "67/67 [==============================] - 13s 189ms/step - loss: 7.8807 - binary_acc: 0.9005 - val_loss: 9.2294 - val_binary_acc: 0.8604\n",
            "F-measure: 0.476 vs 0.541\n",
            "Error rate: 0.986 vs 0.710\n",
            "Epoch 33/1000\n",
            "67/67 [==============================] - 13s 191ms/step - loss: 8.0597 - binary_acc: 0.8958 - val_loss: 14.3140 - val_binary_acc: 0.7531\n",
            "F-measure: 0.432 vs 0.541\n",
            "Error rate: 1.394 vs 0.710\n",
            "Epoch 34/1000\n",
            "67/67 [==============================] - 13s 192ms/step - loss: 8.2364 - binary_acc: 0.8899 - val_loss: 11.1749 - val_binary_acc: 0.8291\n",
            "F-measure: 0.417 vs 0.541\n",
            "Error rate: 1.231 vs 0.710\n",
            "Epoch 35/1000\n",
            "67/67 [==============================] - 13s 191ms/step - loss: 7.8596 - binary_acc: 0.8956 - val_loss: 12.4087 - val_binary_acc: 0.8244\n",
            "F-measure: 0.351 vs 0.541\n",
            "Error rate: 1.181 vs 0.710\n",
            "Epoch 36/1000\n",
            "67/67 [==============================] - 13s 191ms/step - loss: 8.0591 - binary_acc: 0.8922 - val_loss: 12.2599 - val_binary_acc: 0.8144\n",
            "F-measure: 0.438 vs 0.541\n",
            "Error rate: 1.314 vs 0.710\n",
            "Epoch 37/1000\n",
            "67/67 [==============================] - 13s 189ms/step - loss: 7.9368 - binary_acc: 0.8924 - val_loss: 9.5475 - val_binary_acc: 0.8673\n",
            "F-measure: 0.464 vs 0.541\n",
            "Error rate: 0.872 vs 0.710\n",
            "Epoch 38/1000\n",
            "67/67 [==============================] - 13s 191ms/step - loss: 7.5199 - binary_acc: 0.8998 - val_loss: 8.2976 - val_binary_acc: 0.8841\n",
            "F-measure: 0.449 vs 0.541\n",
            "Error rate: 0.766 vs 0.710\n",
            "Epoch 39/1000\n",
            "67/67 [==============================] - 13s 190ms/step - loss: 7.3845 - binary_acc: 0.9004 - val_loss: 8.2427 - val_binary_acc: 0.8720\n",
            "F-measure: 0.475 vs 0.541\n",
            "Error rate: 0.820 vs 0.710\n",
            "Epoch 40/1000\n",
            "67/67 [==============================] - 13s 190ms/step - loss: 7.3111 - binary_acc: 0.9003 - val_loss: 8.9876 - val_binary_acc: 0.8601\n",
            "F-measure: 0.418 vs 0.541\n",
            "Error rate: 1.004 vs 0.710\n",
            "Epoch 41/1000\n",
            "67/67 [==============================] - 13s 192ms/step - loss: 7.4673 - binary_acc: 0.8958 - val_loss: 9.0975 - val_binary_acc: 0.8656\n",
            "F-measure: 0.480 vs 0.541\n",
            "Error rate: 0.894 vs 0.710\n",
            "Epoch 42/1000\n",
            "67/67 [==============================] - 13s 190ms/step - loss: 7.3048 - binary_acc: 0.8987 - val_loss: 9.0655 - val_binary_acc: 0.8591\n",
            "F-measure: 0.490 vs 0.541\n",
            "Error rate: 0.989 vs 0.710\n",
            "Epoch 43/1000\n",
            "67/67 [==============================] - 13s 189ms/step - loss: 7.1363 - binary_acc: 0.9007 - val_loss: 9.2659 - val_binary_acc: 0.8612\n",
            "F-measure: 0.458 vs 0.541\n",
            "Error rate: 0.969 vs 0.710\n",
            "Epoch 44/1000\n",
            "67/67 [==============================] - 13s 189ms/step - loss: 7.1391 - binary_acc: 0.8978 - val_loss: 13.4161 - val_binary_acc: 0.7576\n",
            "F-measure: 0.407 vs 0.541\n",
            "Error rate: 1.830 vs 0.710\n",
            "Epoch 45/1000\n",
            "67/67 [==============================] - 13s 190ms/step - loss: 7.2082 - binary_acc: 0.8988 - val_loss: 10.6212 - val_binary_acc: 0.8417\n",
            "F-measure: 0.424 vs 0.541\n",
            "Error rate: 1.045 vs 0.710\n",
            "Epoch 46/1000\n",
            "67/67 [==============================] - 13s 189ms/step - loss: 7.1082 - binary_acc: 0.8997 - val_loss: 8.4352 - val_binary_acc: 0.8741\n",
            "F-measure: 0.497 vs 0.541\n",
            "Error rate: 0.850 vs 0.710\n",
            "Epoch 47/1000\n",
            "67/67 [==============================] - 13s 191ms/step - loss: 6.9173 - binary_acc: 0.9037 - val_loss: 8.1380 - val_binary_acc: 0.8815\n",
            "F-measure: 0.525 vs 0.541\n",
            "Error rate: 0.750 vs 0.710\n",
            "Epoch 48/1000\n",
            "67/67 [==============================] - 13s 190ms/step - loss: 7.0542 - binary_acc: 0.9004 - val_loss: 8.8784 - val_binary_acc: 0.8516\n",
            "F-measure: 0.434 vs 0.541\n",
            "Error rate: 1.058 vs 0.710\n",
            "Epoch 49/1000\n",
            "67/67 [==============================] - 13s 190ms/step - loss: 6.8421 - binary_acc: 0.9042 - val_loss: 8.5335 - val_binary_acc: 0.8589\n",
            "F-measure: 0.459 vs 0.541\n",
            "Error rate: 1.047 vs 0.710\n",
            "Epoch 50/1000\n",
            "67/67 [==============================] - 13s 190ms/step - loss: 6.7905 - binary_acc: 0.9040 - val_loss: 8.2983 - val_binary_acc: 0.8810\n",
            "F-measure: 0.527 vs 0.541\n",
            "Error rate: 0.762 vs 0.710\n",
            "Epoch 51/1000\n",
            "67/67 [==============================] - 13s 190ms/step - loss: 6.4980 - binary_acc: 0.9072 - val_loss: 8.5381 - val_binary_acc: 0.8677\n",
            "F-measure: 0.465 vs 0.541\n",
            "Error rate: 0.889 vs 0.710\n",
            "Epoch 52/1000\n",
            "67/67 [==============================] - 13s 191ms/step - loss: 6.8127 - binary_acc: 0.9045 - val_loss: 10.4642 - val_binary_acc: 0.8237\n",
            "F-measure: 0.393 vs 0.541\n",
            "Error rate: 1.297 vs 0.710\n",
            "Epoch 53/1000\n",
            "67/67 [==============================] - 13s 190ms/step - loss: 6.6830 - binary_acc: 0.9050 - val_loss: 8.6518 - val_binary_acc: 0.8698\n",
            "F-measure: 0.460 vs 0.541\n",
            "Error rate: 0.857 vs 0.710\n",
            "Epoch 54/1000\n",
            "67/67 [==============================] - 13s 190ms/step - loss: 6.3858 - binary_acc: 0.9097 - val_loss: 8.1622 - val_binary_acc: 0.8734\n",
            "F-measure: 0.462 vs 0.541\n",
            "Error rate: 0.917 vs 0.710\n",
            "Epoch 55/1000\n",
            "67/67 [==============================] - 13s 190ms/step - loss: 6.3935 - binary_acc: 0.9105 - val_loss: 14.5455 - val_binary_acc: 0.7511\n",
            "F-measure: 0.407 vs 0.541\n",
            "Error rate: 1.863 vs 0.710\n",
            "Epoch 56/1000\n",
            "67/67 [==============================] - 13s 190ms/step - loss: 6.5333 - binary_acc: 0.9090 - val_loss: 9.1889 - val_binary_acc: 0.8573\n",
            "F-measure: 0.500 vs 0.541\n",
            "Error rate: 0.995 vs 0.710\n",
            "Epoch 57/1000\n",
            "67/67 [==============================] - 13s 192ms/step - loss: 6.4884 - binary_acc: 0.9062 - val_loss: 8.1267 - val_binary_acc: 0.8710\n",
            "F-measure: 0.446 vs 0.541\n",
            "Error rate: 0.903 vs 0.710\n",
            "Epoch 58/1000\n",
            "67/67 [==============================] - 13s 195ms/step - loss: 6.3778 - binary_acc: 0.9100 - val_loss: 8.3338 - val_binary_acc: 0.8740\n",
            "F-measure: 0.477 vs 0.541\n",
            "Error rate: 0.910 vs 0.710\n",
            "Epoch 59/1000\n",
            "67/67 [==============================] - 13s 189ms/step - loss: 6.3549 - binary_acc: 0.9090 - val_loss: 9.1812 - val_binary_acc: 0.8467\n",
            "F-measure: 0.389 vs 0.541\n",
            "Error rate: 1.112 vs 0.710\n",
            "Epoch 60/1000\n",
            "67/67 [==============================] - 13s 191ms/step - loss: 6.3943 - binary_acc: 0.9079 - val_loss: 7.7185 - val_binary_acc: 0.8786\n",
            "F-measure: 0.507 vs 0.541\n",
            "Error rate: 0.807 vs 0.710\n",
            "Epoch 61/1000\n",
            "67/67 [==============================] - 13s 190ms/step - loss: 6.1728 - binary_acc: 0.9114 - val_loss: 7.8357 - val_binary_acc: 0.8798\n",
            "F-measure: 0.442 vs 0.541\n",
            "Error rate: 0.771 vs 0.710\n",
            "Epoch 62/1000\n",
            "67/67 [==============================] - 13s 189ms/step - loss: 6.1570 - binary_acc: 0.9126 - val_loss: 8.0493 - val_binary_acc: 0.8764\n",
            "F-measure: 0.500 vs 0.541\n",
            "Error rate: 0.746 vs 0.710\n",
            "Epoch 63/1000\n",
            "67/67 [==============================] - 13s 189ms/step - loss: 6.1814 - binary_acc: 0.9113 - val_loss: 8.8343 - val_binary_acc: 0.8660\n",
            "F-measure: 0.437 vs 0.541\n",
            "Error rate: 1.053 vs 0.710\n",
            "Epoch 64/1000\n",
            "67/67 [==============================] - 13s 192ms/step - loss: 6.3232 - binary_acc: 0.9099 - val_loss: 11.5772 - val_binary_acc: 0.7891\n",
            "F-measure: 0.408 vs 0.541\n",
            "Error rate: 1.571 vs 0.710\n",
            "Epoch 65/1000\n",
            "67/67 [==============================] - 13s 191ms/step - loss: 6.2113 - binary_acc: 0.9113 - val_loss: 8.0309 - val_binary_acc: 0.8817\n",
            "F-measure: 0.490 vs 0.541\n",
            "Error rate: 0.740 vs 0.710\n",
            "Epoch 66/1000\n",
            "67/67 [==============================] - 13s 190ms/step - loss: 6.1530 - binary_acc: 0.9115 - val_loss: 9.3351 - val_binary_acc: 0.8359\n",
            "F-measure: 0.384 vs 0.541\n",
            "Error rate: 1.164 vs 0.710\n",
            "Epoch 67/1000\n",
            "67/67 [==============================] - 13s 190ms/step - loss: 6.0290 - binary_acc: 0.9131 - val_loss: 11.2904 - val_binary_acc: 0.8032\n",
            "F-measure: 0.409 vs 0.541\n",
            "Error rate: 1.435 vs 0.710\n",
            "Epoch 68/1000\n",
            "67/67 [==============================] - 13s 189ms/step - loss: 6.2008 - binary_acc: 0.9138 - val_loss: 8.8373 - val_binary_acc: 0.8599\n",
            "F-measure: 0.438 vs 0.541\n",
            "Error rate: 0.997 vs 0.710\n",
            "Epoch 69/1000\n",
            "67/67 [==============================] - 13s 189ms/step - loss: 5.9730 - binary_acc: 0.9166 - val_loss: 7.9563 - val_binary_acc: 0.8672\n",
            "F-measure: 0.403 vs 0.541\n",
            "Error rate: 0.914 vs 0.710\n",
            "Epoch 70/1000\n",
            "67/67 [==============================] - 13s 189ms/step - loss: 6.0742 - binary_acc: 0.9157 - val_loss: 9.4358 - val_binary_acc: 0.8355\n",
            "F-measure: 0.393 vs 0.541\n",
            "Error rate: 1.283 vs 0.710\n",
            "Epoch 71/1000\n",
            "67/67 [==============================] - 13s 188ms/step - loss: 6.1924 - binary_acc: 0.9121 - val_loss: 9.2285 - val_binary_acc: 0.8542\n",
            "F-measure: 0.434 vs 0.541\n",
            "Error rate: 1.000 vs 0.710\n",
            "Epoch 72/1000\n",
            "67/67 [==============================] - 13s 189ms/step - loss: 5.8762 - binary_acc: 0.9187 - val_loss: 7.8594 - val_binary_acc: 0.8827\n",
            "F-measure: 0.493 vs 0.541\n",
            "Error rate: 0.761 vs 0.710\n",
            "Epoch 73/1000\n",
            "67/67 [==============================] - 13s 188ms/step - loss: 6.0995 - binary_acc: 0.9137 - val_loss: 8.6970 - val_binary_acc: 0.8590\n",
            "F-measure: 0.489 vs 0.541\n",
            "Error rate: 1.029 vs 0.710\n",
            "Epoch 74/1000\n",
            "67/67 [==============================] - 13s 190ms/step - loss: 5.8744 - binary_acc: 0.9194 - val_loss: 7.4978 - val_binary_acc: 0.8791\n",
            "F-measure: 0.418 vs 0.541\n",
            "Error rate: 0.828 vs 0.710\n",
            "Epoch 75/1000\n",
            "67/67 [==============================] - 13s 189ms/step - loss: 5.9017 - binary_acc: 0.9170 - val_loss: 7.7191 - val_binary_acc: 0.8828\n",
            "F-measure: 0.556 vs 0.556\n",
            "Error rate: 0.777 vs 0.710\n",
            "Epoch 76/1000\n",
            "67/67 [==============================] - 13s 191ms/step - loss: 5.7560 - binary_acc: 0.9195 - val_loss: 8.6876 - val_binary_acc: 0.8614\n",
            "F-measure: 0.430 vs 0.556\n",
            "Error rate: 0.972 vs 0.710\n",
            "Epoch 77/1000\n",
            "67/67 [==============================] - 13s 189ms/step - loss: 6.0243 - binary_acc: 0.9159 - val_loss: 14.1098 - val_binary_acc: 0.7621\n",
            "F-measure: 0.368 vs 0.556\n",
            "Error rate: 1.728 vs 0.710\n",
            "Epoch 78/1000\n",
            "67/67 [==============================] - 13s 191ms/step - loss: 6.0532 - binary_acc: 0.9159 - val_loss: 8.4296 - val_binary_acc: 0.8604\n",
            "F-measure: 0.391 vs 0.556\n",
            "Error rate: 0.984 vs 0.710\n",
            "Epoch 79/1000\n",
            "67/67 [==============================] - 13s 191ms/step - loss: 5.8722 - binary_acc: 0.9175 - val_loss: 10.2766 - val_binary_acc: 0.8366\n",
            "F-measure: 0.398 vs 0.556\n",
            "Error rate: 1.150 vs 0.710\n",
            "Epoch 80/1000\n",
            "67/67 [==============================] - 13s 189ms/step - loss: 5.9982 - binary_acc: 0.9146 - val_loss: 8.5150 - val_binary_acc: 0.8727\n",
            "F-measure: 0.419 vs 0.556\n",
            "Error rate: 0.861 vs 0.710\n",
            "Epoch 81/1000\n",
            "67/67 [==============================] - 13s 197ms/step - loss: 5.6867 - binary_acc: 0.9210 - val_loss: 7.4886 - val_binary_acc: 0.8757\n",
            "F-measure: 0.508 vs 0.556\n",
            "Error rate: 0.856 vs 0.710\n",
            "Epoch 82/1000\n",
            "67/67 [==============================] - 13s 191ms/step - loss: 5.7091 - binary_acc: 0.9184 - val_loss: 9.1966 - val_binary_acc: 0.8463\n",
            "F-measure: 0.455 vs 0.556\n",
            "Error rate: 1.036 vs 0.710\n",
            "Epoch 83/1000\n",
            "67/67 [==============================] - 13s 192ms/step - loss: 5.6400 - binary_acc: 0.9232 - val_loss: 8.0995 - val_binary_acc: 0.8661\n",
            "F-measure: 0.440 vs 0.556\n",
            "Error rate: 0.908 vs 0.710\n",
            "Epoch 84/1000\n",
            "67/67 [==============================] - 13s 192ms/step - loss: 5.9179 - binary_acc: 0.9158 - val_loss: 9.2023 - val_binary_acc: 0.8532\n",
            "F-measure: 0.462 vs 0.556\n",
            "Error rate: 1.037 vs 0.710\n",
            "Epoch 85/1000\n",
            "67/67 [==============================] - 13s 191ms/step - loss: 5.4983 - binary_acc: 0.9241 - val_loss: 8.4144 - val_binary_acc: 0.8554\n",
            "F-measure: 0.486 vs 0.556\n",
            "Error rate: 0.982 vs 0.710\n",
            "Epoch 86/1000\n",
            "67/67 [==============================] - 13s 190ms/step - loss: 5.6048 - binary_acc: 0.9232 - val_loss: 8.1321 - val_binary_acc: 0.8650\n",
            "F-measure: 0.468 vs 0.556\n",
            "Error rate: 0.950 vs 0.710\n",
            "Epoch 87/1000\n",
            "67/67 [==============================] - 13s 195ms/step - loss: 5.7827 - binary_acc: 0.9188 - val_loss: 9.3216 - val_binary_acc: 0.8447\n",
            "F-measure: 0.422 vs 0.556\n",
            "Error rate: 1.203 vs 0.710\n",
            "Epoch 88/1000\n",
            "67/67 [==============================] - 13s 191ms/step - loss: 5.8175 - binary_acc: 0.9195 - val_loss: 7.6175 - val_binary_acc: 0.8778\n",
            "F-measure: 0.461 vs 0.556\n",
            "Error rate: 0.800 vs 0.710\n",
            "Epoch 89/1000\n",
            "67/67 [==============================] - 13s 190ms/step - loss: 5.4201 - binary_acc: 0.9280 - val_loss: 8.6458 - val_binary_acc: 0.8692\n",
            "F-measure: 0.433 vs 0.556\n",
            "Error rate: 0.854 vs 0.710\n",
            "Epoch 90/1000\n",
            "67/67 [==============================] - 13s 192ms/step - loss: 5.6727 - binary_acc: 0.9228 - val_loss: 9.1763 - val_binary_acc: 0.8525\n",
            "F-measure: 0.464 vs 0.556\n",
            "Error rate: 1.183 vs 0.710\n",
            "Epoch 91/1000\n",
            "67/67 [==============================] - 13s 190ms/step - loss: 5.6022 - binary_acc: 0.9245 - val_loss: 8.0821 - val_binary_acc: 0.8693\n",
            "F-measure: 0.443 vs 0.556\n",
            "Error rate: 0.887 vs 0.710\n",
            "Epoch 92/1000\n",
            "67/67 [==============================] - 13s 192ms/step - loss: 5.4328 - binary_acc: 0.9257 - val_loss: 7.9829 - val_binary_acc: 0.8678\n",
            "F-measure: 0.496 vs 0.556\n",
            "Error rate: 0.919 vs 0.710\n",
            "Epoch 93/1000\n",
            "67/67 [==============================] - 13s 192ms/step - loss: 5.4471 - binary_acc: 0.9285 - val_loss: 8.3188 - val_binary_acc: 0.8497\n",
            "F-measure: 0.381 vs 0.556\n",
            "Error rate: 1.054 vs 0.710\n",
            "Epoch 94/1000\n",
            "67/67 [==============================] - 13s 191ms/step - loss: 5.4636 - binary_acc: 0.9268 - val_loss: 12.3395 - val_binary_acc: 0.7844\n",
            "F-measure: 0.319 vs 0.556\n",
            "Error rate: 2.164 vs 0.710\n",
            "Epoch 95/1000\n",
            "67/67 [==============================] - 13s 190ms/step - loss: 5.6962 - binary_acc: 0.9247 - val_loss: 10.0946 - val_binary_acc: 0.8380\n",
            "F-measure: 0.380 vs 0.556\n",
            "Error rate: 1.161 vs 0.710\n",
            "Epoch 96/1000\n",
            "67/67 [==============================] - 13s 191ms/step - loss: 5.5602 - binary_acc: 0.9235 - val_loss: 8.5840 - val_binary_acc: 0.8455\n",
            "F-measure: 0.337 vs 0.556\n",
            "Error rate: 1.171 vs 0.710\n",
            "Epoch 97/1000\n",
            "67/67 [==============================] - 13s 190ms/step - loss: 5.6357 - binary_acc: 0.9247 - val_loss: 9.6489 - val_binary_acc: 0.8257\n",
            "F-measure: 0.331 vs 0.556\n",
            "Error rate: 1.292 vs 0.710\n",
            "Epoch 98/1000\n",
            "67/67 [==============================] - 13s 192ms/step - loss: 5.7849 - binary_acc: 0.9226 - val_loss: 8.9873 - val_binary_acc: 0.8542\n",
            "F-measure: 0.403 vs 0.556\n",
            "Error rate: 1.080 vs 0.710\n",
            "Epoch 99/1000\n",
            "67/67 [==============================] - 13s 191ms/step - loss: 5.3262 - binary_acc: 0.9296 - val_loss: 7.7799 - val_binary_acc: 0.8734\n",
            "F-measure: 0.435 vs 0.556\n",
            "Error rate: 0.851 vs 0.710\n",
            "Epoch 100/1000\n",
            "67/67 [==============================] - 13s 190ms/step - loss: 5.4485 - binary_acc: 0.9286 - val_loss: 8.4718 - val_binary_acc: 0.8741\n",
            "F-measure: 0.450 vs 0.556\n",
            "Error rate: 0.806 vs 0.710\n",
            "Epoch 101/1000\n",
            "67/67 [==============================] - 13s 192ms/step - loss: 5.3904 - binary_acc: 0.9283 - val_loss: 8.7344 - val_binary_acc: 0.8487\n",
            "F-measure: 0.449 vs 0.556\n",
            "Error rate: 1.219 vs 0.710\n",
            "Epoch 102/1000\n",
            "67/67 [==============================] - 13s 190ms/step - loss: 5.3857 - binary_acc: 0.9277 - val_loss: 8.3638 - val_binary_acc: 0.8651\n",
            "F-measure: 0.462 vs 0.556\n",
            "Error rate: 0.960 vs 0.710\n",
            "Epoch 103/1000\n",
            "67/67 [==============================] - 13s 191ms/step - loss: 5.2823 - binary_acc: 0.9309 - val_loss: 7.2824 - val_binary_acc: 0.8884\n",
            "F-measure: 0.461 vs 0.556\n",
            "Error rate: 0.773 vs 0.710\n",
            "Epoch 104/1000\n",
            "67/67 [==============================] - 13s 198ms/step - loss: 5.2744 - binary_acc: 0.9314 - val_loss: 8.3165 - val_binary_acc: 0.8590\n",
            "F-measure: 0.489 vs 0.556\n",
            "Error rate: 1.084 vs 0.710\n",
            "Epoch 105/1000\n",
            "67/67 [==============================] - 13s 190ms/step - loss: 5.5251 - binary_acc: 0.9260 - val_loss: 9.1456 - val_binary_acc: 0.8498\n",
            "F-measure: 0.469 vs 0.556\n",
            "Error rate: 1.054 vs 0.710\n",
            "Epoch 106/1000\n",
            "67/67 [==============================] - 13s 191ms/step - loss: 5.3295 - binary_acc: 0.9302 - val_loss: 8.2333 - val_binary_acc: 0.8558\n",
            "F-measure: 0.408 vs 0.556\n",
            "Error rate: 1.122 vs 0.710\n",
            "Epoch 107/1000\n",
            "67/67 [==============================] - 13s 189ms/step - loss: 5.2394 - binary_acc: 0.9307 - val_loss: 8.5031 - val_binary_acc: 0.8625\n",
            "F-measure: 0.441 vs 0.556\n",
            "Error rate: 0.862 vs 0.710\n",
            "Epoch 108/1000\n",
            "67/67 [==============================] - 13s 190ms/step - loss: 5.2055 - binary_acc: 0.9313 - val_loss: 8.9605 - val_binary_acc: 0.8464\n",
            "F-measure: 0.406 vs 0.556\n",
            "Error rate: 1.147 vs 0.710\n",
            "Epoch 109/1000\n",
            "67/67 [==============================] - 13s 191ms/step - loss: 5.3311 - binary_acc: 0.9296 - val_loss: 8.4037 - val_binary_acc: 0.8756\n",
            "F-measure: 0.493 vs 0.556\n",
            "Error rate: 0.836 vs 0.710\n",
            "Epoch 110/1000\n",
            "67/67 [==============================] - 13s 194ms/step - loss: 5.2779 - binary_acc: 0.9299 - val_loss: 8.6722 - val_binary_acc: 0.8641\n",
            "F-measure: 0.477 vs 0.556\n",
            "Error rate: 0.914 vs 0.710\n",
            "Epoch 111/1000\n",
            "67/67 [==============================] - 13s 190ms/step - loss: 5.2552 - binary_acc: 0.9291 - val_loss: 8.0250 - val_binary_acc: 0.8688\n",
            "F-measure: 0.412 vs 0.556\n",
            "Error rate: 0.986 vs 0.710\n",
            "Epoch 112/1000\n",
            "67/67 [==============================] - 13s 190ms/step - loss: 5.2137 - binary_acc: 0.9296 - val_loss: 7.6145 - val_binary_acc: 0.8777\n",
            "F-measure: 0.456 vs 0.556\n",
            "Error rate: 0.796 vs 0.710\n",
            "Epoch 113/1000\n",
            "67/67 [==============================] - 13s 190ms/step - loss: 5.1040 - binary_acc: 0.9321 - val_loss: 8.7993 - val_binary_acc: 0.8561\n",
            "F-measure: 0.479 vs 0.556\n",
            "Error rate: 1.143 vs 0.710\n",
            "Epoch 114/1000\n",
            "67/67 [==============================] - 13s 190ms/step - loss: 5.5747 - binary_acc: 0.9251 - val_loss: 11.4266 - val_binary_acc: 0.8009\n",
            "F-measure: 0.438 vs 0.556\n",
            "Error rate: 1.581 vs 0.710\n",
            "Epoch 115/1000\n",
            "67/67 [==============================] - 13s 190ms/step - loss: 5.3824 - binary_acc: 0.9305 - val_loss: 7.8742 - val_binary_acc: 0.8697\n",
            "F-measure: 0.426 vs 0.556\n",
            "Error rate: 0.870 vs 0.710\n",
            "Epoch 116/1000\n",
            "67/67 [==============================] - 13s 189ms/step - loss: 5.1688 - binary_acc: 0.9320 - val_loss: 7.6645 - val_binary_acc: 0.8720\n",
            "F-measure: 0.484 vs 0.556\n",
            "Error rate: 0.909 vs 0.710\n",
            "Epoch 117/1000\n",
            "67/67 [==============================] - 13s 191ms/step - loss: 5.1847 - binary_acc: 0.9320 - val_loss: 9.0300 - val_binary_acc: 0.8496\n",
            "F-measure: 0.464 vs 0.556\n",
            "Error rate: 1.148 vs 0.710\n",
            "Epoch 118/1000\n",
            "67/67 [==============================] - 13s 190ms/step - loss: 5.1729 - binary_acc: 0.9334 - val_loss: 7.9352 - val_binary_acc: 0.8609\n",
            "F-measure: 0.425 vs 0.556\n",
            "Error rate: 1.054 vs 0.710\n",
            "Epoch 119/1000\n",
            "67/67 [==============================] - 13s 191ms/step - loss: 5.1788 - binary_acc: 0.9313 - val_loss: 11.1458 - val_binary_acc: 0.7979\n",
            "F-measure: 0.416 vs 0.556\n",
            "Error rate: 1.556 vs 0.710\n",
            "Epoch 120/1000\n",
            "67/67 [==============================] - 13s 190ms/step - loss: 5.0096 - binary_acc: 0.9351 - val_loss: 7.0712 - val_binary_acc: 0.8839\n",
            "F-measure: 0.490 vs 0.556\n",
            "Error rate: 0.774 vs 0.710\n",
            "Epoch 121/1000\n",
            "67/67 [==============================] - 13s 189ms/step - loss: 4.8606 - binary_acc: 0.9373 - val_loss: 7.3854 - val_binary_acc: 0.8800\n",
            "F-measure: 0.504 vs 0.556\n",
            "Error rate: 0.829 vs 0.710\n",
            "Epoch 122/1000\n",
            "67/67 [==============================] - 13s 189ms/step - loss: 5.0639 - binary_acc: 0.9332 - val_loss: 7.7908 - val_binary_acc: 0.8718\n",
            "F-measure: 0.480 vs 0.556\n",
            "Error rate: 0.889 vs 0.710\n",
            "Epoch 123/1000\n",
            "67/67 [==============================] - 13s 189ms/step - loss: 5.1336 - binary_acc: 0.9329 - val_loss: 8.3715 - val_binary_acc: 0.8581\n",
            "F-measure: 0.465 vs 0.556\n",
            "Error rate: 1.046 vs 0.710\n",
            "Epoch 124/1000\n",
            "67/67 [==============================] - 13s 189ms/step - loss: 4.9497 - binary_acc: 0.9350 - val_loss: 7.8596 - val_binary_acc: 0.8746\n",
            "F-measure: 0.425 vs 0.556\n",
            "Error rate: 0.849 vs 0.710\n",
            "Epoch 125/1000\n",
            "67/67 [==============================] - 13s 190ms/step - loss: 5.1707 - binary_acc: 0.9300 - val_loss: 14.5526 - val_binary_acc: 0.7500\n",
            "F-measure: 0.340 vs 0.556\n",
            "Error rate: 1.868 vs 0.710\n",
            "Epoch 126/1000\n",
            "67/67 [==============================] - 13s 189ms/step - loss: 5.2743 - binary_acc: 0.9315 - val_loss: 9.6343 - val_binary_acc: 0.8317\n",
            "F-measure: 0.437 vs 0.556\n",
            "Error rate: 1.319 vs 0.710\n",
            "Epoch 127/1000\n",
            "67/67 [==============================] - 13s 195ms/step - loss: 4.9552 - binary_acc: 0.9374 - val_loss: 9.2944 - val_binary_acc: 0.8482\n",
            "F-measure: 0.415 vs 0.556\n",
            "Error rate: 1.083 vs 0.710\n",
            "Epoch 128/1000\n",
            "67/67 [==============================] - 13s 190ms/step - loss: 5.0258 - binary_acc: 0.9340 - val_loss: 7.1550 - val_binary_acc: 0.8865\n",
            "F-measure: 0.489 vs 0.556\n",
            "Error rate: 0.769 vs 0.710\n",
            "Epoch 129/1000\n",
            "67/67 [==============================] - 13s 189ms/step - loss: 5.0660 - binary_acc: 0.9335 - val_loss: 8.0453 - val_binary_acc: 0.8722\n",
            "F-measure: 0.478 vs 0.556\n",
            "Error rate: 0.891 vs 0.710\n",
            "Epoch 130/1000\n",
            "67/67 [==============================] - 13s 190ms/step - loss: 5.1281 - binary_acc: 0.9325 - val_loss: 8.0157 - val_binary_acc: 0.8707\n",
            "F-measure: 0.428 vs 0.556\n",
            "Error rate: 0.908 vs 0.710\n",
            "Epoch 131/1000\n",
            "67/67 [==============================] - 13s 189ms/step - loss: 5.2362 - binary_acc: 0.9344 - val_loss: 8.6108 - val_binary_acc: 0.8618\n",
            "F-measure: 0.499 vs 0.556\n",
            "Error rate: 1.047 vs 0.710\n",
            "Epoch 132/1000\n",
            "67/67 [==============================] - 13s 193ms/step - loss: 4.9684 - binary_acc: 0.9360 - val_loss: 7.3046 - val_binary_acc: 0.8818\n",
            "F-measure: 0.476 vs 0.556\n",
            "Error rate: 0.848 vs 0.710\n",
            "Epoch 133/1000\n",
            "67/67 [==============================] - 13s 190ms/step - loss: 4.9815 - binary_acc: 0.9354 - val_loss: 8.7387 - val_binary_acc: 0.8440\n",
            "F-measure: 0.429 vs 0.556\n",
            "Error rate: 1.218 vs 0.710\n",
            "Epoch 134/1000\n",
            "67/67 [==============================] - 13s 190ms/step - loss: 5.0343 - binary_acc: 0.9362 - val_loss: 7.9200 - val_binary_acc: 0.8656\n",
            "F-measure: 0.426 vs 0.556\n",
            "Error rate: 1.084 vs 0.710\n",
            "Epoch 135/1000\n",
            "67/67 [==============================] - 13s 191ms/step - loss: 5.0860 - binary_acc: 0.9337 - val_loss: 8.2528 - val_binary_acc: 0.8510\n",
            "F-measure: 0.400 vs 0.556\n",
            "Error rate: 1.129 vs 0.710\n",
            "Epoch 136/1000\n",
            "67/67 [==============================] - 13s 190ms/step - loss: 4.9112 - binary_acc: 0.9371 - val_loss: 8.0694 - val_binary_acc: 0.8646\n",
            "F-measure: 0.455 vs 0.556\n",
            "Error rate: 0.932 vs 0.710\n",
            "Epoch 137/1000\n",
            "67/67 [==============================] - 13s 191ms/step - loss: 4.7521 - binary_acc: 0.9406 - val_loss: 8.2435 - val_binary_acc: 0.8627\n",
            "F-measure: 0.451 vs 0.556\n",
            "Error rate: 1.034 vs 0.710\n",
            "Epoch 138/1000\n",
            "67/67 [==============================] - 13s 190ms/step - loss: 4.8839 - binary_acc: 0.9381 - val_loss: 8.4230 - val_binary_acc: 0.8517\n",
            "F-measure: 0.406 vs 0.556\n",
            "Error rate: 1.031 vs 0.710\n",
            "Epoch 139/1000\n",
            "67/67 [==============================] - 13s 190ms/step - loss: 4.8906 - binary_acc: 0.9364 - val_loss: 7.4669 - val_binary_acc: 0.8793\n",
            "F-measure: 0.512 vs 0.556\n",
            "Error rate: 0.833 vs 0.710\n",
            "Epoch 140/1000\n",
            "67/67 [==============================] - 13s 189ms/step - loss: 4.7554 - binary_acc: 0.9396 - val_loss: 8.2611 - val_binary_acc: 0.8645\n",
            "F-measure: 0.430 vs 0.556\n",
            "Error rate: 1.018 vs 0.710\n",
            "Epoch 141/1000\n",
            "67/67 [==============================] - 13s 190ms/step - loss: 4.8764 - binary_acc: 0.9379 - val_loss: 8.4775 - val_binary_acc: 0.8604\n",
            "F-measure: 0.435 vs 0.556\n",
            "Error rate: 1.041 vs 0.710\n",
            "Epoch 142/1000\n",
            "67/67 [==============================] - 13s 191ms/step - loss: 4.9305 - binary_acc: 0.9359 - val_loss: 8.2684 - val_binary_acc: 0.8624\n",
            "F-measure: 0.417 vs 0.556\n",
            "Error rate: 1.036 vs 0.710\n",
            "Epoch 143/1000\n",
            "67/67 [==============================] - 13s 190ms/step - loss: 4.9127 - binary_acc: 0.9376 - val_loss: 9.8001 - val_binary_acc: 0.8367\n",
            "F-measure: 0.445 vs 0.556\n",
            "Error rate: 1.126 vs 0.710\n",
            "Epoch 144/1000\n",
            "67/67 [==============================] - 13s 190ms/step - loss: 5.0218 - binary_acc: 0.9345 - val_loss: 9.1569 - val_binary_acc: 0.8450\n",
            "F-measure: 0.436 vs 0.556\n",
            "Error rate: 1.058 vs 0.710\n",
            "Epoch 145/1000\n",
            "67/67 [==============================] - 13s 190ms/step - loss: 4.8095 - binary_acc: 0.9377 - val_loss: 7.0089 - val_binary_acc: 0.8877\n",
            "F-measure: 0.508 vs 0.556\n",
            "Error rate: 0.765 vs 0.710\n",
            "Epoch 146/1000\n",
            "67/67 [==============================] - 13s 191ms/step - loss: 4.8585 - binary_acc: 0.9383 - val_loss: 9.6875 - val_binary_acc: 0.8534\n",
            "F-measure: 0.392 vs 0.556\n",
            "Error rate: 1.042 vs 0.710\n",
            "Epoch 147/1000\n",
            "67/67 [==============================] - 13s 191ms/step - loss: 5.1916 - binary_acc: 0.9292 - val_loss: 7.7337 - val_binary_acc: 0.8725\n",
            "F-measure: 0.479 vs 0.556\n",
            "Error rate: 0.891 vs 0.710\n",
            "Epoch 148/1000\n",
            "67/67 [==============================] - 13s 192ms/step - loss: 4.9082 - binary_acc: 0.9381 - val_loss: 7.9571 - val_binary_acc: 0.8633\n",
            "F-measure: 0.431 vs 0.556\n",
            "Error rate: 1.015 vs 0.710\n",
            "Epoch 149/1000\n",
            "67/67 [==============================] - 13s 190ms/step - loss: 4.7201 - binary_acc: 0.9415 - val_loss: 8.0409 - val_binary_acc: 0.8757\n",
            "F-measure: 0.433 vs 0.556\n",
            "Error rate: 0.927 vs 0.710\n",
            "Epoch 150/1000\n",
            "67/67 [==============================] - 13s 194ms/step - loss: 4.7572 - binary_acc: 0.9386 - val_loss: 9.6422 - val_binary_acc: 0.8202\n",
            "F-measure: 0.412 vs 0.556\n",
            "Error rate: 1.304 vs 0.710\n",
            "Epoch 151/1000\n",
            "67/67 [==============================] - 13s 194ms/step - loss: 4.8579 - binary_acc: 0.9387 - val_loss: 8.2936 - val_binary_acc: 0.8584\n",
            "F-measure: 0.479 vs 0.556\n",
            "Error rate: 1.094 vs 0.710\n",
            "Epoch 152/1000\n",
            "67/67 [==============================] - 13s 189ms/step - loss: 4.7159 - binary_acc: 0.9403 - val_loss: 7.7287 - val_binary_acc: 0.8714\n",
            "F-measure: 0.462 vs 0.556\n",
            "Error rate: 0.878 vs 0.710\n",
            "Epoch 153/1000\n",
            "30/67 [============>.................] - ETA: 5s - loss: 4.8612 - binary_acc: 0.9391"
          ],
          "name": "stdout"
        },
        {
          "output_type": "error",
          "ename": "KeyboardInterrupt",
          "evalue": "ignored",
          "traceback": [
            "\u001b[0;31m---------------------------------------------------------------------------\u001b[0m",
            "\u001b[0;31mKeyboardInterrupt\u001b[0m                         Traceback (most recent call last)",
            "\u001b[0;32m<ipython-input-82-b98924879e83>\u001b[0m in \u001b[0;36m<module>\u001b[0;34m()\u001b[0m\n\u001b[0;32m----> 1\u001b[0;31m \u001b[0mmodel\u001b[0m\u001b[0;34m.\u001b[0m\u001b[0mfit\u001b[0m\u001b[0;34m(\u001b[0m\u001b[0mtraining_generator\u001b[0m\u001b[0;34m,\u001b[0m \u001b[0mvalidation_data\u001b[0m\u001b[0;34m=\u001b[0m\u001b[0mvalidation_generator\u001b[0m\u001b[0;34m,\u001b[0m \u001b[0mepochs\u001b[0m\u001b[0;34m=\u001b[0m\u001b[0;36m1000\u001b[0m\u001b[0;34m,\u001b[0m \u001b[0mcallbacks\u001b[0m\u001b[0;34m=\u001b[0m\u001b[0;34m[\u001b[0m\u001b[0mMyCustomCallback_44\u001b[0m\u001b[0;34m(\u001b[0m\u001b[0;34m)\u001b[0m\u001b[0;34m]\u001b[0m\u001b[0;34m,\u001b[0m \u001b[0mverbose\u001b[0m\u001b[0;34m=\u001b[0m\u001b[0;36m1\u001b[0m\u001b[0;34m)\u001b[0m\u001b[0;34m\u001b[0m\u001b[0;34m\u001b[0m\u001b[0m\n\u001b[0m",
            "\u001b[0;32m/usr/local/lib/python3.7/dist-packages/tensorflow/python/keras/engine/training.py\u001b[0m in \u001b[0;36mfit\u001b[0;34m(self, x, y, batch_size, epochs, verbose, callbacks, validation_split, validation_data, shuffle, class_weight, sample_weight, initial_epoch, steps_per_epoch, validation_steps, validation_batch_size, validation_freq, max_queue_size, workers, use_multiprocessing)\u001b[0m\n\u001b[1;32m   1186\u001b[0m               \u001b[0mlogs\u001b[0m \u001b[0;34m=\u001b[0m \u001b[0mtmp_logs\u001b[0m  \u001b[0;31m# No error, now safe to assign to logs.\u001b[0m\u001b[0;34m\u001b[0m\u001b[0;34m\u001b[0m\u001b[0m\n\u001b[1;32m   1187\u001b[0m               \u001b[0mend_step\u001b[0m \u001b[0;34m=\u001b[0m \u001b[0mstep\u001b[0m \u001b[0;34m+\u001b[0m \u001b[0mdata_handler\u001b[0m\u001b[0;34m.\u001b[0m\u001b[0mstep_increment\u001b[0m\u001b[0;34m\u001b[0m\u001b[0;34m\u001b[0m\u001b[0m\n\u001b[0;32m-> 1188\u001b[0;31m               \u001b[0mcallbacks\u001b[0m\u001b[0;34m.\u001b[0m\u001b[0mon_train_batch_end\u001b[0m\u001b[0;34m(\u001b[0m\u001b[0mend_step\u001b[0m\u001b[0;34m,\u001b[0m \u001b[0mlogs\u001b[0m\u001b[0;34m)\u001b[0m\u001b[0;34m\u001b[0m\u001b[0;34m\u001b[0m\u001b[0m\n\u001b[0m\u001b[1;32m   1189\u001b[0m               \u001b[0;32mif\u001b[0m \u001b[0mself\u001b[0m\u001b[0;34m.\u001b[0m\u001b[0mstop_training\u001b[0m\u001b[0;34m:\u001b[0m\u001b[0;34m\u001b[0m\u001b[0;34m\u001b[0m\u001b[0m\n\u001b[1;32m   1190\u001b[0m                 \u001b[0;32mbreak\u001b[0m\u001b[0;34m\u001b[0m\u001b[0;34m\u001b[0m\u001b[0m\n",
            "\u001b[0;32m/usr/local/lib/python3.7/dist-packages/tensorflow/python/keras/callbacks.py\u001b[0m in \u001b[0;36mon_train_batch_end\u001b[0;34m(self, batch, logs)\u001b[0m\n\u001b[1;32m    455\u001b[0m     \"\"\"\n\u001b[1;32m    456\u001b[0m     \u001b[0;32mif\u001b[0m \u001b[0mself\u001b[0m\u001b[0;34m.\u001b[0m\u001b[0m_should_call_train_batch_hooks\u001b[0m\u001b[0;34m:\u001b[0m\u001b[0;34m\u001b[0m\u001b[0;34m\u001b[0m\u001b[0m\n\u001b[0;32m--> 457\u001b[0;31m       \u001b[0mself\u001b[0m\u001b[0;34m.\u001b[0m\u001b[0m_call_batch_hook\u001b[0m\u001b[0;34m(\u001b[0m\u001b[0mModeKeys\u001b[0m\u001b[0;34m.\u001b[0m\u001b[0mTRAIN\u001b[0m\u001b[0;34m,\u001b[0m \u001b[0;34m'end'\u001b[0m\u001b[0;34m,\u001b[0m \u001b[0mbatch\u001b[0m\u001b[0;34m,\u001b[0m \u001b[0mlogs\u001b[0m\u001b[0;34m=\u001b[0m\u001b[0mlogs\u001b[0m\u001b[0;34m)\u001b[0m\u001b[0;34m\u001b[0m\u001b[0;34m\u001b[0m\u001b[0m\n\u001b[0m\u001b[1;32m    458\u001b[0m \u001b[0;34m\u001b[0m\u001b[0m\n\u001b[1;32m    459\u001b[0m   \u001b[0;32mdef\u001b[0m \u001b[0mon_test_batch_begin\u001b[0m\u001b[0;34m(\u001b[0m\u001b[0mself\u001b[0m\u001b[0;34m,\u001b[0m \u001b[0mbatch\u001b[0m\u001b[0;34m,\u001b[0m \u001b[0mlogs\u001b[0m\u001b[0;34m=\u001b[0m\u001b[0;32mNone\u001b[0m\u001b[0;34m)\u001b[0m\u001b[0;34m:\u001b[0m\u001b[0;34m\u001b[0m\u001b[0;34m\u001b[0m\u001b[0m\n",
            "\u001b[0;32m/usr/local/lib/python3.7/dist-packages/tensorflow/python/keras/callbacks.py\u001b[0m in \u001b[0;36m_call_batch_hook\u001b[0;34m(self, mode, hook, batch, logs)\u001b[0m\n\u001b[1;32m    315\u001b[0m       \u001b[0mself\u001b[0m\u001b[0;34m.\u001b[0m\u001b[0m_call_batch_begin_hook\u001b[0m\u001b[0;34m(\u001b[0m\u001b[0mmode\u001b[0m\u001b[0;34m,\u001b[0m \u001b[0mbatch\u001b[0m\u001b[0;34m,\u001b[0m \u001b[0mlogs\u001b[0m\u001b[0;34m)\u001b[0m\u001b[0;34m\u001b[0m\u001b[0;34m\u001b[0m\u001b[0m\n\u001b[1;32m    316\u001b[0m     \u001b[0;32melif\u001b[0m \u001b[0mhook\u001b[0m \u001b[0;34m==\u001b[0m \u001b[0;34m'end'\u001b[0m\u001b[0;34m:\u001b[0m\u001b[0;34m\u001b[0m\u001b[0;34m\u001b[0m\u001b[0m\n\u001b[0;32m--> 317\u001b[0;31m       \u001b[0mself\u001b[0m\u001b[0;34m.\u001b[0m\u001b[0m_call_batch_end_hook\u001b[0m\u001b[0;34m(\u001b[0m\u001b[0mmode\u001b[0m\u001b[0;34m,\u001b[0m \u001b[0mbatch\u001b[0m\u001b[0;34m,\u001b[0m \u001b[0mlogs\u001b[0m\u001b[0;34m)\u001b[0m\u001b[0;34m\u001b[0m\u001b[0;34m\u001b[0m\u001b[0m\n\u001b[0m\u001b[1;32m    318\u001b[0m     \u001b[0;32melse\u001b[0m\u001b[0;34m:\u001b[0m\u001b[0;34m\u001b[0m\u001b[0;34m\u001b[0m\u001b[0m\n\u001b[1;32m    319\u001b[0m       \u001b[0;32mraise\u001b[0m \u001b[0mValueError\u001b[0m\u001b[0;34m(\u001b[0m\u001b[0;34m'Unrecognized hook: {}'\u001b[0m\u001b[0;34m.\u001b[0m\u001b[0mformat\u001b[0m\u001b[0;34m(\u001b[0m\u001b[0mhook\u001b[0m\u001b[0;34m)\u001b[0m\u001b[0;34m)\u001b[0m\u001b[0;34m\u001b[0m\u001b[0;34m\u001b[0m\u001b[0m\n",
            "\u001b[0;32m/usr/local/lib/python3.7/dist-packages/tensorflow/python/keras/callbacks.py\u001b[0m in \u001b[0;36m_call_batch_end_hook\u001b[0;34m(self, mode, batch, logs)\u001b[0m\n\u001b[1;32m    335\u001b[0m       \u001b[0mself\u001b[0m\u001b[0;34m.\u001b[0m\u001b[0m_batch_times\u001b[0m\u001b[0;34m.\u001b[0m\u001b[0mappend\u001b[0m\u001b[0;34m(\u001b[0m\u001b[0mbatch_time\u001b[0m\u001b[0;34m)\u001b[0m\u001b[0;34m\u001b[0m\u001b[0;34m\u001b[0m\u001b[0m\n\u001b[1;32m    336\u001b[0m \u001b[0;34m\u001b[0m\u001b[0m\n\u001b[0;32m--> 337\u001b[0;31m     \u001b[0mself\u001b[0m\u001b[0;34m.\u001b[0m\u001b[0m_call_batch_hook_helper\u001b[0m\u001b[0;34m(\u001b[0m\u001b[0mhook_name\u001b[0m\u001b[0;34m,\u001b[0m \u001b[0mbatch\u001b[0m\u001b[0;34m,\u001b[0m \u001b[0mlogs\u001b[0m\u001b[0;34m)\u001b[0m\u001b[0;34m\u001b[0m\u001b[0;34m\u001b[0m\u001b[0m\n\u001b[0m\u001b[1;32m    338\u001b[0m \u001b[0;34m\u001b[0m\u001b[0m\n\u001b[1;32m    339\u001b[0m     \u001b[0;32mif\u001b[0m \u001b[0mlen\u001b[0m\u001b[0;34m(\u001b[0m\u001b[0mself\u001b[0m\u001b[0;34m.\u001b[0m\u001b[0m_batch_times\u001b[0m\u001b[0;34m)\u001b[0m \u001b[0;34m>=\u001b[0m \u001b[0mself\u001b[0m\u001b[0;34m.\u001b[0m\u001b[0m_num_batches_for_timing_check\u001b[0m\u001b[0;34m:\u001b[0m\u001b[0;34m\u001b[0m\u001b[0;34m\u001b[0m\u001b[0m\n",
            "\u001b[0;32m/usr/local/lib/python3.7/dist-packages/tensorflow/python/keras/callbacks.py\u001b[0m in \u001b[0;36m_call_batch_hook_helper\u001b[0;34m(self, hook_name, batch, logs)\u001b[0m\n\u001b[1;32m    373\u001b[0m     \u001b[0;32mfor\u001b[0m \u001b[0mcallback\u001b[0m \u001b[0;32min\u001b[0m \u001b[0mself\u001b[0m\u001b[0;34m.\u001b[0m\u001b[0mcallbacks\u001b[0m\u001b[0;34m:\u001b[0m\u001b[0;34m\u001b[0m\u001b[0;34m\u001b[0m\u001b[0m\n\u001b[1;32m    374\u001b[0m       \u001b[0mhook\u001b[0m \u001b[0;34m=\u001b[0m \u001b[0mgetattr\u001b[0m\u001b[0;34m(\u001b[0m\u001b[0mcallback\u001b[0m\u001b[0;34m,\u001b[0m \u001b[0mhook_name\u001b[0m\u001b[0;34m)\u001b[0m\u001b[0;34m\u001b[0m\u001b[0;34m\u001b[0m\u001b[0m\n\u001b[0;32m--> 375\u001b[0;31m       \u001b[0mhook\u001b[0m\u001b[0;34m(\u001b[0m\u001b[0mbatch\u001b[0m\u001b[0;34m,\u001b[0m \u001b[0mlogs\u001b[0m\u001b[0;34m)\u001b[0m\u001b[0;34m\u001b[0m\u001b[0;34m\u001b[0m\u001b[0m\n\u001b[0m\u001b[1;32m    376\u001b[0m \u001b[0;34m\u001b[0m\u001b[0m\n\u001b[1;32m    377\u001b[0m     \u001b[0;32mif\u001b[0m \u001b[0mself\u001b[0m\u001b[0;34m.\u001b[0m\u001b[0m_check_timing\u001b[0m\u001b[0;34m:\u001b[0m\u001b[0;34m\u001b[0m\u001b[0;34m\u001b[0m\u001b[0m\n",
            "\u001b[0;32m/usr/local/lib/python3.7/dist-packages/tensorflow/python/keras/callbacks.py\u001b[0m in \u001b[0;36mon_train_batch_end\u001b[0;34m(self, batch, logs)\u001b[0m\n\u001b[1;32m   1027\u001b[0m \u001b[0;34m\u001b[0m\u001b[0m\n\u001b[1;32m   1028\u001b[0m   \u001b[0;32mdef\u001b[0m \u001b[0mon_train_batch_end\u001b[0m\u001b[0;34m(\u001b[0m\u001b[0mself\u001b[0m\u001b[0;34m,\u001b[0m \u001b[0mbatch\u001b[0m\u001b[0;34m,\u001b[0m \u001b[0mlogs\u001b[0m\u001b[0;34m=\u001b[0m\u001b[0;32mNone\u001b[0m\u001b[0;34m)\u001b[0m\u001b[0;34m:\u001b[0m\u001b[0;34m\u001b[0m\u001b[0;34m\u001b[0m\u001b[0m\n\u001b[0;32m-> 1029\u001b[0;31m     \u001b[0mself\u001b[0m\u001b[0;34m.\u001b[0m\u001b[0m_batch_update_progbar\u001b[0m\u001b[0;34m(\u001b[0m\u001b[0mbatch\u001b[0m\u001b[0;34m,\u001b[0m \u001b[0mlogs\u001b[0m\u001b[0;34m)\u001b[0m\u001b[0;34m\u001b[0m\u001b[0;34m\u001b[0m\u001b[0m\n\u001b[0m\u001b[1;32m   1030\u001b[0m \u001b[0;34m\u001b[0m\u001b[0m\n\u001b[1;32m   1031\u001b[0m   \u001b[0;32mdef\u001b[0m \u001b[0mon_test_batch_end\u001b[0m\u001b[0;34m(\u001b[0m\u001b[0mself\u001b[0m\u001b[0;34m,\u001b[0m \u001b[0mbatch\u001b[0m\u001b[0;34m,\u001b[0m \u001b[0mlogs\u001b[0m\u001b[0;34m=\u001b[0m\u001b[0;32mNone\u001b[0m\u001b[0;34m)\u001b[0m\u001b[0;34m:\u001b[0m\u001b[0;34m\u001b[0m\u001b[0;34m\u001b[0m\u001b[0m\n",
            "\u001b[0;32m/usr/local/lib/python3.7/dist-packages/tensorflow/python/keras/callbacks.py\u001b[0m in \u001b[0;36m_batch_update_progbar\u001b[0;34m(self, batch, logs)\u001b[0m\n\u001b[1;32m   1099\u001b[0m     \u001b[0;32mif\u001b[0m \u001b[0mself\u001b[0m\u001b[0;34m.\u001b[0m\u001b[0mverbose\u001b[0m \u001b[0;34m==\u001b[0m \u001b[0;36m1\u001b[0m\u001b[0;34m:\u001b[0m\u001b[0;34m\u001b[0m\u001b[0;34m\u001b[0m\u001b[0m\n\u001b[1;32m   1100\u001b[0m       \u001b[0;31m# Only block async when verbose = 1.\u001b[0m\u001b[0;34m\u001b[0m\u001b[0;34m\u001b[0m\u001b[0;34m\u001b[0m\u001b[0m\n\u001b[0;32m-> 1101\u001b[0;31m       \u001b[0mlogs\u001b[0m \u001b[0;34m=\u001b[0m \u001b[0mtf_utils\u001b[0m\u001b[0;34m.\u001b[0m\u001b[0msync_to_numpy_or_python_type\u001b[0m\u001b[0;34m(\u001b[0m\u001b[0mlogs\u001b[0m\u001b[0;34m)\u001b[0m\u001b[0;34m\u001b[0m\u001b[0;34m\u001b[0m\u001b[0m\n\u001b[0m\u001b[1;32m   1102\u001b[0m       \u001b[0mself\u001b[0m\u001b[0;34m.\u001b[0m\u001b[0mprogbar\u001b[0m\u001b[0;34m.\u001b[0m\u001b[0mupdate\u001b[0m\u001b[0;34m(\u001b[0m\u001b[0mself\u001b[0m\u001b[0;34m.\u001b[0m\u001b[0mseen\u001b[0m\u001b[0;34m,\u001b[0m \u001b[0mlist\u001b[0m\u001b[0;34m(\u001b[0m\u001b[0mlogs\u001b[0m\u001b[0;34m.\u001b[0m\u001b[0mitems\u001b[0m\u001b[0;34m(\u001b[0m\u001b[0;34m)\u001b[0m\u001b[0;34m)\u001b[0m\u001b[0;34m,\u001b[0m \u001b[0mfinalize\u001b[0m\u001b[0;34m=\u001b[0m\u001b[0;32mFalse\u001b[0m\u001b[0;34m)\u001b[0m\u001b[0;34m\u001b[0m\u001b[0;34m\u001b[0m\u001b[0m\n\u001b[1;32m   1103\u001b[0m \u001b[0;34m\u001b[0m\u001b[0m\n",
            "\u001b[0;32m/usr/local/lib/python3.7/dist-packages/tensorflow/python/keras/utils/tf_utils.py\u001b[0m in \u001b[0;36msync_to_numpy_or_python_type\u001b[0;34m(tensors)\u001b[0m\n\u001b[1;32m    517\u001b[0m     \u001b[0;32mreturn\u001b[0m \u001b[0mt\u001b[0m  \u001b[0;31m# Don't turn ragged or sparse tensors to NumPy.\u001b[0m\u001b[0;34m\u001b[0m\u001b[0;34m\u001b[0m\u001b[0m\n\u001b[1;32m    518\u001b[0m \u001b[0;34m\u001b[0m\u001b[0m\n\u001b[0;32m--> 519\u001b[0;31m   \u001b[0;32mreturn\u001b[0m \u001b[0mnest\u001b[0m\u001b[0;34m.\u001b[0m\u001b[0mmap_structure\u001b[0m\u001b[0;34m(\u001b[0m\u001b[0m_to_single_numpy_or_python_type\u001b[0m\u001b[0;34m,\u001b[0m \u001b[0mtensors\u001b[0m\u001b[0;34m)\u001b[0m\u001b[0;34m\u001b[0m\u001b[0;34m\u001b[0m\u001b[0m\n\u001b[0m\u001b[1;32m    520\u001b[0m \u001b[0;34m\u001b[0m\u001b[0m\n\u001b[1;32m    521\u001b[0m \u001b[0;34m\u001b[0m\u001b[0m\n",
            "\u001b[0;32m/usr/local/lib/python3.7/dist-packages/tensorflow/python/util/nest.py\u001b[0m in \u001b[0;36mmap_structure\u001b[0;34m(func, *structure, **kwargs)\u001b[0m\n\u001b[1;32m    865\u001b[0m \u001b[0;34m\u001b[0m\u001b[0m\n\u001b[1;32m    866\u001b[0m   return pack_sequence_as(\n\u001b[0;32m--> 867\u001b[0;31m       \u001b[0mstructure\u001b[0m\u001b[0;34m[\u001b[0m\u001b[0;36m0\u001b[0m\u001b[0;34m]\u001b[0m\u001b[0;34m,\u001b[0m \u001b[0;34m[\u001b[0m\u001b[0mfunc\u001b[0m\u001b[0;34m(\u001b[0m\u001b[0;34m*\u001b[0m\u001b[0mx\u001b[0m\u001b[0;34m)\u001b[0m \u001b[0;32mfor\u001b[0m \u001b[0mx\u001b[0m \u001b[0;32min\u001b[0m \u001b[0mentries\u001b[0m\u001b[0;34m]\u001b[0m\u001b[0;34m,\u001b[0m\u001b[0;34m\u001b[0m\u001b[0;34m\u001b[0m\u001b[0m\n\u001b[0m\u001b[1;32m    868\u001b[0m       expand_composites=expand_composites)\n\u001b[1;32m    869\u001b[0m \u001b[0;34m\u001b[0m\u001b[0m\n",
            "\u001b[0;32m/usr/local/lib/python3.7/dist-packages/tensorflow/python/util/nest.py\u001b[0m in \u001b[0;36m<listcomp>\u001b[0;34m(.0)\u001b[0m\n\u001b[1;32m    865\u001b[0m \u001b[0;34m\u001b[0m\u001b[0m\n\u001b[1;32m    866\u001b[0m   return pack_sequence_as(\n\u001b[0;32m--> 867\u001b[0;31m       \u001b[0mstructure\u001b[0m\u001b[0;34m[\u001b[0m\u001b[0;36m0\u001b[0m\u001b[0;34m]\u001b[0m\u001b[0;34m,\u001b[0m \u001b[0;34m[\u001b[0m\u001b[0mfunc\u001b[0m\u001b[0;34m(\u001b[0m\u001b[0;34m*\u001b[0m\u001b[0mx\u001b[0m\u001b[0;34m)\u001b[0m \u001b[0;32mfor\u001b[0m \u001b[0mx\u001b[0m \u001b[0;32min\u001b[0m \u001b[0mentries\u001b[0m\u001b[0;34m]\u001b[0m\u001b[0;34m,\u001b[0m\u001b[0;34m\u001b[0m\u001b[0;34m\u001b[0m\u001b[0m\n\u001b[0m\u001b[1;32m    868\u001b[0m       expand_composites=expand_composites)\n\u001b[1;32m    869\u001b[0m \u001b[0;34m\u001b[0m\u001b[0m\n",
            "\u001b[0;32m/usr/local/lib/python3.7/dist-packages/tensorflow/python/keras/utils/tf_utils.py\u001b[0m in \u001b[0;36m_to_single_numpy_or_python_type\u001b[0;34m(t)\u001b[0m\n\u001b[1;32m    513\u001b[0m   \u001b[0;32mdef\u001b[0m \u001b[0m_to_single_numpy_or_python_type\u001b[0m\u001b[0;34m(\u001b[0m\u001b[0mt\u001b[0m\u001b[0;34m)\u001b[0m\u001b[0;34m:\u001b[0m\u001b[0;34m\u001b[0m\u001b[0;34m\u001b[0m\u001b[0m\n\u001b[1;32m    514\u001b[0m     \u001b[0;32mif\u001b[0m \u001b[0misinstance\u001b[0m\u001b[0;34m(\u001b[0m\u001b[0mt\u001b[0m\u001b[0;34m,\u001b[0m \u001b[0mops\u001b[0m\u001b[0;34m.\u001b[0m\u001b[0mTensor\u001b[0m\u001b[0;34m)\u001b[0m\u001b[0;34m:\u001b[0m\u001b[0;34m\u001b[0m\u001b[0;34m\u001b[0m\u001b[0m\n\u001b[0;32m--> 515\u001b[0;31m       \u001b[0mx\u001b[0m \u001b[0;34m=\u001b[0m \u001b[0mt\u001b[0m\u001b[0;34m.\u001b[0m\u001b[0mnumpy\u001b[0m\u001b[0;34m(\u001b[0m\u001b[0;34m)\u001b[0m\u001b[0;34m\u001b[0m\u001b[0;34m\u001b[0m\u001b[0m\n\u001b[0m\u001b[1;32m    516\u001b[0m       \u001b[0;32mreturn\u001b[0m \u001b[0mx\u001b[0m\u001b[0;34m.\u001b[0m\u001b[0mitem\u001b[0m\u001b[0;34m(\u001b[0m\u001b[0;34m)\u001b[0m \u001b[0;32mif\u001b[0m \u001b[0mnp\u001b[0m\u001b[0;34m.\u001b[0m\u001b[0mndim\u001b[0m\u001b[0;34m(\u001b[0m\u001b[0mx\u001b[0m\u001b[0;34m)\u001b[0m \u001b[0;34m==\u001b[0m \u001b[0;36m0\u001b[0m \u001b[0;32melse\u001b[0m \u001b[0mx\u001b[0m\u001b[0;34m\u001b[0m\u001b[0;34m\u001b[0m\u001b[0m\n\u001b[1;32m    517\u001b[0m     \u001b[0;32mreturn\u001b[0m \u001b[0mt\u001b[0m  \u001b[0;31m# Don't turn ragged or sparse tensors to NumPy.\u001b[0m\u001b[0;34m\u001b[0m\u001b[0;34m\u001b[0m\u001b[0m\n",
            "\u001b[0;32m/usr/local/lib/python3.7/dist-packages/tensorflow/python/framework/ops.py\u001b[0m in \u001b[0;36mnumpy\u001b[0;34m(self)\u001b[0m\n\u001b[1;32m   1092\u001b[0m     \"\"\"\n\u001b[1;32m   1093\u001b[0m     \u001b[0;31m# TODO(slebedev): Consider avoiding a copy for non-CPU or remote tensors.\u001b[0m\u001b[0;34m\u001b[0m\u001b[0;34m\u001b[0m\u001b[0;34m\u001b[0m\u001b[0m\n\u001b[0;32m-> 1094\u001b[0;31m     \u001b[0mmaybe_arr\u001b[0m \u001b[0;34m=\u001b[0m \u001b[0mself\u001b[0m\u001b[0;34m.\u001b[0m\u001b[0m_numpy\u001b[0m\u001b[0;34m(\u001b[0m\u001b[0;34m)\u001b[0m  \u001b[0;31m# pylint: disable=protected-access\u001b[0m\u001b[0;34m\u001b[0m\u001b[0;34m\u001b[0m\u001b[0m\n\u001b[0m\u001b[1;32m   1095\u001b[0m     \u001b[0;32mreturn\u001b[0m \u001b[0mmaybe_arr\u001b[0m\u001b[0;34m.\u001b[0m\u001b[0mcopy\u001b[0m\u001b[0;34m(\u001b[0m\u001b[0;34m)\u001b[0m \u001b[0;32mif\u001b[0m \u001b[0misinstance\u001b[0m\u001b[0;34m(\u001b[0m\u001b[0mmaybe_arr\u001b[0m\u001b[0;34m,\u001b[0m \u001b[0mnp\u001b[0m\u001b[0;34m.\u001b[0m\u001b[0mndarray\u001b[0m\u001b[0;34m)\u001b[0m \u001b[0;32melse\u001b[0m \u001b[0mmaybe_arr\u001b[0m\u001b[0;34m\u001b[0m\u001b[0;34m\u001b[0m\u001b[0m\n\u001b[1;32m   1096\u001b[0m \u001b[0;34m\u001b[0m\u001b[0m\n",
            "\u001b[0;32m/usr/local/lib/python3.7/dist-packages/tensorflow/python/framework/ops.py\u001b[0m in \u001b[0;36m_numpy\u001b[0;34m(self)\u001b[0m\n\u001b[1;32m   1058\u001b[0m   \u001b[0;32mdef\u001b[0m \u001b[0m_numpy\u001b[0m\u001b[0;34m(\u001b[0m\u001b[0mself\u001b[0m\u001b[0;34m)\u001b[0m\u001b[0;34m:\u001b[0m\u001b[0;34m\u001b[0m\u001b[0;34m\u001b[0m\u001b[0m\n\u001b[1;32m   1059\u001b[0m     \u001b[0;32mtry\u001b[0m\u001b[0;34m:\u001b[0m\u001b[0;34m\u001b[0m\u001b[0;34m\u001b[0m\u001b[0m\n\u001b[0;32m-> 1060\u001b[0;31m       \u001b[0;32mreturn\u001b[0m \u001b[0mself\u001b[0m\u001b[0;34m.\u001b[0m\u001b[0m_numpy_internal\u001b[0m\u001b[0;34m(\u001b[0m\u001b[0;34m)\u001b[0m\u001b[0;34m\u001b[0m\u001b[0;34m\u001b[0m\u001b[0m\n\u001b[0m\u001b[1;32m   1061\u001b[0m     \u001b[0;32mexcept\u001b[0m \u001b[0mcore\u001b[0m\u001b[0;34m.\u001b[0m\u001b[0m_NotOkStatusException\u001b[0m \u001b[0;32mas\u001b[0m \u001b[0me\u001b[0m\u001b[0;34m:\u001b[0m  \u001b[0;31m# pylint: disable=protected-access\u001b[0m\u001b[0;34m\u001b[0m\u001b[0;34m\u001b[0m\u001b[0m\n\u001b[1;32m   1062\u001b[0m       \u001b[0msix\u001b[0m\u001b[0;34m.\u001b[0m\u001b[0mraise_from\u001b[0m\u001b[0;34m(\u001b[0m\u001b[0mcore\u001b[0m\u001b[0;34m.\u001b[0m\u001b[0m_status_to_exception\u001b[0m\u001b[0;34m(\u001b[0m\u001b[0me\u001b[0m\u001b[0;34m.\u001b[0m\u001b[0mcode\u001b[0m\u001b[0;34m,\u001b[0m \u001b[0me\u001b[0m\u001b[0;34m.\u001b[0m\u001b[0mmessage\u001b[0m\u001b[0;34m)\u001b[0m\u001b[0;34m,\u001b[0m \u001b[0;32mNone\u001b[0m\u001b[0;34m)\u001b[0m  \u001b[0;31m# pylint: disable=protected-access\u001b[0m\u001b[0;34m\u001b[0m\u001b[0;34m\u001b[0m\u001b[0m\n",
            "\u001b[0;31mKeyboardInterrupt\u001b[0m: "
          ]
        }
      ]
    },
    {
      "cell_type": "code",
      "metadata": {
        "id": "IaGm1OqqmL2t"
      },
      "source": [
        "model.load_weights(\"/content/model-best-error.h5\")"
      ],
      "execution_count": null,
      "outputs": []
    },
    {
      "cell_type": "code",
      "metadata": {
        "id": "rZH72ZhHVngP"
      },
      "source": [
        "model.save_weights(\"/content/TUT-sound-events-2017/YOHO-fold4.h5\")"
      ],
      "execution_count": null,
      "outputs": []
    },
    {
      "cell_type": "markdown",
      "metadata": {
        "id": "eXSKZUpJm3R5"
      },
      "source": [
        "# Go back the cell titled 'Split into folds'. Replace 'fold4' with 'fold1' for all occurrences in the notebook. Save the models separately in the 'TUT-sound-events-2017' folder. After training models for all the four folds, the below code blocks perform evaluation on the test set using an ensemble. "
      ]
    },
    {
      "cell_type": "markdown",
      "metadata": {
        "id": "clkEiZuqW2Kd"
      },
      "source": [
        "# Testing"
      ]
    },
    {
      "cell_type": "code",
      "metadata": {
        "id": "Khjd5CKZY8kF"
      },
      "source": [
        "def smoothe_events(events):\n",
        "\n",
        "  ann = events\n",
        "\n",
        "  curr_ann = ann\n",
        "\n",
        "  class_set = set([c[2] for c in curr_ann])\n",
        "  class_wise_events = {}\n",
        "\n",
        "  for c in list(class_set):\n",
        "    class_wise_events[c] = []\n",
        "\n",
        "\n",
        "  for c in curr_ann:\n",
        "    class_wise_events[c[2]].append(c)\n",
        "    \n",
        "  max_event_silence = 1.0\n",
        "  all_events = []\n",
        "\n",
        "  for k in list(class_wise_events.keys()):\n",
        "    curr_events = class_wise_events[k]\n",
        "    count = 0\n",
        "\n",
        "    while count < len(curr_events) - 1:\n",
        "      if (curr_events[count][1] >= curr_events[count + 1][0]) or (curr_events[count + 1][0] - curr_events[count][1] <= max_event_silence):\n",
        "        curr_events[count][1] = max(curr_events[count + 1][1], curr_events[count][1])\n",
        "        del curr_events[count + 1]\n",
        "      else:\n",
        "        count += 1\n",
        "\n",
        "    all_events += curr_events\n",
        "\n",
        "  for i in range(len(all_events)):\n",
        "    all_events[i][0] = round(all_events[i][0], 3)\n",
        "    all_events[i][1] = round(all_events[i][1], 3)\n",
        "\n",
        "  all_events.sort(key=lambda x: x[0])\n",
        "\n",
        "  return all_events"
      ],
      "execution_count": null,
      "outputs": []
    },
    {
      "cell_type": "code",
      "metadata": {
        "id": "f0udcSnnZkpT"
      },
      "source": [
        "rev_class_dict = ['brakes squeaking',\n",
        "              'car',\n",
        "              'children',\n",
        "              'large vehicle',\n",
        "              'people speaking',\n",
        "              'people walking']"
      ],
      "execution_count": null,
      "outputs": []
    },
    {
      "cell_type": "code",
      "metadata": {
        "id": "JTURl9s_FP7n"
      },
      "source": [
        "def mk_preds_YOHO(model, audio_path, no_of_div = 9, hop_size = 1.96, discard = 0.3, win_length = 2.56, max_event_silence = 0.3, sampling_rate = 44100):\n",
        "  a, win_ranges = construct_examples(audio_path, win_len=win_length,hop_len=hop_size)\n",
        "\n",
        "  preds = np.zeros((len(a), 9, 18))\n",
        "  mss_in = np.zeros((len(a), 257, 40))\n",
        "\n",
        "  for i in range(len(a)):\n",
        "    M = get_log_melspectrogram(a[i])\n",
        "    mss_in[i, :, :] = M.T\n",
        "\n",
        "  preds = model.predict(mss_in)\n",
        "  events = []\n",
        "\n",
        "  for i in range(len(preds)):\n",
        "    p = preds[i, :, :]\n",
        "    events_curr = []\n",
        "    win_width = win_length / no_of_div\n",
        "    for j in range(len(p)):\n",
        "      for jjj in range(0, 6):\n",
        "        if p[j][jjj*3] >= 0.5:\n",
        "          start = win_width * j + win_width * p[j][jjj*3+1] + win_ranges[i][0]\n",
        "          end = p[j][jjj*3+2] * win_width + start\n",
        "          events_curr.append([start, end, rev_class_dict[jjj]])\n",
        "\n",
        "    events += events_curr\n",
        "\n",
        "\n",
        "  class_set = set([c[2] for c in events])\n",
        "  class_wise_events = {}\n",
        "\n",
        "  for c in list(class_set):\n",
        "    class_wise_events[c] = []\n",
        "\n",
        "\n",
        "  for c in events:\n",
        "    class_wise_events[c[2]].append(c)\n",
        "    \n",
        "  \n",
        "  all_events = []\n",
        "\n",
        "  for k in list(class_wise_events.keys()):\n",
        "    curr_events = class_wise_events[k]\n",
        "    count = 0\n",
        "\n",
        "    while count < len(curr_events) - 1:\n",
        "      if (curr_events[count][1] >= curr_events[count + 1][0]) or (curr_events[count + 1][0] - curr_events[count][1] <= max_event_silence):\n",
        "        curr_events[count][1] = max(curr_events[count + 1][1], curr_events[count][1])\n",
        "        del curr_events[count + 1]\n",
        "      else:\n",
        "        count += 1\n",
        "\n",
        "    all_events += curr_events\n",
        "\n",
        "  for i in range(len(all_events)):\n",
        "    all_events[i][0] = round(all_events[i][0], 3)\n",
        "    all_events[i][1] = round(all_events[i][1], 3)\n",
        "\n",
        "  all_events.sort(key=lambda x: x[0])\n",
        "\n",
        "  return all_events\n",
        "\n"
      ],
      "execution_count": null,
      "outputs": []
    },
    {
      "cell_type": "code",
      "metadata": {
        "id": "LjsbdoHWeo0P"
      },
      "source": [
        "def frames_to_time(f, sr = 44100.0, hop_size = 441):\n",
        "  return f * hop_size / sr\n",
        "\n",
        "def preds_to_se(p, win_start, audio_clip_length = 2.56):\n",
        "  start_dicts = [-100, -100, -100, -100, -100, -100]\n",
        "  stop_dicts = [-100, -100, -100, -100, -100, -100]\n",
        "\n",
        "\n",
        "  start_speech = -100\n",
        "  start_music = -100\n",
        "  stop_speech = -100\n",
        "  stop_music = -100\n",
        "\n",
        "  audio_events = []\n",
        "\n",
        "  n_frames = p.shape[0]\n",
        "\n",
        "  for j in range(p.shape[1]):\n",
        "    if p[0, j] >= 0.5:\n",
        "      start_dicts[j] = 0\n",
        "\n",
        "  for j in range(p.shape[1]):\n",
        "    for i in range(n_frames - 1):\n",
        "      if p[i, j] < 0.5 and p[i+1, j] >= 0.5:\n",
        "        start_dicts[j] = i+1\n",
        "\n",
        "      elif p[i, j] >= 0.5 and p[i + 1, j] < 0.5:\n",
        "        stop_dicts[j] = i\n",
        "        start_time = frames_to_time(start_dicts[j])\n",
        "        stop_time = frames_to_time(stop_dicts[j])\n",
        "\n",
        "        audio_events.append([start_time+win_start, stop_time+win_start, rev_class_dict[j]])\n",
        "        start_dicts[j] = -100\n",
        "        stop_dicts[j] = -100\n",
        "\n",
        "    if start_dicts[j] != -100:\n",
        "      start_time = frames_to_time(start_dicts[j])\n",
        "      stop_time = audio_clip_length\n",
        "      audio_events.append([start_time+win_start, stop_time+win_start, rev_class_dict[j]])\n",
        "      start_dicts[j] = -100\n",
        "      stop_dicts[j] = -100\n",
        "\n",
        "  audio_events.sort(key = lambda x: x[0]) \n",
        "  return audio_events\n",
        "\n"
      ],
      "execution_count": null,
      "outputs": []
    },
    {
      "cell_type": "code",
      "metadata": {
        "colab": {
          "base_uri": "https://localhost:8080/",
          "height": 229
        },
        "id": "G_QvaoTOHTXR",
        "outputId": "90f2b531-cad1-44bb-9137-77290d46d150"
      },
      "source": [
        "# in_signal, in_sr = sf.read(\"\")\n",
        "\n",
        "# Resample the audio file.\n",
        "win_length = 2.56\n",
        "no_of_div = 9\n",
        "\n",
        "audio_clip_length_samples = in_signal.shape[0]\n",
        "print('audio_clip_length_samples is {}'.format(audio_clip_length_samples))\n",
        "\n",
        "a, win_ranges = construct_examples(\"/content/development/TUT-sound-events-2017-development/audio-mono/street/a001.wav\",hop_len=1.96)\n",
        "\n",
        "preds = np.zeros((len(a), 9, 18))\n",
        "mss_in = np.zeros((len(a), 257, 40))\n",
        "\n",
        "for i in range(len(a)):\n",
        "  M = get_log_melspectrogram(a[i])\n",
        "  mss_in[i, :, :] = M.T\n",
        "\n",
        "preds = model.predict(mss_in)\n",
        "events = []\n",
        "\n",
        "for i in range(len(preds)):\n",
        "  p = preds[i, :, :]\n",
        "  events_curr = []\n",
        "  win_width = win_length / no_of_div\n",
        "  for j in range(len(p)):\n",
        "    for jjj in range(0, 6):\n",
        "      if p[j][jjj*3] >= 0.5:\n",
        "        start = win_width * j + win_width * p[j][jjj*3+1] + win_ranges[i][0]\n",
        "        end = p[j][jjj*3+2] * win_width + start\n",
        "        events_curr.append([start, end, rev_class_dict[jjj]])\n",
        "\n",
        "  events += events_curr\n",
        "\n",
        "\n",
        "class_set = set([c[2] for c in events])\n",
        "class_wise_events = {}\n",
        "\n",
        "for c in list(class_set):\n",
        "  class_wise_events[c] = []\n",
        "\n",
        "\n",
        "for c in events:\n",
        "  class_wise_events[c[2]].append(c)\n",
        "  \n",
        "max_event_silence = 1.0\n",
        "all_events = []\n",
        "\n",
        "for k in list(class_wise_events.keys()):\n",
        "  curr_events = class_wise_events[k]\n",
        "  count = 0\n",
        "\n",
        "  while count < len(curr_events) - 1:\n",
        "    if (curr_events[count][1] >= curr_events[count + 1][0]) or (curr_events[count + 1][0] - curr_events[count][1] <= max_event_silence):\n",
        "      curr_events[count][1] = max(curr_events[count + 1][1], curr_events[count][1])\n",
        "      del curr_events[count + 1]\n",
        "    else:\n",
        "      count += 1\n",
        "\n",
        "  all_events += curr_events\n",
        "\n",
        "for i in range(len(all_events)):\n",
        "  all_events[i][0] = round(all_events[i][0], 3)\n",
        "  all_events[i][1] = round(all_events[i][1], 3)\n",
        "\n",
        "all_events.sort(key=lambda x: x[0])\n"
      ],
      "execution_count": null,
      "outputs": [
        {
          "output_type": "error",
          "ename": "NameError",
          "evalue": "ignored",
          "traceback": [
            "\u001b[0;31m---------------------------------------------------------------------------\u001b[0m",
            "\u001b[0;31mNameError\u001b[0m                                 Traceback (most recent call last)",
            "\u001b[0;32m<ipython-input-97-e785049c4f10>\u001b[0m in \u001b[0;36m<module>\u001b[0;34m()\u001b[0m\n\u001b[1;32m      5\u001b[0m \u001b[0mno_of_div\u001b[0m \u001b[0;34m=\u001b[0m \u001b[0;36m9\u001b[0m\u001b[0;34m\u001b[0m\u001b[0;34m\u001b[0m\u001b[0m\n\u001b[1;32m      6\u001b[0m \u001b[0;34m\u001b[0m\u001b[0m\n\u001b[0;32m----> 7\u001b[0;31m \u001b[0maudio_clip_length_samples\u001b[0m \u001b[0;34m=\u001b[0m \u001b[0min_signal\u001b[0m\u001b[0;34m.\u001b[0m\u001b[0mshape\u001b[0m\u001b[0;34m[\u001b[0m\u001b[0;36m0\u001b[0m\u001b[0;34m]\u001b[0m\u001b[0;34m\u001b[0m\u001b[0;34m\u001b[0m\u001b[0m\n\u001b[0m\u001b[1;32m      8\u001b[0m \u001b[0mprint\u001b[0m\u001b[0;34m(\u001b[0m\u001b[0;34m'audio_clip_length_samples is {}'\u001b[0m\u001b[0;34m.\u001b[0m\u001b[0mformat\u001b[0m\u001b[0;34m(\u001b[0m\u001b[0maudio_clip_length_samples\u001b[0m\u001b[0;34m)\u001b[0m\u001b[0;34m)\u001b[0m\u001b[0;34m\u001b[0m\u001b[0;34m\u001b[0m\u001b[0m\n\u001b[1;32m      9\u001b[0m \u001b[0;34m\u001b[0m\u001b[0m\n",
            "\u001b[0;31mNameError\u001b[0m: name 'in_signal' is not defined"
          ]
        }
      ]
    },
    {
      "cell_type": "code",
      "metadata": {
        "id": "0ioriFp0W20m"
      },
      "source": [
        "\"\"\"\n",
        "Make predictions for full audio --- vectorised implementation.\n",
        "\"\"\"\n",
        "\n",
        "def mk_preds_vector(audio_path, no_of_div = 9, hop_size = 1.96, discard = 0.3, win_length = 2.56, sampling_rate = 44100):\n",
        "  in_signal, in_sr = sf.read(audio_path)\n",
        "\n",
        "  # Resample the audio file.\n",
        "\n",
        "\n",
        "  audio_clip_length_samples = in_signal.shape[0]\n",
        "  print('audio_clip_length_samples is {}'.format(audio_clip_length_samples))\n",
        "\n",
        "  hop_size_samples = int(hop_size * sampling_rate)\n",
        "  # hop_size_samples = 220 * 602 - 1\n",
        "\n",
        "  win_length_samples = int(win_length * sampling_rate)\n",
        "  # win_length_samples = 220 * 802 - 1\n",
        "\n",
        "  n_preds = int(math.ceil((audio_clip_length_samples - win_length_samples) / hop_size_samples)) + 1\n",
        "\n",
        "  # n_preds = int()\n",
        "\n",
        "  #print('n_preds is {}'.format(n_preds))\n",
        "\n",
        "  in_signal_pad = np.zeros(((n_preds - 1) * hop_size_samples) + win_length_samples)\n",
        "  # in_signal_pad = np.zeros((n_preds * hop_size_samples + 200 * 220))\n",
        "\n",
        "  #print('in_signal_pad.shape is {}'.format(in_signal_pad.shape))\n",
        "\n",
        "  in_signal_pad[0:audio_clip_length_samples] = in_signal\n",
        "\n",
        "  preds = np.zeros((n_preds, 9, 18))\n",
        "  mss_in = np.zeros((n_preds, 257, 40))\n",
        "  events = []\n",
        "\n",
        "  for i in range(n_preds):\n",
        "    seg = in_signal_pad[i * hop_size_samples:(i * hop_size_samples) + win_length_samples]\n",
        "    #print('seg.shape is {}'.format(seg.shape))\n",
        "\n",
        "    mss = get_log_melspectrogram(seg)\n",
        "    M = mss.T\n",
        "    mss_in[i, :, :] = M\n",
        "\n",
        "  preds = model.predict(mss_in)\n",
        "  # preds[:, 0] = (p[:, 0] >= 0.5).astype(np.float)\n",
        "  # preds[:, 2] = (p[:, 2] >= 0.5).astype(np.float)\n",
        "\n",
        "  events = []\n",
        "\n",
        "  for j in range(n_preds):\n",
        "    p = preds[j, :, :]\n",
        "    events_curr = []\n",
        "    win_width = win_length / no_of_div\n",
        "    for i in range(len(p)):\n",
        "      for jjj in range(0, 6):\n",
        "        if p[i][jjj*3] >= 0.5:\n",
        "          start = win_width * i + win_width * p[i][1]\n",
        "          end = p[i][2] * win_width + start\n",
        "          events_curr.append([start, end, rev_class_dict[jjj]])\n",
        "\n",
        "    se = events_curr\n",
        "    if j == 0:\n",
        "      start = 0.0\n",
        "      end = start + win_length\n",
        "      if preds.shape[0] > 1:\n",
        "        end -= discard\n",
        "\n",
        "      # print(\"start: {}   end: {}\".format(start, end))\n",
        "    elif j == n_preds - 1:\n",
        "      start = j * hop_size + discard\n",
        "      end = start - discard + win_length\n",
        "      # print(\"start: {}   end: {}\".format(start, end))\n",
        "\n",
        "    else:\n",
        "      start = j * hop_size + discard\n",
        "      end = start + win_length - discard\n",
        "      # print(\"start: {}   end: {}\".format(start, end))\n",
        "    \n",
        "    for k in range(len(se)):\n",
        "      se[k][0] = max(start, se[k][0] + j * hop_size)\n",
        "      se[k][1] = min(end, se[k][1] + j * hop_size)\n",
        "\n",
        "    # print(se)\n",
        "\n",
        "\n",
        "    for see in se:\n",
        "     events.append(see) \n",
        "    \n",
        "  # print(events)\n",
        "  smooth_events = smoothe_events(events)\n",
        "\n",
        "  return smooth_events"
      ],
      "execution_count": null,
      "outputs": []
    },
    {
      "cell_type": "code",
      "metadata": {
        "colab": {
          "base_uri": "https://localhost:8080/"
        },
        "id": "lU1Za8g6ZEbp",
        "outputId": "4ccb425a-d842-480d-f645-e2744b9c27b0"
      },
      "source": [
        "mk_preds_YOHO(\"/content/development/TUT-sound-events-2017-development/audio-mono/street/a001.wav\")"
      ],
      "execution_count": null,
      "outputs": [
        {
          "output_type": "execute_result",
          "data": {
            "text/plain": [
              "[[3.931, 16.254, 'car'],\n",
              " [22.13, 22.69, 'large vehicle'],\n",
              " [24.09, 28.02, 'large vehicle'],\n",
              " [27.456, 29.993, 'people walking'],\n",
              " [29.403, 33.057, 'large vehicle'],\n",
              " [31.374, 31.642, 'people walking'],\n",
              " [35.568, 36.976, 'large vehicle'],\n",
              " [41.161, 42.288, 'large vehicle'],\n",
              " [45.095, 45.924, 'car'],\n",
              " [47.042, 51.804, 'large vehicle'],\n",
              " [52.921, 53.201, 'large vehicle'],\n",
              " [54.881, 55.161, 'large vehicle'],\n",
              " [58.802, 68.052, 'large vehicle'],\n",
              " [70.575, 71.406, 'car'],\n",
              " [72.536, 72.808, 'car'],\n",
              " [75.055, 75.324, 'car'],\n",
              " [121.538, 129.929, 'car'],\n",
              " [131.335, 131.889, 'car'],\n",
              " [137.215, 138.042, 'car'],\n",
              " [139.172, 151.209, 'car'],\n",
              " [160.737, 165.485, 'car'],\n",
              " [166.612, 167.441, 'car'],\n",
              " [168.575, 173.321, 'car'],\n",
              " [174.456, 175.01, 'car']]"
            ]
          },
          "metadata": {
            "tags": []
          },
          "execution_count": 214
        }
      ]
    },
    {
      "cell_type": "code",
      "metadata": {
        "id": "enrX7tT6ZLqB",
        "colab": {
          "base_uri": "https://localhost:8080/"
        },
        "outputId": "599706ed-7f7e-47cd-97db-c8d251e1cbc4"
      },
      "source": [
        "a, win_ranges = construct_examples(\"/content/development/TUT-sound-events-2017-development/audio-mono/street/a001.wav\", win_len=2.56,hop_len=1.96)\n",
        "\n",
        "max_event_silence = 0.3\n",
        "preds = np.zeros((len(a), 9, 18))\n",
        "mss_in = np.zeros((len(a), 257, 40))\n",
        "\n",
        "for i in range(len(a)):\n",
        "  M = get_log_melspectrogram(a[i])\n",
        "  mss_in[i, :, :] = M.T\n",
        "\n",
        "preds = model.predict(mss_in)\n",
        "events = []\n",
        "\n",
        "for i in range(len(preds)):\n",
        "  p = preds[i, :, :]\n",
        "  events_curr = []\n",
        "  # win_width = win_length / no_of_div\n",
        "\n",
        "  events_curr = preds_to_se(p, win_start = win_ranges[i][0], audio_clip_length=win_length)\n",
        "\n",
        "  events += events_curr\n",
        "\n",
        "print(events)\n",
        "\n",
        "class_set = set([c[2] for c in events])\n",
        "class_wise_events = {}\n",
        "\n",
        "for c in list(class_set):\n",
        "  class_wise_events[c] = []\n",
        "\n",
        "\n",
        "for c in events:\n",
        "  class_wise_events[c[2]].append(c)\n",
        "  \n",
        "\n",
        "all_events = []\n",
        "\n",
        "for k in list(class_wise_events.keys()):\n",
        "  curr_events = class_wise_events[k]\n",
        "  count = 0\n",
        "\n",
        "  while count < len(curr_events) - 1:\n",
        "    if (curr_events[count][1] >= curr_events[count + 1][0]) or (curr_events[count + 1][0] - curr_events[count][1] <= max_event_silence):\n",
        "      curr_events[count][1] = max(curr_events[count + 1][1], curr_events[count][1])\n",
        "      del curr_events[count + 1]\n",
        "    else:\n",
        "      count += 1\n",
        "\n",
        "  all_events += curr_events\n",
        "\n",
        "for i in range(len(all_events)):\n",
        "  all_events[i][0] = round(all_events[i][0], 3)\n",
        "  all_events[i][1] = round(all_events[i][1], 3)\n",
        "\n",
        "all_events.sort(key=lambda x: x[0])\n",
        "\n",
        "print(all_events)\n"
      ],
      "execution_count": null,
      "outputs": [
        {
          "output_type": "stream",
          "text": [
            "[[5.42, 6.46, 'car'], [5.88, 6.09, 'car'], [6.85, 8.43, 'car'], [7.84, 10.39, 'car'], [9.8, 12.350000000000001, 'car'], [11.76, 14.3, 'car'], [13.74, 14.26, 'large vehicle'], [13.73, 16.26, 'large vehicle'], [13.73, 13.76, 'people walking'], [14.06, 15.020000000000001, 'people speaking'], [15.63, 15.950000000000001, 'car'], [15.69, 18.21, 'large vehicle'], [16.72, 16.78, 'people speaking'], [21.61, 21.73, 'large vehicle'], [21.779999999999998, 22.32, 'large vehicle'], [22.81, 23.169999999999998, 'large vehicle'], [23.81, 24.099999999999998, 'large vehicle'], [23.53, 26.07, 'large vehicle'], [25.33, 26.06, 'car'], [25.490000000000002, 28.03, 'large vehicle'], [27.450000000000003, 27.46, 'car'], [27.450000000000003, 29.330000000000002, 'large vehicle'], [27.540000000000003, 29.55, 'car'], [29.380000000000003, 29.53, 'large vehicle'], [29.6, 29.830000000000002, 'car'], [29.62, 29.86, 'large vehicle'], [29.91, 29.970000000000002, 'car'], [29.4, 29.88, 'car'], [29.419999999999998, 29.52, 'large vehicle'], [29.59, 31.939999999999998, 'large vehicle'], [29.93, 30.139999999999997, 'car'], [30.169999999999998, 30.169999999999998, 'car'], [30.27, 30.29, 'car'], [30.57, 30.619999999999997, 'car'], [30.919999999999998, 31.509999999999998, 'car'], [31.689999999999998, 31.729999999999997, 'car'], [31.759999999999998, 31.93, 'car'], [31.37, 31.38, 'car'], [31.37, 33.91, 'large vehicle'], [32.61, 32.61, 'car'], [33.33, 35.87, 'large vehicle'], [35.29, 37.81, 'large vehicle'], [37.4, 37.82, 'car'], [37.25, 38.42, 'large vehicle'], [38.02, 39.78, 'car'], [39.2, 41.74, 'car'], [39.410000000000004, 41.720000000000006, 'large vehicle'], [41.16, 42.48, 'car'], [41.18, 41.809999999999995, 'large vehicle'], [41.83, 43.68, 'large vehicle'], [42.589999999999996, 43.699999999999996, 'car'], [43.129999999999995, 44.82, 'large vehicle'], [43.3, 43.3, 'car'], [43.32, 43.379999999999995, 'car'], [43.89, 45.669999999999995, 'car'], [45.089999999999996, 47.22, 'large vehicle'], [45.16, 46.3, 'car'], [46.35, 46.35, 'car'], [46.41, 46.42, 'car'], [46.44, 47.629999999999995, 'car'], [47.07, 47.11, 'car'], [47.14, 47.23, 'car'], [47.29, 49.589999999999996, 'car'], [49.01, 51.55, 'large vehicle'], [50.97, 53.51, 'large vehicle'], [52.93, 55.47, 'large vehicle'], [54.89, 57.43, 'large vehicle'], [55.480000000000004, 56.99, 'people speaking'], [57.07, 57.09, 'people speaking'], [56.85, 59.39, 'large vehicle'], [57.290000000000006, 58.81, 'people speaking'], [58.910000000000004, 59.34, 'people speaking'], [58.809999999999995, 61.33, 'large vehicle'], [59.16, 59.79, 'people speaking'], [60.72, 60.97, 'car'], [61.059999999999995, 61.33, 'car'], [60.769999999999996, 63.059999999999995, 'large vehicle'], [62.809999999999995, 63.3, 'car'], [62.75, 64.92, 'large vehicle'], [65.05, 65.24, 'car'], [64.68, 64.68, 'car'], [64.68, 66.49000000000001, 'large vehicle'], [64.7, 64.84, 'car'], [64.96000000000001, 64.97000000000001, 'car'], [65.02000000000001, 65.19000000000001, 'car'], [66.52000000000001, 66.53, 'large vehicle'], [66.56, 66.7, 'large vehicle'], [66.64, 66.73, 'car'], [66.92, 66.94000000000001, 'car'], [67.03, 67.03, 'car'], [67.12, 67.21000000000001, 'car'], [66.71, 69.17, 'large vehicle'], [68.61, 71.14, 'large vehicle'], [70.38, 71.14, 'car'], [70.56, 70.61, 'car'], [70.58, 71.3, 'large vehicle'], [70.81, 73.11, 'car'], [72.52, 75.07, 'car'], [74.48, 77.02000000000001, 'car'], [76.44, 77.37, 'car'], [92.35000000000001, 92.39, 'people walking'], [94.10000000000001, 94.22, 'people speaking'], [94.28, 94.31, 'people speaking'], [94.42, 94.54, 'people speaking'], [94.61, 94.64, 'people speaking'], [119.62, 119.69, 'large vehicle'], [122.28, 124.07, 'car'], [123.61999999999999, 123.66, 'children'], [124.05, 124.06, 'children'], [125.44, 126.03, 'car'], [125.45, 126.58, 'large vehicle'], [125.99, 127.99, 'car'], [127.4, 129.95000000000002, 'car'], [128.3, 128.39000000000001, 'large vehicle'], [129.51000000000002, 129.83, 'large vehicle'], [129.36, 129.77, 'car'], [129.84, 130.95000000000002, 'car'], [131.72000000000003, 131.91000000000003, 'car'], [131.37, 131.39, 'car'], [132.19, 132.59, 'car'], [138.98, 139.73999999999998, 'car'], [139.52, 141.71, 'car'], [141.12, 143.67000000000002, 'car'], [143.08, 145.62, 'car'], [145.04, 147.59, 'car'], [147.0, 149.55, 'car'], [148.96, 151.51000000000002, 'car'], [150.92, 152.85, 'car'], [153.41, 153.45999999999998, 'car'], [152.99, 153.7, 'car'], [153.79999999999998, 154.67, 'car'], [155.51, 155.58, 'car'], [158.82, 159.04, 'large vehicle'], [159.34, 159.35, 'large vehicle'], [159.37, 160.35999999999999, 'large vehicle'], [160.38, 160.38, 'large vehicle'], [160.42, 160.42, 'large vehicle'], [160.44, 161.29, 'large vehicle'], [161.74, 163.27, 'car'], [162.69, 164.70000000000002, 'large vehicle'], [163.68, 165.22, 'car'], [164.64, 167.17999999999998, 'car'], [164.66, 164.76, 'large vehicle'], [165.7, 167.16, 'large vehicle'], [166.6, 167.48, 'car'], [167.04999999999998, 167.18, 'large vehicle'], [167.25, 167.26999999999998, 'large vehicle'], [167.38, 169.14, 'large vehicle'], [169.78, 171.11, 'car'], [170.62, 173.07000000000002, 'car'], [172.48, 175.03, 'car'], [174.44, 176.99, 'car'], [176.61, 176.78, 'car']]\n",
            "[[5.42, 6.46, 'car'], [6.85, 14.3, 'car'], [13.73, 13.76, 'people walking'], [13.74, 18.21, 'large vehicle'], [14.06, 15.02, 'people speaking'], [15.63, 15.95, 'car'], [16.72, 16.78, 'people speaking'], [21.61, 22.32, 'large vehicle'], [22.81, 23.17, 'large vehicle'], [23.81, 38.42, 'large vehicle'], [25.33, 26.06, 'car'], [27.45, 30.62, 'car'], [30.92, 31.93, 'car'], [32.61, 32.61, 'car'], [37.4, 49.59, 'car'], [39.41, 47.22, 'large vehicle'], [49.01, 71.3, 'large vehicle'], [55.48, 59.79, 'people speaking'], [60.72, 61.33, 'car'], [62.81, 63.3, 'car'], [65.05, 65.24, 'car'], [66.64, 67.21, 'car'], [70.38, 77.37, 'car'], [92.35, 92.39, 'people walking'], [94.1, 94.64, 'people speaking'], [119.62, 119.69, 'large vehicle'], [122.28, 124.07, 'car'], [123.62, 123.66, 'children'], [124.05, 124.06, 'children'], [125.44, 130.95, 'car'], [125.45, 126.58, 'large vehicle'], [128.3, 128.39, 'large vehicle'], [129.51, 129.83, 'large vehicle'], [131.72, 132.59, 'car'], [138.98, 152.85, 'car'], [153.41, 154.67, 'car'], [155.51, 155.58, 'car'], [158.82, 159.04, 'large vehicle'], [159.34, 161.29, 'large vehicle'], [161.74, 163.27, 'car'], [162.69, 164.76, 'large vehicle'], [163.68, 167.48, 'car'], [165.7, 169.14, 'large vehicle'], [169.78, 176.99, 'car']]\n"
          ],
          "name": "stdout"
        }
      ]
    },
    {
      "cell_type": "code",
      "metadata": {
        "colab": {
          "base_uri": "https://localhost:8080/",
          "height": 279
        },
        "id": "bdshlz5H72TH",
        "outputId": "62796da8-cf14-4237-b285-85615155ed91"
      },
      "source": [
        "preds_to_se((model.predict(mss_in) >= 0.5).astype(np.float), win_start=0.0)"
      ],
      "execution_count": null,
      "outputs": [
        {
          "output_type": "error",
          "ename": "ValueError",
          "evalue": "ignored",
          "traceback": [
            "\u001b[0;31m---------------------------------------------------------------------------\u001b[0m",
            "\u001b[0;31mValueError\u001b[0m                                Traceback (most recent call last)",
            "\u001b[0;32m<ipython-input-97-2b0039975745>\u001b[0m in \u001b[0;36m<module>\u001b[0;34m()\u001b[0m\n\u001b[0;32m----> 1\u001b[0;31m \u001b[0mpreds_to_se\u001b[0m\u001b[0;34m(\u001b[0m\u001b[0;34m(\u001b[0m\u001b[0mmodel\u001b[0m\u001b[0;34m.\u001b[0m\u001b[0mpredict\u001b[0m\u001b[0;34m(\u001b[0m\u001b[0mmss_in\u001b[0m\u001b[0;34m)\u001b[0m \u001b[0;34m>=\u001b[0m \u001b[0;36m0.5\u001b[0m\u001b[0;34m)\u001b[0m\u001b[0;34m.\u001b[0m\u001b[0mastype\u001b[0m\u001b[0;34m(\u001b[0m\u001b[0mnp\u001b[0m\u001b[0;34m.\u001b[0m\u001b[0mfloat\u001b[0m\u001b[0;34m)\u001b[0m\u001b[0;34m,\u001b[0m \u001b[0mwin_start\u001b[0m\u001b[0;34m=\u001b[0m\u001b[0;36m0.0\u001b[0m\u001b[0;34m)\u001b[0m\u001b[0;34m\u001b[0m\u001b[0;34m\u001b[0m\u001b[0m\n\u001b[0m",
            "\u001b[0;32m<ipython-input-79-ae6b8b6fb877>\u001b[0m in \u001b[0;36mpreds_to_se\u001b[0;34m(p, win_start, audio_clip_length)\u001b[0m\n\u001b[1;32m     17\u001b[0m \u001b[0;34m\u001b[0m\u001b[0m\n\u001b[1;32m     18\u001b[0m   \u001b[0;32mfor\u001b[0m \u001b[0mj\u001b[0m \u001b[0;32min\u001b[0m \u001b[0mrange\u001b[0m\u001b[0;34m(\u001b[0m\u001b[0mp\u001b[0m\u001b[0;34m.\u001b[0m\u001b[0mshape\u001b[0m\u001b[0;34m[\u001b[0m\u001b[0;36m1\u001b[0m\u001b[0;34m]\u001b[0m\u001b[0;34m)\u001b[0m\u001b[0;34m:\u001b[0m\u001b[0;34m\u001b[0m\u001b[0;34m\u001b[0m\u001b[0m\n\u001b[0;32m---> 19\u001b[0;31m     \u001b[0;32mif\u001b[0m \u001b[0mp\u001b[0m\u001b[0;34m[\u001b[0m\u001b[0;36m0\u001b[0m\u001b[0;34m,\u001b[0m \u001b[0mj\u001b[0m\u001b[0;34m]\u001b[0m \u001b[0;34m==\u001b[0m \u001b[0;36m1\u001b[0m\u001b[0;34m:\u001b[0m\u001b[0;34m\u001b[0m\u001b[0;34m\u001b[0m\u001b[0m\n\u001b[0m\u001b[1;32m     20\u001b[0m       \u001b[0mstart_dicts\u001b[0m\u001b[0;34m[\u001b[0m\u001b[0mj\u001b[0m\u001b[0;34m]\u001b[0m \u001b[0;34m=\u001b[0m \u001b[0;36m0\u001b[0m\u001b[0;34m\u001b[0m\u001b[0;34m\u001b[0m\u001b[0m\n\u001b[1;32m     21\u001b[0m \u001b[0;34m\u001b[0m\u001b[0m\n",
            "\u001b[0;31mValueError\u001b[0m: The truth value of an array with more than one element is ambiguous. Use a.any() or a.all()"
          ]
        }
      ]
    },
    {
      "cell_type": "markdown",
      "metadata": {
        "id": "8K_GqiHYc1L1"
      },
      "source": [
        "# Extract annotations"
      ]
    },
    {
      "cell_type": "code",
      "metadata": {
        "id": "sn-j5jCOePYG"
      },
      "source": [
        "import os.path"
      ],
      "execution_count": null,
      "outputs": []
    },
    {
      "cell_type": "code",
      "metadata": {
        "id": "tnOtCC7Oc2gW"
      },
      "source": [
        "def extract_labels(annotation_path):\n",
        "  events = read_annotation(annotation_path)\n",
        "\n",
        "  ann = [[float(e[2]), float(e[3]), e[4]] for e in events]\n",
        "  \n",
        "  n_label = \"/content/eval-files/\" + os.path.basename(annotation_path)\n",
        "\n",
        "  with open(n_label, 'w') as fp:\n",
        "    fp.write('\\n'.join('{},{},{}'.format(round(x[0], 5), round(x[1], 5), x[2]) for x in ann))"
      ],
      "execution_count": null,
      "outputs": []
    },
    {
      "cell_type": "code",
      "metadata": {
        "id": "NAzy0MTYeCE4"
      },
      "source": [
        "os.mkdir(\"/content/eval-files/\")"
      ],
      "execution_count": null,
      "outputs": []
    },
    {
      "cell_type": "code",
      "metadata": {
        "id": "LdW55UvTd9ku"
      },
      "source": [
        "for audio in fold4_val_files:\n",
        "  extract_labels(audio.replace(\".wav\", \".ann\").replace(\"audio-mono\", \"meta\"))"
      ],
      "execution_count": null,
      "outputs": []
    },
    {
      "cell_type": "code",
      "metadata": {
        "colab": {
          "base_uri": "https://localhost:8080/"
        },
        "id": "l9YXmU8MiQS4",
        "outputId": "2180e5e8-9b8d-4fe8-aeaa-fa5c824def98"
      },
      "source": [
        "fold4_val_files"
      ],
      "execution_count": null,
      "outputs": [
        {
          "output_type": "execute_result",
          "data": {
            "text/plain": [
              "{'/content/development/TUT-sound-events-2017-development/audio-mono/street/a001.wav',\n",
              " '/content/development/TUT-sound-events-2017-development/audio-mono/street/a012.wav',\n",
              " '/content/development/TUT-sound-events-2017-development/audio-mono/street/a128.wav',\n",
              " '/content/development/TUT-sound-events-2017-development/audio-mono/street/b005.wav',\n",
              " '/content/development/TUT-sound-events-2017-development/audio-mono/street/b006.wav',\n",
              " '/content/development/TUT-sound-events-2017-development/audio-mono/street/b094.wav'}"
            ]
          },
          "metadata": {
            "tags": []
          },
          "execution_count": 489
        }
      ]
    },
    {
      "cell_type": "code",
      "metadata": {
        "colab": {
          "base_uri": "https://localhost:8080/"
        },
        "id": "JM225vhIFJzg",
        "outputId": "b1d44dc6-d63b-490c-c5bd-18e028ad22cb"
      },
      "source": [
        "fold4_val_files"
      ],
      "execution_count": null,
      "outputs": [
        {
          "output_type": "execute_result",
          "data": {
            "text/plain": [
              "{'/content/development/TUT-sound-events-2017-development/audio-mono/street/a010.wav',\n",
              " '/content/development/TUT-sound-events-2017-development/audio-mono/street/a013.wav',\n",
              " '/content/development/TUT-sound-events-2017-development/audio-mono/street/a129.wav',\n",
              " '/content/development/TUT-sound-events-2017-development/audio-mono/street/b008.wav',\n",
              " '/content/development/TUT-sound-events-2017-development/audio-mono/street/b099.wav',\n",
              " '/content/development/TUT-sound-events-2017-development/audio-mono/street/b100.wav'}"
            ]
          },
          "metadata": {
            "tags": []
          },
          "execution_count": 493
        }
      ]
    },
    {
      "cell_type": "code",
      "metadata": {
        "id": "1ZXUUaK1aK6O"
      },
      "source": [
        "model.load_weights(\"/content/model-best-error-YamNet-fold4.h5\")"
      ],
      "execution_count": null,
      "outputs": []
    },
    {
      "cell_type": "code",
      "metadata": {
        "id": "B4weDIaMeJZe"
      },
      "source": [
        "for audio in fold4_val_files:\n",
        "  audio_file_path = audio\n",
        "  see = mk_preds_YOHO(model, audio_file_path)\n",
        "  n_label = n_label = \"/content/eval-files/\" + os.path.basename(audio_file_path).replace(\".wav\" ,\"\") + \"-se-prediction.ann\"\n",
        "\n",
        "  with open(n_label, 'w') as fp:\n",
        "    fp.write('\\n'.join('{},{},{}'.format(round(x[0], 5), round(x[1], 5), x[2]) for x in see))"
      ],
      "execution_count": null,
      "outputs": []
    },
    {
      "cell_type": "code",
      "metadata": {
        "colab": {
          "base_uri": "https://localhost:8080/"
        },
        "id": "URNTM3aFgDdU",
        "outputId": "4921c406-6bc7-423c-8c89-d10ffb476c7c"
      },
      "source": [
        "destination = \"/content/eval-files/\"\n",
        "test_set = glob.glob(destination + \"*[0-9].ann\")\n",
        "\n",
        "print(test_set)\n",
        "\n",
        "eval_path = \"/content/\"\n",
        "\n",
        "\n",
        "file_list = [\n",
        "    {\n",
        "    'reference_file': tt,\n",
        "    'estimated_file': tt.replace(\".ann\",\"-se-prediction.ann\")\n",
        "    }\n",
        "    for tt in test_set\n",
        "]\n",
        "\n",
        "data = []\n",
        "\n",
        "# Get used event labels\n",
        "all_data = dcase_util.containers.MetaDataContainer()\n",
        "for file_pair in file_list:\n",
        "    reference_event_list = sed_eval.io.load_event_list(\n",
        "        filename=file_pair['reference_file']\n",
        "    )\n",
        "    estimated_event_list = sed_eval.io.load_event_list(\n",
        "        filename=file_pair['estimated_file']\n",
        "    )\n",
        "\n",
        "    data.append({'reference_event_list': reference_event_list,\n",
        "                'estimated_event_list': estimated_event_list})\n",
        "\n",
        "    all_data += reference_event_list\n",
        "\n",
        "event_labels = all_data.unique_event_labels\n",
        "\n",
        "# Start evaluating\n",
        "\n",
        "# Create metrics classes, define parameters\n",
        "segment_based_metrics = sed_eval.sound_event.SegmentBasedMetrics(\n",
        "    event_label_list=event_labels,\n",
        "    time_resolution=1.0\n",
        ")\n",
        "\n",
        "event_based_metrics = sed_eval.sound_event.EventBasedMetrics(\n",
        "    event_label_list=event_labels,\n",
        "    t_collar=1.0\n",
        ")\n",
        "\n",
        "# Go through files\n",
        "for file_pair in data:\n",
        "    segment_based_metrics.evaluate(\n",
        "        reference_event_list=file_pair['reference_event_list'],\n",
        "        estimated_event_list=file_pair['estimated_event_list']\n",
        "    )\n",
        "\n",
        "    event_based_metrics.evaluate(\n",
        "        reference_event_list=file_pair['reference_event_list'],\n",
        "        estimated_event_list=file_pair['estimated_event_list']\n",
        "    )\n",
        "\n",
        "# Get only certain metrics\n",
        "overall_segment_based_metrics = segment_based_metrics.results_overall_metrics()\n",
        "print(\"Accuracy:\", overall_segment_based_metrics['accuracy']['accuracy'])\n",
        "\n",
        "# Or print all metrics as reports\n",
        "\n",
        "model_basename = \"YamNet-fold4.h5\"\n",
        "seg_eval_basename = \"seg eval \" + model_basename.replace(\".h5\", \"\") + \".txt\"\n",
        "ev_eval_basename = \"event eval \" + model_basename.replace(\".h5\", \"\") + \".txt\"\n",
        "with open(os.path.join(eval_path, seg_eval_basename), mode='w') as fp:\n",
        "  fp.write(str(segment_based_metrics))\n",
        "\n",
        "with open(eval_path + \"/seg eval \" + model_basename.replace(\".h5\", \"\") + \".pickle\", 'wb') as f:\n",
        "  pickle.dump(segment_based_metrics, f, pickle.HIGHEST_PROTOCOL)\n",
        "\n",
        "with open(os.path.join(eval_path, ev_eval_basename), mode = 'w') as fp:\n",
        "  fp.write(str(event_based_metrics))\n",
        "\n",
        "with open(eval_path + \"/event eval \" + model_basename.replace(\".h5\", \"\") + \".pickle\", 'wb') as f:\n",
        "  pickle.dump(event_based_metrics, f, pickle.HIGHEST_PROTOCOL)   "
      ],
      "execution_count": null,
      "outputs": [
        {
          "output_type": "stream",
          "text": [
            "['/content/eval-files/a008.ann', '/content/eval-files/b007.ann', '/content/eval-files/b100.ann', '/content/eval-files/a013.ann', '/content/eval-files/b008.ann', '/content/eval-files/a127.ann', '/content/eval-files/b099.ann', '/content/eval-files/b003.ann', '/content/eval-files/a010.ann', '/content/eval-files/b095.ann', '/content/eval-files/b093.ann', '/content/eval-files/a124.ann', '/content/eval-files/b009.ann', '/content/eval-files/b006.ann', '/content/eval-files/a001.ann', '/content/eval-files/b091.ann', '/content/eval-files/a131.ann', '/content/eval-files/b005.ann', '/content/eval-files/a128.ann', '/content/eval-files/a012.ann', '/content/eval-files/a129.ann', '/content/eval-files/b098.ann', '/content/eval-files/a003.ann', '/content/eval-files/b094.ann']\n",
            "Accuracy: 0.8629725883299301\n"
          ],
          "name": "stdout"
        }
      ]
    },
    {
      "cell_type": "code",
      "metadata": {
        "id": "nb-y28iM51AL"
      },
      "source": [
        "files = glob.glob(\"/content/SACRNN/*\")"
      ],
      "execution_count": null,
      "outputs": []
    },
    {
      "cell_type": "code",
      "metadata": {
        "colab": {
          "base_uri": "https://localhost:8080/"
        },
        "id": "5eH_TAcM52WT",
        "outputId": "fc069e43-1f1a-42a8-919d-92131138c29b"
      },
      "source": [
        "files"
      ],
      "execution_count": null,
      "outputs": [
        {
          "output_type": "execute_result",
          "data": {
            "text/plain": [
              "['/content/SACRNN/event eval SACRNN-ensemble-tta-.txt',\n",
              " '/content/SACRNN/model-best-error-SACRNN-fold3.h5',\n",
              " '/content/SACRNN/model-best-error-SACRNN-fold2.h5',\n",
              " '/content/SACRNN/model-best-f1.h5',\n",
              " '/content/SACRNN/model-best-error-SACRNN-fold4.h5',\n",
              " '/content/SACRNN/seg eval SACRNN-ensemble-tta-.txt',\n",
              " '/content/SACRNN/model-best-error-SACRNN-fold1.h5']"
            ]
          },
          "metadata": {
            "tags": []
          },
          "execution_count": 223
        }
      ]
    },
    {
      "cell_type": "code",
      "metadata": {
        "id": "nhpryNhx5whK"
      },
      "source": [
        "for f in files:\n",
        "    shutil.move(f, '/content/SACRNN/')"
      ],
      "execution_count": null,
      "outputs": []
    },
    {
      "cell_type": "code",
      "metadata": {
        "id": "AdVDan0aV7EB"
      },
      "source": [
        "with ZipFile(\"/content/drive/MyDrive/TUT-sound-events-2017/Models/2-7-21/SACRNN.zip\", 'w') as my_zip:\n",
        "  for f in files:\n",
        "    my_zip.write(f)"
      ],
      "execution_count": null,
      "outputs": []
    },
    {
      "cell_type": "code",
      "metadata": {
        "colab": {
          "base_uri": "https://localhost:8080/"
        },
        "id": "SGRselkt13ZR",
        "outputId": "4cc53403-a203-4cbf-d61d-81e02c82e899"
      },
      "source": [
        "overall_segment_based_metrics['f_measure']['f_measure']"
      ],
      "execution_count": null,
      "outputs": [
        {
          "output_type": "execute_result",
          "data": {
            "text/plain": [
              "0.35764375876577836"
            ]
          },
          "metadata": {
            "tags": []
          },
          "execution_count": 128
        }
      ]
    },
    {
      "cell_type": "code",
      "metadata": {
        "id": "N6j4PXn0e6GO",
        "colab": {
          "base_uri": "https://localhost:8080/"
        },
        "outputId": "ec9f2e46-4d4e-4da3-9632-a1f9aeffa955"
      },
      "source": [
        "!nvidia-smi"
      ],
      "execution_count": null,
      "outputs": [
        {
          "output_type": "stream",
          "text": [
            "Sun Jun 27 19:04:44 2021       \n",
            "+-----------------------------------------------------------------------------+\n",
            "| NVIDIA-SMI 465.27       Driver Version: 460.32.03    CUDA Version: 11.2     |\n",
            "|-------------------------------+----------------------+----------------------+\n",
            "| GPU  Name        Persistence-M| Bus-Id        Disp.A | Volatile Uncorr. ECC |\n",
            "| Fan  Temp  Perf  Pwr:Usage/Cap|         Memory-Usage | GPU-Util  Compute M. |\n",
            "|                               |                      |               MIG M. |\n",
            "|===============================+======================+======================|\n",
            "|   0  Tesla P100-PCIE...  Off  | 00000000:00:04.0 Off |                    0 |\n",
            "| N/A   39C    P0    33W / 250W |   6941MiB / 16280MiB |      0%      Default |\n",
            "|                               |                      |                  N/A |\n",
            "+-------------------------------+----------------------+----------------------+\n",
            "                                                                               \n",
            "+-----------------------------------------------------------------------------+\n",
            "| Processes:                                                                  |\n",
            "|  GPU   GI   CI        PID   Type   Process name                  GPU Memory |\n",
            "|        ID   ID                                                   Usage      |\n",
            "|=============================================================================|\n",
            "+-----------------------------------------------------------------------------+\n"
          ],
          "name": "stdout"
        }
      ]
    },
    {
      "cell_type": "markdown",
      "metadata": {
        "id": "1ERKAv_woDxA"
      },
      "source": [
        "# Test on final Evaluation set"
      ]
    },
    {
      "cell_type": "code",
      "metadata": {
        "id": "j39RD55Wlr3Q"
      },
      "source": [
        "def mk_ens_preds_YOHO(models, audio_path, no_of_div = 9, hop_size = 1.96, discard = 0.3, win_length = 2.56, max_event_silence = 0.3, sampling_rate = 44100):\n",
        "  a, win_ranges = construct_examples(audio_path, win_len=win_length,hop_len=hop_size)\n",
        "\n",
        "  preds = np.zeros((len(a), 9, 18))\n",
        "  mss_in = np.zeros((len(a), 257, 40))\n",
        "\n",
        "  for i in range(len(a)):\n",
        "    M = get_log_melspectrogram(a[i])\n",
        "    mss_in[i, :, :] = M.T\n",
        "\n",
        "  ensemble_preds = []\n",
        "\n",
        "  yhats = []\n",
        "\n",
        "  # v = X.shape[0]\n",
        "  # tau = X.shape[1]\n",
        "\n",
        "  # warped_frequency_spectrogram = spec_augment_tensorflow.frequency_masking(X, v=v,  frequency_masking_para=8, frequency_mask_num=1)\n",
        "  # warped_frequency_time_sepctrogram = spec_augment_tensorflow.time_masking(warped_frequency_spectrogram, tau=tau, time_masking_para=25, time_mask_num=2)\n",
        "\n",
        "  # X = warped_frequency_time_sepctrogram\n",
        "\n",
        "  for model in models:\n",
        "    for i in range(10):\n",
        "      v = mss_in.shape[0]\n",
        "      tau = mss_in.shape[1]\n",
        "\n",
        "      X = mss_in.reshape((-1, 257, 40, 1))\n",
        "\n",
        "      warped_frequency_spectrogram = spec_augment_tensorflow.frequency_masking(X, v=v,  frequency_masking_para=8, frequency_mask_num=1)\n",
        "      warped_frequency_time_sepctrogram = spec_augment_tensorflow.time_masking(warped_frequency_spectrogram, tau=tau, time_masking_para=25, time_mask_num=2)\n",
        "\n",
        "      X = warped_frequency_time_sepctrogram\n",
        "\n",
        "      yhats.append(model.predict(X))\n",
        "\n",
        "\n",
        "  # yhats = [model.predict(mss_in) for model in models]\n",
        "  yhats = np.array(yhats)\n",
        "  # sum across ensembles\n",
        "  preds = np.mean(yhats, axis=0)\n",
        "\n",
        "  # preds = model.predict(mss_in)\n",
        "  events = []\n",
        "\n",
        "  for i in range(len(preds)):\n",
        "    p = preds[i, :, :]\n",
        "    events_curr = []\n",
        "    win_width = win_length / no_of_div\n",
        "    for j in range(len(p)):\n",
        "      for jjj in range(0, 6):\n",
        "        if p[j][jjj*3] >= 0.5:\n",
        "          start = win_width * j + win_width * p[j][jjj*3+1] + win_ranges[i][0]\n",
        "          end = p[j][jjj*3+2] * win_width + start\n",
        "          events_curr.append([start, end, rev_class_dict[jjj]])\n",
        "\n",
        "    events += events_curr\n",
        "\n",
        "\n",
        "  class_set = set([c[2] for c in events])\n",
        "  class_wise_events = {}\n",
        "\n",
        "  for c in list(class_set):\n",
        "    class_wise_events[c] = []\n",
        "\n",
        "\n",
        "  for c in events:\n",
        "    class_wise_events[c[2]].append(c)\n",
        "    \n",
        "  \n",
        "  all_events = []\n",
        "\n",
        "  for k in list(class_wise_events.keys()):\n",
        "    curr_events = class_wise_events[k]\n",
        "    count = 0\n",
        "\n",
        "    while count < len(curr_events) - 1:\n",
        "      if (curr_events[count][1] >= curr_events[count + 1][0]) or (curr_events[count + 1][0] - curr_events[count][1] <= max_event_silence):\n",
        "        curr_events[count][1] = max(curr_events[count + 1][1], curr_events[count][1])\n",
        "        del curr_events[count + 1]\n",
        "      else:\n",
        "        count += 1\n",
        "\n",
        "    all_events += curr_events\n",
        "\n",
        "  for i in range(len(all_events)):\n",
        "    all_events[i][0] = round(all_events[i][0], 3)\n",
        "    all_events[i][1] = round(all_events[i][1], 3)\n",
        "\n",
        "  all_events.sort(key=lambda x: x[0])\n",
        "\n",
        "  return all_events\n",
        "\n"
      ],
      "execution_count": null,
      "outputs": []
    },
    {
      "cell_type": "code",
      "metadata": {
        "id": "nh8zyI3Ooojy"
      },
      "source": [
        "os.mkdir(\"/content/eval-files-final\")"
      ],
      "execution_count": null,
      "outputs": []
    },
    {
      "cell_type": "code",
      "metadata": {
        "id": "TP5LNS2UqEuS"
      },
      "source": [
        ""
      ],
      "execution_count": null,
      "outputs": []
    },
    {
      "cell_type": "code",
      "metadata": {
        "id": "tEZiXwcEqFFQ"
      },
      "source": [
        "audio_files = glob.glob(\"/content/evaluation/TUT-sound-events-2017-evaluation/audio/street/*.wav\")"
      ],
      "execution_count": null,
      "outputs": []
    },
    {
      "cell_type": "code",
      "metadata": {
        "id": "etMoJUIQqFFW"
      },
      "source": [
        "os.makedirs(dirname(audio_files[0]).replace(\"audio\", \"audio-mono\"))"
      ],
      "execution_count": null,
      "outputs": []
    },
    {
      "cell_type": "code",
      "metadata": {
        "id": "dB8AY6fGqFFX"
      },
      "source": [
        "for sound in audio_files:\n",
        "  temp_file = sound.replace(\"audio\", \"audio-mono\")\n",
        "  command = command = \"sox \" + sound + \" \" + temp_file + \" channels 1\"\n",
        "  p = Popen(command, stdin=PIPE, stdout=PIPE, stderr=PIPE, shell=True)\n",
        "  output, err = p.communicate()"
      ],
      "execution_count": null,
      "outputs": []
    },
    {
      "cell_type": "code",
      "metadata": {
        "id": "i3oIqjUrqFFY"
      },
      "source": [
        "audio_files_mono = glob.glob(\"/content/evaluation/TUT-sound-events-2017-evaluation/audio-mono/street/*.wav\")"
      ],
      "execution_count": null,
      "outputs": []
    },
    {
      "cell_type": "code",
      "metadata": {
        "id": "6LKMK74yqFFb"
      },
      "source": [
        "test_files = glob.glob(\"/content/evaluation/TUT-sound-events-2017-evaluation/audio-mono/street/*.wav\")"
      ],
      "execution_count": null,
      "outputs": []
    },
    {
      "cell_type": "code",
      "metadata": {
        "id": "tQxoLk7EolXr"
      },
      "source": [
        "def extract_labels_3(annotation_path):\n",
        "  events = read_annotation(annotation_path)\n",
        "\n",
        "  ann = [[float(e[0]), float(e[1]), e[2]] for e in events]\n",
        "  \n",
        "  n_label = \"/content/eval-files-final/\" + os.path.basename(annotation_path)\n",
        "\n",
        "  with open(n_label, 'w') as fp:\n",
        "    fp.write('\\n'.join('{},{},{}'.format(round(x[0], 5), round(x[1], 5), x[2]) for x in ann))"
      ],
      "execution_count": null,
      "outputs": []
    },
    {
      "cell_type": "code",
      "metadata": {
        "id": "rFXsj3QSoIac"
      },
      "source": [
        "for audio in test_files:\n",
        "  extract_labels_3(audio.replace(\".wav\", \".ann\").replace(\"audio-mono\", \"meta\"))\n"
      ],
      "execution_count": null,
      "outputs": []
    },
    {
      "cell_type": "code",
      "metadata": {
        "id": "57hWGSUlUOnC"
      },
      "source": [
        "# os.mkdir(\"/content/drive/MyDrive/TUT-sound-events-2017/Models/2-7-21/\")"
      ],
      "execution_count": null,
      "outputs": []
    },
    {
      "cell_type": "code",
      "metadata": {
        "id": "znh6nGVnkUaX"
      },
      "source": [
        "zip_name = \"/content/drive/MyDrive/TUT-sound-events-2017/Models/2-7-21/SACRNN.zip\"\n",
        "with ZipFile(zip_name, 'r') as zip:\n",
        "  zip.extractall()"
      ],
      "execution_count": null,
      "outputs": []
    },
    {
      "cell_type": "code",
      "metadata": {
        "id": "u9lB2JrdtDGP"
      },
      "source": [
        "for i in range(4):\n",
        "  models[i].load_weights(\"/content/content/SACRNN/model-best-error-SACRNN-fold\" + str(i+1) + \".h5\")"
      ],
      "execution_count": null,
      "outputs": []
    },
    {
      "cell_type": "code",
      "metadata": {
        "id": "K8Kit_SuoReo"
      },
      "source": [
        "for audio in test_files:\n",
        "  audio_file_path = audio\n",
        "  see = mk_ens_preds_CRNN(models, audio_file_path)\n",
        "  n_label = n_label = \"/content/eval-files-final/\" + os.path.basename(audio_file_path).replace(\".wav\" ,\"\") + \"-se-prediction.ann\"\n",
        "\n",
        "  with open(n_label, 'w') as fp:\n",
        "    fp.write('\\n'.join('{},{},{}'.format(round(x[0], 5), round(x[1], 5), x[2]) for x in see))\n"
      ],
      "execution_count": null,
      "outputs": []
    },
    {
      "cell_type": "code",
      "metadata": {
        "colab": {
          "base_uri": "https://localhost:8080/"
        },
        "id": "tX22oBrzoUXO",
        "outputId": "01ce1472-6a22-4182-ef82-345b4146a908"
      },
      "source": [
        "destination = \"/content/eval-files-final/\"\n",
        "test_set = glob.glob(destination + \"*[0-9].ann\")\n",
        "\n",
        "print(test_set)\n",
        "\n",
        "eval_path = \"/content/\"\n",
        "\n",
        "\n",
        "file_list = [\n",
        "    {\n",
        "    'reference_file': tt,\n",
        "    'estimated_file': tt.replace(\".ann\",\"-se-prediction.ann\")\n",
        "    }\n",
        "    for tt in test_set\n",
        "]\n",
        "\n",
        "data = []\n",
        "\n",
        "# Get used event labels\n",
        "all_data = dcase_util.containers.MetaDataContainer()\n",
        "for file_pair in file_list:\n",
        "    reference_event_list = sed_eval.io.load_event_list(\n",
        "        filename=file_pair['reference_file']\n",
        "    )\n",
        "    estimated_event_list = sed_eval.io.load_event_list(\n",
        "        filename=file_pair['estimated_file']\n",
        "    )\n",
        "\n",
        "    data.append({'reference_event_list': reference_event_list,\n",
        "                'estimated_event_list': estimated_event_list})\n",
        "\n",
        "    all_data += reference_event_list\n",
        "\n",
        "event_labels = all_data.unique_event_labels\n",
        "\n",
        "# Start evaluating\n",
        "\n",
        "# Create metrics classes, define parameters\n",
        "segment_based_metrics = sed_eval.sound_event.SegmentBasedMetrics(\n",
        "    event_label_list=event_labels,\n",
        "    time_resolution=1.0\n",
        ")\n",
        "\n",
        "event_based_metrics = sed_eval.sound_event.EventBasedMetrics(\n",
        "    event_label_list=event_labels,\n",
        "    t_collar=1.0\n",
        ")\n",
        "\n",
        "# Go through files\n",
        "for file_pair in data:\n",
        "    segment_based_metrics.evaluate(\n",
        "        reference_event_list=file_pair['reference_event_list'],\n",
        "        estimated_event_list=file_pair['estimated_event_list']\n",
        "    )\n",
        "\n",
        "    event_based_metrics.evaluate(\n",
        "        reference_event_list=file_pair['reference_event_list'],\n",
        "        estimated_event_list=file_pair['estimated_event_list']\n",
        "    )\n",
        "\n",
        "# Get only certain metrics\n",
        "overall_segment_based_metrics = segment_based_metrics.results_overall_metrics()\n",
        "print(\"Accuracy:\", overall_segment_based_metrics['accuracy']['accuracy'])\n",
        "\n",
        "# Or print all metrics as reports\n",
        "\n",
        "model_basename = \"SACRNN-ensemble-no-tta-0_3.h5\"\n",
        "seg_eval_basename = \"seg eval \" + model_basename.replace(\".h5\", \"\") + \".txt\"\n",
        "ev_eval_basename = \"event eval \" + model_basename.replace(\".h5\", \"\") + \".txt\"\n",
        "with open(os.path.join(eval_path, seg_eval_basename), mode='w') as fp:\n",
        "  fp.write(str(segment_based_metrics))\n",
        "\n",
        "with open(eval_path + \"/seg eval \" + model_basename.replace(\".h5\", \"\") + \".pickle\", 'wb') as f:\n",
        "  pickle.dump(segment_based_metrics, f, pickle.HIGHEST_PROTOCOL)\n",
        "\n",
        "with open(os.path.join(eval_path, ev_eval_basename), mode = 'w') as fp:\n",
        "  fp.write(str(event_based_metrics))\n",
        "\n",
        "with open(eval_path + \"/event eval \" + model_basename.replace(\".h5\", \"\") + \".pickle\", 'wb') as f:\n",
        "  pickle.dump(event_based_metrics, f, pickle.HIGHEST_PROTOCOL)   "
      ],
      "execution_count": null,
      "outputs": [
        {
          "output_type": "stream",
          "text": [
            "['/content/eval-files-final/a005.ann', '/content/eval-files-final/a009.ann', '/content/eval-files-final/a011.ann', '/content/eval-files-final/b002.ann', '/content/eval-files-final/b092.ann', '/content/eval-files-final/b004.ann', '/content/eval-files-final/a002.ann', '/content/eval-files-final/a123.ann']\n",
            "Accuracy: 0.7995573518090839\n"
          ],
          "name": "stdout"
        }
      ]
    },
    {
      "cell_type": "markdown",
      "metadata": {
        "id": "KjlGX9cyx4lu"
      },
      "source": [
        "# On Evaluation"
      ]
    },
    {
      "cell_type": "code",
      "metadata": {
        "id": "557B3OKtx6HP"
      },
      "source": [
        "def extract_labels(annotation_path):\n",
        "  events = read_annotation(annotation_path)\n",
        "\n",
        "  ann = [[float(e[2]), float(e[3]), e[4]] for e in events]\n",
        "  \n",
        "  n_label = \"/content/eval-files-2/\" + os.path.basename(annotation_path)\n",
        "\n",
        "  with open(n_label, 'w') as fp:\n",
        "    fp.write('\\n'.join('{},{},{}'.format(round(x[0], 5), round(x[1], 5), x[2]) for x in ann))"
      ],
      "execution_count": null,
      "outputs": []
    },
    {
      "cell_type": "code",
      "metadata": {
        "id": "ESLUfSV_x6HQ"
      },
      "source": [
        "# os.mkdir(\"/content/eval-files/\")"
      ],
      "execution_count": null,
      "outputs": []
    },
    {
      "cell_type": "code",
      "metadata": {
        "id": "wsPltNtcx6HR"
      },
      "source": [
        "for audio in fold4_val_files:\n",
        "  extract_labels(audio.replace(\".wav\", \".ann\").replace(\"audio-mono\", \"meta\"))"
      ],
      "execution_count": null,
      "outputs": []
    },
    {
      "cell_type": "code",
      "metadata": {
        "colab": {
          "base_uri": "https://localhost:8080/"
        },
        "id": "r2nWgKL9x6HS",
        "outputId": "023642d0-d645-49d4-e8f9-9af5d62549a6"
      },
      "source": [
        "for audio in fold4_val_files:\n",
        "  audio_file_path = audio\n",
        "  see = mk_preds_vector(audio_file_path)\n",
        "  n_label = n_label = \"/content/eval-files/\" + os.path.basename(audio_file_path).replace(\".wav\" ,\"\") + \"-se-prediction.ann\"\n",
        "\n",
        "  with open(n_label, 'w') as fp:\n",
        "    fp.write('\\n'.join('{},{},{}'.format(round(x[0], 5), round(x[1], 5), x[2]) for x in see))"
      ],
      "execution_count": null,
      "outputs": [
        {
          "output_type": "stream",
          "text": [
            "audio_clip_length_samples is 3858413\n",
            "audio_clip_length_samples is 2932309\n",
            "audio_clip_length_samples is 3441476\n",
            "audio_clip_length_samples is 3217728\n",
            "audio_clip_length_samples is 3562034\n",
            "audio_clip_length_samples is 3849125\n"
          ],
          "name": "stdout"
        }
      ]
    },
    {
      "cell_type": "code",
      "metadata": {
        "colab": {
          "base_uri": "https://localhost:8080/"
        },
        "id": "WHGzQHRAx6HV",
        "outputId": "437e36c0-70bb-4d7a-9def-a31275cf8be5"
      },
      "source": [
        "# !pip install sed_eval"
      ],
      "execution_count": null,
      "outputs": [
        {
          "output_type": "stream",
          "text": [
            "Collecting sed_eval\n",
            "  Downloading https://files.pythonhosted.org/packages/8d/b2/55591da46753ad1f1d375f5a0d1e12728ae9bf7270ecf47ff7fe902a4274/sed_eval-0.2.1.tar.gz\n",
            "Requirement already satisfied: numpy>=1.7.0 in /usr/local/lib/python3.7/dist-packages (from sed_eval) (1.19.5)\n",
            "Collecting dcase_util>=0.2.4\n",
            "\u001b[?25l  Downloading https://files.pythonhosted.org/packages/9b/d4/7568088c54690a85d7dfa22b86993ce3f3d20affca91c67e4babc7df55b8/dcase_util-0.2.18.tar.gz (2.1MB)\n",
            "\u001b[K     |████████████████████████████████| 2.1MB 10.1MB/s \n",
            "\u001b[?25hRequirement already satisfied: scipy>=0.19.1 in /usr/local/lib/python3.7/dist-packages (from dcase_util>=0.2.4->sed_eval) (1.4.1)\n",
            "Requirement already satisfied: matplotlib>=2.0.0 in /usr/local/lib/python3.7/dist-packages (from dcase_util>=0.2.4->sed_eval) (3.2.2)\n",
            "Requirement already satisfied: librosa>=0.7.0 in /usr/local/lib/python3.7/dist-packages (from dcase_util>=0.2.4->sed_eval) (0.8.1)\n",
            "Requirement already satisfied: six>=1.10.0 in /usr/local/lib/python3.7/dist-packages (from dcase_util>=0.2.4->sed_eval) (1.15.0)\n",
            "Requirement already satisfied: future>=0.16.0 in /usr/local/lib/python3.7/dist-packages (from dcase_util>=0.2.4->sed_eval) (0.16.0)\n",
            "Requirement already satisfied: soundfile>=0.9.0 in /usr/local/lib/python3.7/dist-packages (from dcase_util>=0.2.4->sed_eval) (0.10.3.post1)\n",
            "Requirement already satisfied: pyyaml>=3.11 in /usr/local/lib/python3.7/dist-packages (from dcase_util>=0.2.4->sed_eval) (3.13)\n",
            "Requirement already satisfied: requests>=2.12.4 in /usr/local/lib/python3.7/dist-packages (from dcase_util>=0.2.4->sed_eval) (2.23.0)\n",
            "Requirement already satisfied: tqdm>=4.11.2 in /usr/local/lib/python3.7/dist-packages (from dcase_util>=0.2.4->sed_eval) (4.41.1)\n",
            "Requirement already satisfied: pydot-ng>=1.0.0 in /usr/local/lib/python3.7/dist-packages (from dcase_util>=0.2.4->sed_eval) (2.0.0)\n",
            "Collecting validators>=0.12.0\n",
            "  Downloading https://files.pythonhosted.org/packages/db/2f/7fed3ee94ad665ad2c1de87f858f10a7785251ff75b4fd47987888d07ef1/validators-0.18.2-py3-none-any.whl\n",
            "Collecting python-magic>=0.4.13\n",
            "  Downloading https://files.pythonhosted.org/packages/d3/99/c89223c6547df268596899334ee77b3051f606077317023617b1c43162fb/python_magic-0.4.24-py2.py3-none-any.whl\n",
            "Requirement already satisfied: kiwisolver>=1.0.1 in /usr/local/lib/python3.7/dist-packages (from matplotlib>=2.0.0->dcase_util>=0.2.4->sed_eval) (1.3.1)\n",
            "Requirement already satisfied: pyparsing!=2.0.4,!=2.1.2,!=2.1.6,>=2.0.1 in /usr/local/lib/python3.7/dist-packages (from matplotlib>=2.0.0->dcase_util>=0.2.4->sed_eval) (2.4.7)\n",
            "Requirement already satisfied: python-dateutil>=2.1 in /usr/local/lib/python3.7/dist-packages (from matplotlib>=2.0.0->dcase_util>=0.2.4->sed_eval) (2.8.1)\n",
            "Requirement already satisfied: cycler>=0.10 in /usr/local/lib/python3.7/dist-packages (from matplotlib>=2.0.0->dcase_util>=0.2.4->sed_eval) (0.10.0)\n",
            "Requirement already satisfied: resampy>=0.2.2 in /usr/local/lib/python3.7/dist-packages (from librosa>=0.7.0->dcase_util>=0.2.4->sed_eval) (0.2.2)\n",
            "Requirement already satisfied: pooch>=1.0 in /usr/local/lib/python3.7/dist-packages (from librosa>=0.7.0->dcase_util>=0.2.4->sed_eval) (1.4.0)\n",
            "Requirement already satisfied: joblib>=0.14 in /usr/local/lib/python3.7/dist-packages (from librosa>=0.7.0->dcase_util>=0.2.4->sed_eval) (1.0.1)\n",
            "Requirement already satisfied: packaging>=20.0 in /usr/local/lib/python3.7/dist-packages (from librosa>=0.7.0->dcase_util>=0.2.4->sed_eval) (20.9)\n",
            "Requirement already satisfied: numba>=0.43.0 in /usr/local/lib/python3.7/dist-packages (from librosa>=0.7.0->dcase_util>=0.2.4->sed_eval) (0.51.2)\n",
            "Requirement already satisfied: scikit-learn!=0.19.0,>=0.14.0 in /usr/local/lib/python3.7/dist-packages (from librosa>=0.7.0->dcase_util>=0.2.4->sed_eval) (0.22.2.post1)\n",
            "Requirement already satisfied: audioread>=2.0.0 in /usr/local/lib/python3.7/dist-packages (from librosa>=0.7.0->dcase_util>=0.2.4->sed_eval) (2.1.9)\n",
            "Requirement already satisfied: decorator>=3.0.0 in /usr/local/lib/python3.7/dist-packages (from librosa>=0.7.0->dcase_util>=0.2.4->sed_eval) (4.4.2)\n",
            "Requirement already satisfied: cffi>=1.0 in /usr/local/lib/python3.7/dist-packages (from soundfile>=0.9.0->dcase_util>=0.2.4->sed_eval) (1.14.5)\n",
            "Requirement already satisfied: chardet<4,>=3.0.2 in /usr/local/lib/python3.7/dist-packages (from requests>=2.12.4->dcase_util>=0.2.4->sed_eval) (3.0.4)\n",
            "Requirement already satisfied: idna<3,>=2.5 in /usr/local/lib/python3.7/dist-packages (from requests>=2.12.4->dcase_util>=0.2.4->sed_eval) (2.10)\n",
            "Requirement already satisfied: certifi>=2017.4.17 in /usr/local/lib/python3.7/dist-packages (from requests>=2.12.4->dcase_util>=0.2.4->sed_eval) (2021.5.30)\n",
            "Requirement already satisfied: urllib3!=1.25.0,!=1.25.1,<1.26,>=1.21.1 in /usr/local/lib/python3.7/dist-packages (from requests>=2.12.4->dcase_util>=0.2.4->sed_eval) (1.24.3)\n",
            "Requirement already satisfied: appdirs in /usr/local/lib/python3.7/dist-packages (from pooch>=1.0->librosa>=0.7.0->dcase_util>=0.2.4->sed_eval) (1.4.4)\n",
            "Requirement already satisfied: setuptools in /usr/local/lib/python3.7/dist-packages (from numba>=0.43.0->librosa>=0.7.0->dcase_util>=0.2.4->sed_eval) (57.0.0)\n",
            "Requirement already satisfied: llvmlite<0.35,>=0.34.0.dev0 in /usr/local/lib/python3.7/dist-packages (from numba>=0.43.0->librosa>=0.7.0->dcase_util>=0.2.4->sed_eval) (0.34.0)\n",
            "Requirement already satisfied: pycparser in /usr/local/lib/python3.7/dist-packages (from cffi>=1.0->soundfile>=0.9.0->dcase_util>=0.2.4->sed_eval) (2.20)\n",
            "Building wheels for collected packages: sed-eval, dcase-util\n",
            "  Building wheel for sed-eval (setup.py) ... \u001b[?25l\u001b[?25hdone\n",
            "  Created wheel for sed-eval: filename=sed_eval-0.2.1-cp37-none-any.whl size=26124 sha256=4a0d10640f3160d5c6254e62f22a16c677ba1c13432374d6c178805e71838d79\n",
            "  Stored in directory: /root/.cache/pip/wheels/3c/72/5d/5fc941f98c583ce9d8adee7f13e24b46459aeded4125f9c369\n",
            "  Building wheel for dcase-util (setup.py) ... \u001b[?25l\u001b[?25hdone\n",
            "  Created wheel for dcase-util: filename=dcase_util-0.2.18-cp37-none-any.whl size=2147233 sha256=e523506b66b038e8ad25f544ab32ce7d2aaf3e2f0c8025307e5fbd5748612a38\n",
            "  Stored in directory: /root/.cache/pip/wheels/d1/5d/9e/c94cd8bfb80541c73d549c734cafcd3de994dbb117a6485c81\n",
            "Successfully built sed-eval dcase-util\n",
            "Installing collected packages: validators, python-magic, dcase-util, sed-eval\n",
            "Successfully installed dcase-util-0.2.18 python-magic-0.4.24 sed-eval-0.2.1 validators-0.18.2\n"
          ],
          "name": "stdout"
        }
      ]
    },
    {
      "cell_type": "code",
      "metadata": {
        "id": "bpl5hM_Nx6HW"
      },
      "source": [
        "import sed_eval\n",
        "import dcase_util"
      ],
      "execution_count": null,
      "outputs": []
    },
    {
      "cell_type": "code",
      "metadata": {
        "id": "6uaIO842x6HY"
      },
      "source": [
        "import pickle"
      ],
      "execution_count": null,
      "outputs": []
    },
    {
      "cell_type": "code",
      "metadata": {
        "id": "XG6zj_7rx6HZ"
      },
      "source": [
        ""
      ],
      "execution_count": null,
      "outputs": []
    },
    {
      "cell_type": "code",
      "metadata": {
        "colab": {
          "base_uri": "https://localhost:8080/"
        },
        "id": "_gia2oeNx6HZ",
        "outputId": "20948756-aa1c-4657-ee7b-78d90cdb07cf"
      },
      "source": [
        "destination = \"/content/eval-files/\"\n",
        "test_set = glob.glob(destination + \"*[0-9].ann\")\n",
        "\n",
        "print(test_set)\n",
        "\n",
        "eval_path = \"/content/\"\n",
        "\n",
        "\n",
        "file_list = [\n",
        "    {\n",
        "    'reference_file': tt,\n",
        "    'estimated_file': tt.replace(\".ann\",\"-se-prediction.ann\")\n",
        "    }\n",
        "    for tt in test_set\n",
        "]\n",
        "\n",
        "data = []\n",
        "\n",
        "# Get used event labels\n",
        "all_data = dcase_util.containers.MetaDataContainer()\n",
        "for file_pair in file_list:\n",
        "    reference_event_list = sed_eval.io.load_event_list(\n",
        "        filename=file_pair['reference_file']\n",
        "    )\n",
        "    estimated_event_list = sed_eval.io.load_event_list(\n",
        "        filename=file_pair['estimated_file']\n",
        "    )\n",
        "\n",
        "    data.append({'reference_event_list': reference_event_list,\n",
        "                'estimated_event_list': estimated_event_list})\n",
        "\n",
        "    all_data += reference_event_list\n",
        "\n",
        "event_labels = all_data.unique_event_labels\n",
        "\n",
        "# Start evaluating\n",
        "\n",
        "# Create metrics classes, define parameters\n",
        "segment_based_metrics = sed_eval.sound_event.SegmentBasedMetrics(\n",
        "    event_label_list=event_labels,\n",
        "    time_resolution=1.0\n",
        ")\n",
        "\n",
        "event_based_metrics = sed_eval.sound_event.EventBasedMetrics(\n",
        "    event_label_list=event_labels,\n",
        "    t_collar=1.0\n",
        ")\n",
        "\n",
        "# Go through files\n",
        "for file_pair in data:\n",
        "    segment_based_metrics.evaluate(\n",
        "        reference_event_list=file_pair['reference_event_list'],\n",
        "        estimated_event_list=file_pair['estimated_event_list']\n",
        "    )\n",
        "\n",
        "    event_based_metrics.evaluate(\n",
        "        reference_event_list=file_pair['reference_event_list'],\n",
        "        estimated_event_list=file_pair['estimated_event_list']\n",
        "    )\n",
        "\n",
        "# Get only certain metrics\n",
        "overall_segment_based_metrics = segment_based_metrics.results_overall_metrics()\n",
        "print(\"Accuracy:\", overall_segment_based_metrics['accuracy']['accuracy'])\n",
        "\n",
        "# Or print all metrics as reports\n",
        "\n",
        "model_basename = \"YamNet-4.h5\"\n",
        "seg_eval_basename = \"seg eval \" + model_basename.replace(\".h5\", \"\") + \".txt\"\n",
        "ev_eval_basename = \"event eval \" + model_basename.replace(\".h5\", \"\") + \".txt\"\n",
        "with open(os.path.join(eval_path, seg_eval_basename), mode='w') as fp:\n",
        "  fp.write(str(segment_based_metrics))\n",
        "\n",
        "with open(eval_path + \"/seg eval \" + model_basename.replace(\".h5\", \"\") + \".pickle\", 'wb') as f:\n",
        "  pickle.dump(segment_based_metrics, f, pickle.HIGHEST_PROTOCOL)\n",
        "\n",
        "with open(os.path.join(eval_path, ev_eval_basename), mode = 'w') as fp:\n",
        "  fp.write(str(event_based_metrics))\n",
        "\n",
        "with open(eval_path + \"/event eval \" + model_basename.replace(\".h5\", \"\") + \".pickle\", 'wb') as f:\n",
        "  pickle.dump(event_based_metrics, f, pickle.HIGHEST_PROTOCOL)   "
      ],
      "execution_count": null,
      "outputs": [
        {
          "output_type": "stream",
          "text": [
            "['/content/eval-files/b095.ann', '/content/eval-files/a012.ann', '/content/eval-files/b005.ann', '/content/eval-files/a003.ann', '/content/eval-files/a128.ann', '/content/eval-files/a013.ann', '/content/eval-files/a008.ann', '/content/eval-files/b008.ann', '/content/eval-files/b094.ann', '/content/eval-files/b098.ann', '/content/eval-files/b100.ann', '/content/eval-files/b009.ann', '/content/eval-files/a131.ann', '/content/eval-files/b091.ann', '/content/eval-files/a001.ann', '/content/eval-files/b007.ann', '/content/eval-files/a129.ann', '/content/eval-files/b093.ann', '/content/eval-files/a010.ann', '/content/eval-files/a127.ann', '/content/eval-files/b006.ann', '/content/eval-files/a124.ann', '/content/eval-files/b099.ann', '/content/eval-files/b003.ann']\n",
            "Accuracy: 0.8454506012148258\n"
          ],
          "name": "stdout"
        }
      ]
    }
  ]
}